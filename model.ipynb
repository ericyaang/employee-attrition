{
 "cells": [
  {
   "cell_type": "code",
   "execution_count": 1,
   "metadata": {},
   "outputs": [],
   "source": [
    "# Import libraries\n",
    "import numpy as np\n",
    "import pandas as pd\n",
    "from matplotlib import pyplot as plt \n",
    "from sklearn.model_selection import train_test_split\n",
    "\n",
    "# Import and suppress warnings\n",
    "import warnings\n",
    "warnings.filterwarnings('ignore')\n",
    "\n",
    "# Set seeds for reproducibility\n",
    "seed = 123"
   ]
  },
  {
   "cell_type": "code",
   "execution_count": 2,
   "metadata": {},
   "outputs": [],
   "source": [
    "# Read data\n",
    "df = pd.read_csv(r'\\Users\\Eric\\Documents\\python_beginner_scripts\\dc_competitions\\data\\employee_churn_data.csv')\n",
    "\n",
    "# Set test set aside\n",
    "train, test = train_test_split(df, test_size=0.2, random_state=seed, stratify=df[\"left\"])"
   ]
  },
  {
   "cell_type": "code",
   "execution_count": 22,
   "metadata": {},
   "outputs": [],
   "source": [
    "# Enconding target variable\n",
    "train[\"left\"] = train[\"left\"].map({'yes': 1, 'no': 0})\n",
    "test[\"left\"] = test[\"left\"].map({'yes': 1, 'no': 0})\n",
    "\n",
    "train[\"tenure\"] = train[\"tenure\"].astype(\"int8\")\n",
    "test[\"tenure\"] = test[\"tenure\"].astype(\"int8\")"
   ]
  },
  {
   "cell_type": "code",
   "execution_count": 23,
   "metadata": {},
   "outputs": [
    {
     "name": "stdout",
     "output_type": "stream",
     "text": [
      "Mem. usage decreased to  0.35 Mb (0.0% reduction)\n",
      "Mem. usage decreased to  0.09 Mb (0.0% reduction)\n"
     ]
    }
   ],
   "source": [
    "# Encode correcty labels for each variable\n",
    "def reduce_mem_usage(df, verbose=True): # <-- code from\n",
    "    numerics = ['int8','int16', 'int32', 'int64', 'float16', 'float32', 'float64']\n",
    "    start_mem = df.memory_usage().sum() / 1024**2\n",
    "\n",
    "    for col in df.columns:\n",
    "        col_type = df[col].dtypes\n",
    "\n",
    "        if col_type in numerics:\n",
    "            c_min = df[col].min()\n",
    "            c_max = df[col].max()\n",
    "\n",
    "            if str(col_type)[:3] == 'int':\n",
    "                if c_min > np.iinfo(np.int8).min and c_max < np.iinfo(np.int8).max:\n",
    "                    df[col] = df[col].astype(np.int8)\n",
    "                elif c_min > np.iinfo(np.int16).min and c_max < np.iinfo(np.int16).max:\n",
    "                    df[col] = df[col].astype(np.int16)\n",
    "                elif c_min > np.iinfo(np.int32).min and c_max < np.iinfo(np.int32).max:\n",
    "                    df[col] = df[col].astype(np.int32)\n",
    "                elif c_min > np.iinfo(np.int64).min and c_max < np.iinfo(np.int64).max:\n",
    "                    df[col] = df[col].astype(np.int64)  \n",
    "            else:\n",
    "                if c_min > np.finfo(np.float32).min and c_max < np.finfo(np.float32).max:\n",
    "                    df[col] = df[col].astype(np.float32)\n",
    "                else:\n",
    "                    df[col] = df[col].astype(np.float64)\n",
    "\n",
    "    end_mem = df.memory_usage().sum() / 1024**2\n",
    "\n",
    "    if verbose:\n",
    "        print('Mem. usage decreased to {:5.2f} Mb ({:.1f}% reduction)'.format(end_mem, 100 * (start_mem - end_mem) / start_mem))\n",
    " \n",
    "    return df\n",
    "\n",
    "train = reduce_mem_usage(train)\n",
    "test = reduce_mem_usage(test)"
   ]
  },
  {
   "cell_type": "code",
   "execution_count": 24,
   "metadata": {},
   "outputs": [
    {
     "name": "stdout",
     "output_type": "stream",
     "text": [
      "<class 'pandas.core.frame.DataFrame'>\n",
      "Int64Index: 7632 entries, 4408 to 8603\n",
      "Data columns (total 10 columns):\n",
      " #   Column         Non-Null Count  Dtype  \n",
      "---  ------         --------------  -----  \n",
      " 0   department     7632 non-null   object \n",
      " 1   promoted       7632 non-null   int8   \n",
      " 2   review         7632 non-null   float32\n",
      " 3   projects       7632 non-null   int8   \n",
      " 4   salary         7632 non-null   object \n",
      " 5   tenure         7632 non-null   int8   \n",
      " 6   satisfaction   7632 non-null   float32\n",
      " 7   bonus          7632 non-null   int8   \n",
      " 8   avg_hrs_month  7632 non-null   float32\n",
      " 9   left           0 non-null      float64\n",
      "dtypes: float32(3), float64(1), int8(4), object(2)\n",
      "memory usage: 357.8+ KB\n"
     ]
    }
   ],
   "source": [
    "train.info()"
   ]
  },
  {
   "cell_type": "code",
   "execution_count": 25,
   "metadata": {},
   "outputs": [],
   "source": [
    "# Separate labels and target for the full training set\n",
    "X, y =  train.drop(columns=\"left\", axis = 1), train[\"left\"]\n",
    "\n",
    "# Separate labels and target for test set\n",
    "X_test, y_test =  test.drop(columns=\"left\", axis = 1), test[\"left\"]"
   ]
  },
  {
   "cell_type": "code",
   "execution_count": 10,
   "metadata": {},
   "outputs": [],
   "source": [
    "# Create train subset and validation set\n",
    "X_train, X_val, y_train, y_val = train_test_split(X, y, test_size=0.25, stratify=y, random_state=seed)"
   ]
  },
  {
   "cell_type": "code",
   "execution_count": 14,
   "metadata": {},
   "outputs": [
    {
     "data": {
      "text/plain": [
       "(7632, 1908, 1908)"
      ]
     },
     "execution_count": 14,
     "metadata": {},
     "output_type": "execute_result"
    }
   ],
   "source": [
    "# Check splits (full training/Validation/Test)\n",
    "len(X), len(X_val), len(X_test)"
   ]
  },
  {
   "cell_type": "code",
   "execution_count": 7,
   "metadata": {},
   "outputs": [],
   "source": [
    "# Get variable names\n",
    "bi_vars = [col for col in X.columns if X[col].nunique() == 2]\n",
    "num_vars = [col for col in X.columns if (X[col].dtype in [\"int8\", \"float32\"]) & (col not in bi_vars)]\n",
    "cat_vars = [col for col in X.columns if (col not in num_vars) & (col not in bi_vars)]"
   ]
  },
  {
   "cell_type": "code",
   "execution_count": 18,
   "metadata": {},
   "outputs": [
    {
     "data": {
      "text/plain": [
       "['review', 'projects', 'tenure', 'satisfaction', 'avg_hrs_month']"
      ]
     },
     "execution_count": 18,
     "metadata": {},
     "output_type": "execute_result"
    }
   ],
   "source": [
    "num_vars"
   ]
  },
  {
   "cell_type": "code",
   "execution_count": 19,
   "metadata": {},
   "outputs": [
    {
     "data": {
      "text/plain": [
       "count    7632.000000\n",
       "mean        6.549528\n",
       "std         1.418616\n",
       "min         2.000000\n",
       "25%         5.000000\n",
       "50%         7.000000\n",
       "75%         8.000000\n",
       "max        11.000000\n",
       "Name: tenure, dtype: float64"
      ]
     },
     "execution_count": 19,
     "metadata": {},
     "output_type": "execute_result"
    }
   ],
   "source": [
    "X.tenure.describe()"
   ]
  },
  {
   "cell_type": "code",
   "execution_count": 20,
   "metadata": {},
   "outputs": [
    {
     "name": "stdout",
     "output_type": "stream",
     "text": [
      "<class 'pandas.core.frame.DataFrame'>\n",
      "RangeIndex: 9540 entries, 0 to 9539\n",
      "Data columns (total 10 columns):\n",
      " #   Column         Non-Null Count  Dtype  \n",
      "---  ------         --------------  -----  \n",
      " 0   department     9540 non-null   object \n",
      " 1   promoted       9540 non-null   int64  \n",
      " 2   review         9540 non-null   float64\n",
      " 3   projects       9540 non-null   int64  \n",
      " 4   salary         9540 non-null   object \n",
      " 5   tenure         9540 non-null   float64\n",
      " 6   satisfaction   9540 non-null   float64\n",
      " 7   bonus          9540 non-null   int64  \n",
      " 8   avg_hrs_month  9540 non-null   float64\n",
      " 9   left           9540 non-null   object \n",
      "dtypes: float64(4), int64(3), object(3)\n",
      "memory usage: 745.4+ KB\n"
     ]
    }
   ],
   "source": [
    "df.info()"
   ]
  },
  {
   "cell_type": "code",
   "execution_count": 16,
   "metadata": {},
   "outputs": [
    {
     "name": "stdout",
     "output_type": "stream",
     "text": [
      "<class 'pandas.core.frame.DataFrame'>\n",
      "Int64Index: 7632 entries, 4408 to 8603\n",
      "Data columns (total 9 columns):\n",
      " #   Column         Non-Null Count  Dtype  \n",
      "---  ------         --------------  -----  \n",
      " 0   department     7632 non-null   object \n",
      " 1   promoted       7632 non-null   int8   \n",
      " 2   review         7632 non-null   float32\n",
      " 3   projects       7632 non-null   int8   \n",
      " 4   salary         7632 non-null   object \n",
      " 5   tenure         7632 non-null   float32\n",
      " 6   satisfaction   7632 non-null   float32\n",
      " 7   bonus          7632 non-null   int8   \n",
      " 8   avg_hrs_month  7632 non-null   float32\n",
      "dtypes: float32(4), int8(3), object(2)\n",
      "memory usage: 320.5+ KB\n"
     ]
    }
   ],
   "source": [
    "X.info()"
   ]
  },
  {
   "cell_type": "code",
   "execution_count": 11,
   "metadata": {},
   "outputs": [
    {
     "data": {
      "text/html": [
       "<div>\n",
       "<style scoped>\n",
       "    .dataframe tbody tr th:only-of-type {\n",
       "        vertical-align: middle;\n",
       "    }\n",
       "\n",
       "    .dataframe tbody tr th {\n",
       "        vertical-align: top;\n",
       "    }\n",
       "\n",
       "    .dataframe thead th {\n",
       "        text-align: right;\n",
       "    }\n",
       "</style>\n",
       "<table border=\"1\" class=\"dataframe\">\n",
       "  <thead>\n",
       "    <tr style=\"text-align: right;\">\n",
       "      <th></th>\n",
       "      <th>department</th>\n",
       "      <th>promoted</th>\n",
       "      <th>review</th>\n",
       "      <th>projects</th>\n",
       "      <th>salary</th>\n",
       "      <th>tenure</th>\n",
       "      <th>satisfaction</th>\n",
       "      <th>bonus</th>\n",
       "      <th>avg_hrs_month</th>\n",
       "    </tr>\n",
       "  </thead>\n",
       "  <tbody>\n",
       "    <tr>\n",
       "      <th>3262</th>\n",
       "      <td>logistics</td>\n",
       "      <td>0</td>\n",
       "      <td>0.671787</td>\n",
       "      <td>4</td>\n",
       "      <td>medium</td>\n",
       "      <td>5.0</td>\n",
       "      <td>0.605868</td>\n",
       "      <td>0</td>\n",
       "      <td>180.646698</td>\n",
       "    </tr>\n",
       "    <tr>\n",
       "      <th>1922</th>\n",
       "      <td>engineering</td>\n",
       "      <td>0</td>\n",
       "      <td>0.531631</td>\n",
       "      <td>4</td>\n",
       "      <td>high</td>\n",
       "      <td>5.0</td>\n",
       "      <td>0.803060</td>\n",
       "      <td>0</td>\n",
       "      <td>180.486176</td>\n",
       "    </tr>\n",
       "    <tr>\n",
       "      <th>5920</th>\n",
       "      <td>sales</td>\n",
       "      <td>0</td>\n",
       "      <td>0.597231</td>\n",
       "      <td>4</td>\n",
       "      <td>low</td>\n",
       "      <td>8.0</td>\n",
       "      <td>0.411003</td>\n",
       "      <td>0</td>\n",
       "      <td>189.771439</td>\n",
       "    </tr>\n",
       "    <tr>\n",
       "      <th>5727</th>\n",
       "      <td>sales</td>\n",
       "      <td>0</td>\n",
       "      <td>0.757523</td>\n",
       "      <td>4</td>\n",
       "      <td>medium</td>\n",
       "      <td>7.0</td>\n",
       "      <td>0.159473</td>\n",
       "      <td>0</td>\n",
       "      <td>186.211975</td>\n",
       "    </tr>\n",
       "    <tr>\n",
       "      <th>9372</th>\n",
       "      <td>operations</td>\n",
       "      <td>0</td>\n",
       "      <td>0.717641</td>\n",
       "      <td>4</td>\n",
       "      <td>medium</td>\n",
       "      <td>8.0</td>\n",
       "      <td>0.603279</td>\n",
       "      <td>0</td>\n",
       "      <td>188.298721</td>\n",
       "    </tr>\n",
       "  </tbody>\n",
       "</table>\n",
       "</div>"
      ],
      "text/plain": [
       "       department  promoted    review  projects  salary  tenure  satisfaction  \\\n",
       "3262    logistics         0  0.671787         4  medium     5.0      0.605868   \n",
       "1922  engineering         0  0.531631         4    high     5.0      0.803060   \n",
       "5920        sales         0  0.597231         4     low     8.0      0.411003   \n",
       "5727        sales         0  0.757523         4  medium     7.0      0.159473   \n",
       "9372   operations         0  0.717641         4  medium     8.0      0.603279   \n",
       "\n",
       "      bonus  avg_hrs_month  \n",
       "3262      0     180.646698  \n",
       "1922      0     180.486176  \n",
       "5920      0     189.771439  \n",
       "5727      0     186.211975  \n",
       "9372      0     188.298721  "
      ]
     },
     "execution_count": 11,
     "metadata": {},
     "output_type": "execute_result"
    }
   ],
   "source": [
    "X_train.head()"
   ]
  },
  {
   "cell_type": "code",
   "execution_count": 15,
   "metadata": {},
   "outputs": [
    {
     "data": {
      "text/html": [
       "<div>\n",
       "<style scoped>\n",
       "    .dataframe tbody tr th:only-of-type {\n",
       "        vertical-align: middle;\n",
       "    }\n",
       "\n",
       "    .dataframe tbody tr th {\n",
       "        vertical-align: top;\n",
       "    }\n",
       "\n",
       "    .dataframe thead th {\n",
       "        text-align: right;\n",
       "    }\n",
       "</style>\n",
       "<table border=\"1\" class=\"dataframe\">\n",
       "  <thead>\n",
       "    <tr style=\"text-align: right;\">\n",
       "      <th></th>\n",
       "      <th>department</th>\n",
       "      <th>promoted</th>\n",
       "      <th>review</th>\n",
       "      <th>projects</th>\n",
       "      <th>salary</th>\n",
       "      <th>tenure</th>\n",
       "      <th>satisfaction</th>\n",
       "      <th>bonus</th>\n",
       "      <th>avg_hrs_month</th>\n",
       "    </tr>\n",
       "  </thead>\n",
       "  <tbody>\n",
       "    <tr>\n",
       "      <th>4408</th>\n",
       "      <td>sales</td>\n",
       "      <td>0</td>\n",
       "      <td>0.853635</td>\n",
       "      <td>4</td>\n",
       "      <td>medium</td>\n",
       "      <td>5.0</td>\n",
       "      <td>0.259219</td>\n",
       "      <td>0</td>\n",
       "      <td>180.178543</td>\n",
       "    </tr>\n",
       "    <tr>\n",
       "      <th>5368</th>\n",
       "      <td>retail</td>\n",
       "      <td>0</td>\n",
       "      <td>0.661567</td>\n",
       "      <td>4</td>\n",
       "      <td>medium</td>\n",
       "      <td>6.0</td>\n",
       "      <td>0.311056</td>\n",
       "      <td>0</td>\n",
       "      <td>183.607849</td>\n",
       "    </tr>\n",
       "    <tr>\n",
       "      <th>4920</th>\n",
       "      <td>retail</td>\n",
       "      <td>0</td>\n",
       "      <td>0.591863</td>\n",
       "      <td>3</td>\n",
       "      <td>low</td>\n",
       "      <td>7.0</td>\n",
       "      <td>0.277298</td>\n",
       "      <td>0</td>\n",
       "      <td>185.288177</td>\n",
       "    </tr>\n",
       "    <tr>\n",
       "      <th>8402</th>\n",
       "      <td>engineering</td>\n",
       "      <td>0</td>\n",
       "      <td>0.659410</td>\n",
       "      <td>3</td>\n",
       "      <td>medium</td>\n",
       "      <td>7.0</td>\n",
       "      <td>0.698308</td>\n",
       "      <td>0</td>\n",
       "      <td>187.385620</td>\n",
       "    </tr>\n",
       "    <tr>\n",
       "      <th>5617</th>\n",
       "      <td>retail</td>\n",
       "      <td>0</td>\n",
       "      <td>0.653639</td>\n",
       "      <td>2</td>\n",
       "      <td>medium</td>\n",
       "      <td>6.0</td>\n",
       "      <td>0.219496</td>\n",
       "      <td>0</td>\n",
       "      <td>183.541580</td>\n",
       "    </tr>\n",
       "  </tbody>\n",
       "</table>\n",
       "</div>"
      ],
      "text/plain": [
       "       department  promoted    review  projects  salary  tenure  satisfaction  \\\n",
       "4408        sales         0  0.853635         4  medium     5.0      0.259219   \n",
       "5368       retail         0  0.661567         4  medium     6.0      0.311056   \n",
       "4920       retail         0  0.591863         3     low     7.0      0.277298   \n",
       "8402  engineering         0  0.659410         3  medium     7.0      0.698308   \n",
       "5617       retail         0  0.653639         2  medium     6.0      0.219496   \n",
       "\n",
       "      bonus  avg_hrs_month  \n",
       "4408      0     180.178543  \n",
       "5368      0     183.607849  \n",
       "4920      0     185.288177  \n",
       "8402      0     187.385620  \n",
       "5617      0     183.541580  "
      ]
     },
     "execution_count": 15,
     "metadata": {},
     "output_type": "execute_result"
    }
   ],
   "source": [
    "X.head()"
   ]
  }
 ],
 "metadata": {
  "interpreter": {
   "hash": "3e49c3c660bb3da03bb80538bab8d3b7446076cf250c2919d2328cdd966089b9"
  },
  "kernelspec": {
   "display_name": "Python 3.9.7 ('env_full')",
   "language": "python",
   "name": "python3"
  },
  "language_info": {
   "codemirror_mode": {
    "name": "ipython",
    "version": 3
   },
   "file_extension": ".py",
   "mimetype": "text/x-python",
   "name": "python",
   "nbconvert_exporter": "python",
   "pygments_lexer": "ipython3",
   "version": "3.9.7"
  },
  "orig_nbformat": 4
 },
 "nbformat": 4,
 "nbformat_minor": 2
}
