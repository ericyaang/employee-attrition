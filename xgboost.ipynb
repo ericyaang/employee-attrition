{
 "cells": [
  {
   "cell_type": "markdown",
   "metadata": {},
   "source": [
    "1. Split train and test\n",
    "2. compute cross validation with\n",
    "3. check confusion matrix\n",
    "4. fit train and predict with test set\n",
    "5. check results"
   ]
  },
  {
   "cell_type": "markdown",
   "metadata": {},
   "source": [
    "## Data"
   ]
  },
  {
   "cell_type": "code",
   "execution_count": 2,
   "metadata": {},
   "outputs": [],
   "source": [
    "import pandas as pd\n",
    "import numpy as np\n",
    "import random\n",
    "import matplotlib.pyplot as plt\n",
    "\n",
    "seeds = 1234\n",
    "def set_seeds(seed=seeds):\n",
    "    \"\"\"Set seeds for reproducibility.\"\"\"\n",
    "    np.random.seed(seed)\n",
    "    random.seed(seed)\n",
    "# Set seeds\n",
    "set_seeds()"
   ]
  },
  {
   "cell_type": "markdown",
   "metadata": {},
   "source": [
    "### Load data"
   ]
  },
  {
   "cell_type": "code",
   "execution_count": 3,
   "metadata": {},
   "outputs": [
    {
     "data": {
      "text/html": [
       "<div>\n",
       "<style scoped>\n",
       "    .dataframe tbody tr th:only-of-type {\n",
       "        vertical-align: middle;\n",
       "    }\n",
       "\n",
       "    .dataframe tbody tr th {\n",
       "        vertical-align: top;\n",
       "    }\n",
       "\n",
       "    .dataframe thead th {\n",
       "        text-align: right;\n",
       "    }\n",
       "</style>\n",
       "<table border=\"1\" class=\"dataframe\">\n",
       "  <thead>\n",
       "    <tr style=\"text-align: right;\">\n",
       "      <th></th>\n",
       "      <th>department</th>\n",
       "      <th>promoted</th>\n",
       "      <th>review</th>\n",
       "      <th>projects</th>\n",
       "      <th>salary</th>\n",
       "      <th>tenure</th>\n",
       "      <th>satisfaction</th>\n",
       "      <th>bonus</th>\n",
       "      <th>avg_hrs_month</th>\n",
       "      <th>left</th>\n",
       "    </tr>\n",
       "  </thead>\n",
       "  <tbody>\n",
       "    <tr>\n",
       "      <th>4408</th>\n",
       "      <td>sales</td>\n",
       "      <td>0</td>\n",
       "      <td>0.853635</td>\n",
       "      <td>4</td>\n",
       "      <td>medium</td>\n",
       "      <td>5</td>\n",
       "      <td>0.259219</td>\n",
       "      <td>0</td>\n",
       "      <td>180.178543</td>\n",
       "      <td>1</td>\n",
       "    </tr>\n",
       "    <tr>\n",
       "      <th>5368</th>\n",
       "      <td>retail</td>\n",
       "      <td>0</td>\n",
       "      <td>0.661567</td>\n",
       "      <td>4</td>\n",
       "      <td>medium</td>\n",
       "      <td>6</td>\n",
       "      <td>0.311056</td>\n",
       "      <td>0</td>\n",
       "      <td>183.607849</td>\n",
       "      <td>0</td>\n",
       "    </tr>\n",
       "    <tr>\n",
       "      <th>4920</th>\n",
       "      <td>retail</td>\n",
       "      <td>0</td>\n",
       "      <td>0.591863</td>\n",
       "      <td>3</td>\n",
       "      <td>low</td>\n",
       "      <td>7</td>\n",
       "      <td>0.277298</td>\n",
       "      <td>0</td>\n",
       "      <td>185.288177</td>\n",
       "      <td>0</td>\n",
       "    </tr>\n",
       "    <tr>\n",
       "      <th>8402</th>\n",
       "      <td>engineering</td>\n",
       "      <td>0</td>\n",
       "      <td>0.659410</td>\n",
       "      <td>3</td>\n",
       "      <td>medium</td>\n",
       "      <td>7</td>\n",
       "      <td>0.698308</td>\n",
       "      <td>0</td>\n",
       "      <td>187.385620</td>\n",
       "      <td>1</td>\n",
       "    </tr>\n",
       "    <tr>\n",
       "      <th>5617</th>\n",
       "      <td>retail</td>\n",
       "      <td>0</td>\n",
       "      <td>0.653639</td>\n",
       "      <td>2</td>\n",
       "      <td>medium</td>\n",
       "      <td>6</td>\n",
       "      <td>0.219496</td>\n",
       "      <td>0</td>\n",
       "      <td>183.541580</td>\n",
       "      <td>0</td>\n",
       "    </tr>\n",
       "  </tbody>\n",
       "</table>\n",
       "</div>"
      ],
      "text/plain": [
       "       department  promoted    review  projects  salary  tenure  satisfaction  \\\n",
       "4408        sales         0  0.853635         4  medium       5      0.259219   \n",
       "5368       retail         0  0.661567         4  medium       6      0.311056   \n",
       "4920       retail         0  0.591863         3     low       7      0.277298   \n",
       "8402  engineering         0  0.659410         3  medium       7      0.698308   \n",
       "5617       retail         0  0.653639         2  medium       6      0.219496   \n",
       "\n",
       "      bonus  avg_hrs_month  left  \n",
       "4408      0     180.178543     1  \n",
       "5368      0     183.607849     0  \n",
       "4920      0     185.288177     0  \n",
       "8402      0     187.385620     1  \n",
       "5617      0     183.541580     0  "
      ]
     },
     "execution_count": 3,
     "metadata": {},
     "output_type": "execute_result"
    }
   ],
   "source": [
    "# load full training set\n",
    "train = pd.read_pickle(r\"train_enc.pkl\")\n",
    "test = pd.read_pickle(r\"test_enc.pkl\")\n",
    "\n",
    "train.head()"
   ]
  },
  {
   "cell_type": "markdown",
   "metadata": {},
   "source": [
    "### Split"
   ]
  },
  {
   "cell_type": "code",
   "execution_count": 4,
   "metadata": {},
   "outputs": [],
   "source": [
    "# Separate labels and target from full training set\n",
    "X_train, y_train =  train.drop(columns=\"left\", axis = 1), train[\"left\"]\n",
    "# Separate labels and target from test set\n",
    "X_test, y_test =  test.drop(columns=\"left\", axis = 1), test[\"left\"]\n"
   ]
  },
  {
   "cell_type": "code",
   "execution_count": 5,
   "metadata": {},
   "outputs": [],
   "source": [
    "# Get variable names\n",
    "bi_vars = [col for col in X_train.columns if X_train[col].nunique() == 2]\n",
    "num_vars = [col for col in X_train.columns if (X_train[col].dtype in [\"int8\", \"float32\"]) & (col not in bi_vars)]\n",
    "cat_vars = [col for col in X_train.columns if (col not in num_vars) & (col not in bi_vars)]"
   ]
  },
  {
   "cell_type": "code",
   "execution_count": 6,
   "metadata": {},
   "outputs": [],
   "source": [
    "from sklearn.pipeline import Pipeline, make_pipeline\n",
    "from sklearn.compose import ColumnTransformer\n",
    "from sklearn.preprocessing import OneHotEncoder\n",
    "from sklearn.preprocessing import MinMaxScaler\n",
    "from sklearn.model_selection import RepeatedStratifiedKFold\n",
    "\n",
    "# Preprocessing recipe\n",
    "preprocess = ColumnTransformer(\n",
    "    transformers=[\n",
    "        (\"scaler\", MinMaxScaler(), num_vars),\n",
    "        (\"ohe\", OneHotEncoder(), cat_vars)\n",
    "    ], remainder = \"passthrough\"\n",
    ")\n",
    "\n",
    "# K-folds\n",
    "cv = RepeatedStratifiedKFold(n_splits=10, n_repeats=2, random_state=seeds)"
   ]
  },
  {
   "cell_type": "code",
   "execution_count": 353,
   "metadata": {},
   "outputs": [
    {
     "name": "stdout",
     "output_type": "stream",
     "text": [
      "Dummy | F2 score 0.673 +/- 0.001\n",
      "LightGBM | F2 score 0.723 +/- 0.026\n",
      "Catboost | F2 score 0.722 +/- 0.023\n",
      "XGBoost | F2 score 0.720 +/- 0.023\n"
     ]
    },
    {
     "data": {
      "image/png": "[encoded data removed]",
      "text/plain": [
       "<Figure size 432x288 with 1 Axes>"
      ]
     },
     "metadata": {},
     "output_type": "display_data"
    }
   ],
   "source": [
    "# Algorithm comparison\n",
    "\n",
    "from sklearn.dummy import DummyClassifier\n",
    "from xgboost import XGBClassifier\n",
    "from lightgbm import LGBMClassifier\n",
    "from catboost import CatBoostClassifier\n",
    "from sklearn.model_selection import cross_val_score\n",
    "from sklearn.metrics import fbeta_score, make_scorer, precision_score, recall_score\n",
    "\n",
    "##### Functions #########################\n",
    "# generate f2 metric\n",
    "def f2_measure(y_true, y_pred):\n",
    "    return fbeta_score(y_true, y_pred, beta=2)\n",
    "\n",
    "# Generate list for each clf\n",
    "def get_clfs():\n",
    "    clfs, names = list(), list()\n",
    "    # DummyClassifier \n",
    "    clfs.append(DummyClassifier(strategy='constant', constant=1))\n",
    "    names.append(\"Dummy\")\n",
    "    # LightGBM\n",
    "    clfs.append(LGBMClassifier(random_state=seeds))\n",
    "    names.append(\"LightGBM\")\n",
    "    # Catboost\n",
    "    clfs.append(CatBoostClassifier(random_state=seeds))\n",
    "    names.append(\"Catboost\")\n",
    "    # XGBoost \n",
    "    clfs.append(XGBClassifier(random_state=seeds))\n",
    "    names.append(\"XGBoost\")\n",
    "    return clfs, names\n",
    "\n",
    "# Cross validation\n",
    "def evaluate_model(X, y, model):\n",
    "    # Define the model evaluation metric\n",
    "    metric = make_scorer(f2_measure)\n",
    "    # Evaluate model\n",
    "    scores = cross_val_score(model, X, y, scoring=metric, cv=cv, n_jobs=-1)\n",
    "    return scores\n",
    "\n",
    "###########################################################################\n",
    "\n",
    "\n",
    "clfs, names = get_clfs()\n",
    "results = list()\n",
    "# Evaluate each model\n",
    "for i in range(len(clfs)):\n",
    "    # Wrap the model in a pipeline\n",
    "    base_pipeline = make_pipeline(preprocess, clfs[i])\n",
    "    # Evaluate the model and store results\n",
    "    scores = evaluate_model(X_train, y_train, base_pipeline) # <-- using training set for CV\n",
    "    results.append(scores)\n",
    "    # Summarize and store\n",
    "    print('%s | F2 score %.3f +/- %.3f' % (names[i], np.mean(scores), np.std(scores)))\n",
    "    # Plot the results\n",
    "plt.boxplot(results, labels=names, showmeans=True, vert=False, patch_artist=1,boxprops=dict(facecolor=\"white\"),\n",
    "            meanprops=dict(marker='D',markerfacecolor='limegreen',markersize=6),\n",
    "            medianprops=dict(color=\"orange\"))\n",
    "#plt.style.use('fivethirtyeight')\n",
    "plt.show()"
   ]
  },
  {
   "cell_type": "code",
   "execution_count": 377,
   "metadata": {},
   "outputs": [
    {
     "data": {
      "text/plain": [
       "Pipeline(steps=[('columntransformer',\n",
       "                 ColumnTransformer(remainder='passthrough',\n",
       "                                   transformers=[('scaler', MinMaxScaler(),\n",
       "                                                  ['review', 'projects',\n",
       "                                                   'tenure', 'satisfaction',\n",
       "                                                   'avg_hrs_month']),\n",
       "                                                 ('ohe', OneHotEncoder(),\n",
       "                                                  ['department', 'salary'])])),\n",
       "                ('xgbclassifier',\n",
       "                 XGBClassifier(base_score=None, booster=None,\n",
       "                               colsample_bylevel=None, colsample_bynode=None,\n",
       "                               colsample_byt...\n",
       "                               interaction_constraints=None, learning_rate=None,\n",
       "                               max_delta_step=None, max_depth=None,\n",
       "                               min_child_weight=None, missing=nan,\n",
       "                               monotone_constraints=None, n_estimators=100,\n",
       "                               n_jobs=None, num_parallel_tree=None,\n",
       "                               predictor=None, random_state=1234,\n",
       "                               reg_alpha=None, reg_lambda=None,\n",
       "                               scale_pos_weight=None, subsample=None,\n",
       "                               tree_method=None, validate_parameters=None,\n",
       "                               verbosity=None))])"
      ]
     },
     "execution_count": 377,
     "metadata": {},
     "output_type": "execute_result"
    }
   ],
   "source": [
    "base_pipeline"
   ]
  },
  {
   "cell_type": "code",
   "execution_count": 357,
   "metadata": {},
   "outputs": [],
   "source": [
    "# Learning Curves\n",
    "from sklearn.model_selection import learning_curve\n",
    "train_sizes, train_scores, test_scores =  learning_curve(estimator=base_pipeline,\n",
    "                               X=X_train,\n",
    "                               y=y_train,\n",
    "                               train_sizes=np.linspace(0.1, 1.0, 10),\n",
    "                               cv=cv,\n",
    "                               n_jobs=3)"
   ]
  },
  {
   "cell_type": "code",
   "execution_count": 376,
   "metadata": {},
   "outputs": [
    {
     "data": {
      "image/png": "[encoded data removed]",
      "text/plain": [
       "<Figure size 640x480 with 1 Axes>"
      ]
     },
     "metadata": {},
     "output_type": "display_data"
    }
   ],
   "source": [
    "# Plot learning curves\n",
    "plt.style.use('default')\n",
    "\n",
    "train_mean = np.mean(train_scores, axis=1)\n",
    "train_std = np.std(train_scores, axis=1)\n",
    "test_mean = np.mean(test_scores, axis=1)\n",
    "test_std = np.std(test_scores, axis=1)\n",
    "\n",
    "plt.plot(train_sizes, train_mean,\n",
    "         color='blue', marker='o',\n",
    "         markersize=5, label='Training accuracy')\n",
    "\n",
    "plt.fill_between(train_sizes,\n",
    "                 train_mean + train_std,\n",
    "                 train_mean - train_std,\n",
    "                 alpha=0.15, color='blue')\n",
    "\n",
    "plt.plot(train_sizes, test_mean,\n",
    "         color='green', linestyle='--',\n",
    "         marker='s', markersize=5,\n",
    "         label='Validation accuracy')\n",
    "\n",
    "plt.fill_between(train_sizes,\n",
    "                 test_mean + test_std,\n",
    "                 test_mean - test_std,\n",
    "                 alpha=0.15, color='green')\n",
    "\n",
    "plt.grid()\n",
    "plt.xlabel('Number of training examples')\n",
    "plt.ylabel('F2 Score')\n",
    "plt.legend(loc='lower right')\n",
    "plt.ylim([0.8, 1.03])\n",
    "plt.tight_layout()\n",
    "plt.show()"
   ]
  },
  {
   "cell_type": "markdown",
   "metadata": {},
   "source": [
    "## Cost senstive models"
   ]
  },
  {
   "cell_type": "code",
   "execution_count": 381,
   "metadata": {},
   "outputs": [
    {
     "name": "stdout",
     "output_type": "stream",
     "text": [
      "LightGBM | F2 score 0.789 +/- 0.024\n",
      "Catboost | F2 score 0.784 +/- 0.019\n",
      "XGBoost | F2 score 0.763 +/- 0.023\n"
     ]
    },
    {
     "data": {
      "image/png": "[encoded data removed]",
      "text/plain": [
       "<Figure size 640x480 with 1 Axes>"
      ]
     },
     "metadata": {},
     "output_type": "display_data"
    }
   ],
   "source": [
    "# Generate list for each clf\n",
    "def get_clfs():\n",
    "    clfs, names = list(), list()\n",
    "    # LightGBM\n",
    "    clfs.append(LGBMClassifier(random_state=seeds, scale_pos_weight=2))\n",
    "    names.append(\"LightGBM\")\n",
    "    # Catboost\n",
    "    clfs.append(CatBoostClassifier(random_state=seeds, scale_pos_weight=2))\n",
    "    names.append(\"Catboost\")\n",
    "    # XGBoost \n",
    "    clfs.append(XGBClassifier(random_state=seeds, scale_pos_weight=2))\n",
    "    names.append(\"XGBoost\")\n",
    "    return clfs, names\n",
    "\n",
    "clfs, names = get_clfs()\n",
    "results = list()\n",
    "# Evaluate each model\n",
    "for i in range(len(clfs)):\n",
    "    # Wrap the model in a pipeline\n",
    "    base_pipeline = make_pipeline(preprocess, clfs[i])\n",
    "    # Evaluate the model and store results\n",
    "    scores = evaluate_model(X_train, y_train, base_pipeline) # <-- using training set for CV\n",
    "    results.append(scores)\n",
    "    # Summarize and store\n",
    "    print('%s | F2 score %.3f +/- %.3f' % (names[i], np.mean(scores), np.std(scores)))\n",
    "    # Plot the results\n",
    "plt.boxplot(results, labels=names, showmeans=True, vert=False, patch_artist=1,boxprops=dict(facecolor=\"white\"),\n",
    "            meanprops=dict(marker='D',markerfacecolor='limegreen',markersize=6),\n",
    "            medianprops=dict(color=\"orange\"))\n",
    "plt.show()"
   ]
  },
  {
   "cell_type": "code",
   "execution_count": 384,
   "metadata": {},
   "outputs": [
    {
     "name": "stdout",
     "output_type": "stream",
     "text": [
      "TL | F2 score 0.758 +/- 0.026\n",
      "ENN | F2 score 0.813 +/- 0.017\n",
      "RENN | F2 score 0.815 +/- 0.014\n",
      "SM | F2 score 0.784 +/- 0.022\n",
      "BSM | F2 score 0.794 +/- 0.018\n",
      "SVMSM | F2 score 0.778 +/- 0.026\n",
      "SMTL | F2 score 0.788 +/- 0.023\n",
      "SMTENN | F2 score 0.822 +/- 0.017\n"
     ]
    },
    {
     "data": {
      "image/png": "[encoded data removed]",
      "text/plain": [
       "<Figure size 640x480 with 1 Axes>"
      ]
     },
     "metadata": {},
     "output_type": "display_data"
    }
   ],
   "source": [
    "# Under\n",
    "from imblearn.under_sampling import TomekLinks\n",
    "from imblearn.under_sampling import EditedNearestNeighbours\n",
    "from imblearn.under_sampling import RepeatedEditedNearestNeighbours\n",
    "# Over\n",
    "from imblearn.over_sampling import BorderlineSMOTE\n",
    "from imblearn.over_sampling import SMOTE\n",
    "from imblearn.over_sampling import SVMSMOTE\n",
    "# Under + Over (smote)\n",
    "from imblearn.combine import SMOTETomek \n",
    "from imblearn.under_sampling import TomekLinks\n",
    "from imblearn.combine import SMOTEENN\n",
    "from imblearn.pipeline import Pipeline\n",
    "\n",
    "lgbm_model = LGBMClassifier(random_seed=seeds)\n",
    "\n",
    "def get_sampling_methods():\n",
    "    s_models, s_names = list(), list()\n",
    "    # TL\n",
    "    s_models.append(TomekLinks())\n",
    "    s_names.append('TL')\n",
    "    # ENN\n",
    "    s_models.append(EditedNearestNeighbours())\n",
    "    s_names.append('ENN')\n",
    "    # RENN\n",
    "    s_models.append(RepeatedEditedNearestNeighbours())\n",
    "    s_names.append('RENN')\n",
    "    # SM\n",
    "    s_models.append(SMOTE())\n",
    "    s_names.append('SM')\n",
    "    # BSM\n",
    "    s_models.append(BorderlineSMOTE())\n",
    "    s_names.append('BSM')\n",
    "    # SVMSM\n",
    "    s_models.append(SVMSMOTE())\n",
    "    s_names.append('SVMSM')\n",
    "    # SMOTETomek\n",
    "    s_models.append(SMOTETomek(tomek=TomekLinks(sampling_strategy='majority'),random_state=seeds))\n",
    "    s_names.append('SMTL')\n",
    "    # SMOTEENN\n",
    "    s_models.append(SMOTEENN(enn=EditedNearestNeighbours(sampling_strategy='majority'),random_state=seeds))\n",
    "    s_names.append('SMTENN')\n",
    "    return s_models, s_names\n",
    "\n",
    "# Define models\n",
    "s_models, s_names = get_sampling_methods()\n",
    "s_results = list()\n",
    "# Evaluate each model\n",
    "for i in range(len(s_models)):\n",
    "    # Wrap the model in a pipeline\n",
    "    s_pipeline = Pipeline(steps=[\n",
    "        ('recipe', preprocess),\n",
    "        ('s',s_models[i]),\n",
    "        (\"m\", lgbm_model)\n",
    "    ])\n",
    "    # Evaluate the model and store results\n",
    "    s_scores = evaluate_model(X_train, y_train, s_pipeline)\n",
    "    s_results.append(s_scores)\n",
    "    # Summarize and store\n",
    "    print('%s | F2 score %.3f +/- %.3f' % (s_names[i], np.mean(s_scores), np.std(s_scores)))\n",
    "# Plot the results\n",
    "plt.boxplot(s_results, labels=s_names, showmeans=True, vert=False, patch_artist=1,boxprops=dict(facecolor=\"white\"),\n",
    "            meanprops=dict(marker='D',markerfacecolor='limegreen',markersize=6),\n",
    "            medianprops=dict(color=\"orange\"))\n",
    "plt.show()"
   ]
  },
  {
   "cell_type": "code",
   "execution_count": 28,
   "metadata": {},
   "outputs": [],
   "source": [
    "from imblearn.pipeline import make_pipeline, Pipeline\n",
    "\n",
    "smoteen = SMOTEENN(enn=EditedNearestNeighbours(sampling_strategy='majority'),random_state=seeds)\n",
    "\n",
    "lgbm_model = LGBMClassifier(random_seed=seeds)\n",
    "\n",
    "pipe_lgbm = make_pipeline(preprocess, smoteen, lgbm_model)"
   ]
  },
  {
   "cell_type": "code",
   "execution_count": 26,
   "metadata": {},
   "outputs": [
    {
     "data": {
      "text/plain": [
       "{'boosting_type': 'gbdt',\n",
       " 'class_weight': None,\n",
       " 'colsample_bytree': 1.0,\n",
       " 'importance_type': 'split',\n",
       " 'learning_rate': 0.1,\n",
       " 'max_depth': -1,\n",
       " 'min_child_samples': 20,\n",
       " 'min_child_weight': 0.001,\n",
       " 'min_split_gain': 0.0,\n",
       " 'n_estimators': 100,\n",
       " 'n_jobs': -1,\n",
       " 'num_leaves': 31,\n",
       " 'objective': None,\n",
       " 'random_state': None,\n",
       " 'reg_alpha': 0.0,\n",
       " 'reg_lambda': 0.0,\n",
       " 'silent': 'warn',\n",
       " 'subsample': 1.0,\n",
       " 'subsample_for_bin': 200000,\n",
       " 'subsample_freq': 0,\n",
       " 'random_seed': 1234}"
      ]
     },
     "execution_count": 26,
     "metadata": {},
     "output_type": "execute_result"
    }
   ],
   "source": [
    "lgbm_model.get_params()"
   ]
  },
  {
   "cell_type": "code",
   "execution_count": 23,
   "metadata": {},
   "outputs": [],
   "source": [
    "import joblib\n",
    "import lightgbm as lgb\n",
    "\n",
    "from sklearn.compose import make_column_transformer\n",
    "from sklearn.model_selection import StratifiedKFold\n",
    "from sklearn.pipeline import make_pipeline\n",
    "from sklearn.preprocessing import OneHotEncoder\n",
    "\n",
    "from optuna.distributions import IntUniformDistribution, UniformDistribution\n",
    "from optuna.integration import OptunaSearchCV\n",
    "\n",
    "\n",
    "param_distributions = {\n",
    "    'n_estimators': IntUniformDistribution(10, 100),\n",
    "    'learning_rate': UniformDistribution(0.001, 0.1),\n",
    "\n",
    "}\n",
    "\n",
    "metric = make_scorer(f2_measure)\n",
    "\n",
    "model_name = pipe_lgbm.steps[-1][0]\n",
    "param_distributions = {model_name+'__'+key: value for key, value in param_distributions.items()}"
   ]
  },
  {
   "cell_type": "code",
   "execution_count": 24,
   "metadata": {},
   "outputs": [
    {
     "name": "stderr",
     "output_type": "stream",
     "text": [
      "C:\\Users\\Eric\\AppData\\Local\\Temp/ipykernel_22304/3788423351.py:1: ExperimentalWarning: OptunaSearchCV is experimental (supported from v0.17.0). The interface can change in the future.\n",
      "  optuna_search = OptunaSearchCV(pipe_lgbm, param_distributions, n_trials=50, n_jobs=-1, cv=cv, scoring=metric, random_state=seeds)\n",
      "\u001b[32m[I 2022-02-16 20:15:08,429]\u001b[0m A new study created in memory with name: no-name-3842b64c-3303-4a7d-994a-ba3397d51241\u001b[0m\n",
      "C:\\ProgramData\\Anaconda3\\envs\\env_full\\lib\\site-packages\\optuna\\study\\study.py:393: FutureWarning: `n_jobs` argument has been deprecated in v2.7.0. This feature will be removed in v4.0.0. See https://github.com/optuna/optuna/releases/tag/v2.7.0.\n",
      "  warnings.warn(\n",
      "\u001b[32m[I 2022-02-16 20:16:24,463]\u001b[0m Trial 1 finished with value: 0.8208837050861792 and parameters: {'lgbmclassifier__n_estimators': 20, 'lgbmclassifier__learning_rate': 0.05812522467990001}. Best is trial 1 with value: 0.8208837050861792.\u001b[0m\n",
      "\u001b[32m[I 2022-02-16 20:16:40,630]\u001b[0m Trial 0 finished with value: 0.8057395982766135 and parameters: {'lgbmclassifier__n_estimators': 34, 'lgbmclassifier__learning_rate': 0.009757830001012907}. Best is trial 1 with value: 0.8208837050861792.\u001b[0m\n",
      "\u001b[32m[I 2022-02-16 20:16:42,059]\u001b[0m Trial 5 finished with value: 0.8223925417934661 and parameters: {'lgbmclassifier__n_estimators': 40, 'lgbmclassifier__learning_rate': 0.08912461025873036}. Best is trial 5 with value: 0.8223925417934661.\u001b[0m\n",
      "\u001b[32m[I 2022-02-16 20:16:49,130]\u001b[0m Trial 7 finished with value: 0.8236612316409827 and parameters: {'lgbmclassifier__n_estimators': 49, 'lgbmclassifier__learning_rate': 0.08168123225862678}. Best is trial 7 with value: 0.8236612316409827.\u001b[0m\n",
      "\u001b[32m[I 2022-02-16 20:17:07,672]\u001b[0m Trial 6 finished with value: 0.6732157836445104 and parameters: {'lgbmclassifier__n_estimators': 68, 'lgbmclassifier__learning_rate': 0.0017401018402012209}. Best is trial 7 with value: 0.8236612316409827.\u001b[0m\n",
      "\u001b[32m[I 2022-02-16 20:17:15,400]\u001b[0m Trial 2 finished with value: 0.8227095879790195 and parameters: {'lgbmclassifier__n_estimators': 79, 'lgbmclassifier__learning_rate': 0.09477200856600485}. Best is trial 7 with value: 0.8236612316409827.\u001b[0m\n",
      "\u001b[32m[I 2022-02-16 20:17:25,009]\u001b[0m Trial 3 finished with value: 0.8222416739488443 and parameters: {'lgbmclassifier__n_estimators': 94, 'lgbmclassifier__learning_rate': 0.08754370438219117}. Best is trial 7 with value: 0.8236612316409827.\u001b[0m\n",
      "\u001b[32m[I 2022-02-16 20:17:29,099]\u001b[0m Trial 4 finished with value: 0.8226311108035341 and parameters: {'lgbmclassifier__n_estimators': 99, 'lgbmclassifier__learning_rate': 0.06881008753966536}. Best is trial 7 with value: 0.8236612316409827.\u001b[0m\n",
      "\u001b[32m[I 2022-02-16 20:18:02,627]\u001b[0m Trial 10 finished with value: 0.8209103156149793 and parameters: {'lgbmclassifier__n_estimators': 26, 'lgbmclassifier__learning_rate': 0.09644246626724524}. Best is trial 7 with value: 0.8236612316409827.\u001b[0m\n",
      "\u001b[32m[I 2022-02-16 20:18:06,074]\u001b[0m Trial 9 finished with value: 0.8158349017952748 and parameters: {'lgbmclassifier__n_estimators': 34, 'lgbmclassifier__learning_rate': 0.016914084775300653}. Best is trial 7 with value: 0.8236612316409827.\u001b[0m\n",
      "\u001b[32m[I 2022-02-16 20:18:38,667]\u001b[0m Trial 14 finished with value: 0.8187809922024225 and parameters: {'lgbmclassifier__n_estimators': 21, 'lgbmclassifier__learning_rate': 0.0519225913341261}. Best is trial 7 with value: 0.8236612316409827.\u001b[0m\n",
      "\u001b[32m[I 2022-02-16 20:18:42,621]\u001b[0m Trial 8 finished with value: 0.8226941850721683 and parameters: {'lgbmclassifier__n_estimators': 98, 'lgbmclassifier__learning_rate': 0.04155992859261084}. Best is trial 7 with value: 0.8236612316409827.\u001b[0m\n",
      "\u001b[32m[I 2022-02-16 20:18:55,497]\u001b[0m Trial 12 finished with value: 0.8200989979595976 and parameters: {'lgbmclassifier__n_estimators': 64, 'lgbmclassifier__learning_rate': 0.027759793004658747}. Best is trial 7 with value: 0.8236612316409827.\u001b[0m\n",
      "\u001b[32m[I 2022-02-16 20:19:04,534]\u001b[0m Trial 11 finished with value: 0.8228798248206894 and parameters: {'lgbmclassifier__n_estimators': 98, 'lgbmclassifier__learning_rate': 0.07446692575241338}. Best is trial 7 with value: 0.8236612316409827.\u001b[0m\n",
      "\u001b[32m[I 2022-02-16 20:19:08,752]\u001b[0m Trial 13 finished with value: 0.8218919002539998 and parameters: {'lgbmclassifier__n_estimators': 72, 'lgbmclassifier__learning_rate': 0.0642871679795499}. Best is trial 7 with value: 0.8236612316409827.\u001b[0m\n",
      "\u001b[32m[I 2022-02-16 20:19:22,603]\u001b[0m Trial 15 finished with value: 0.822342567966443 and parameters: {'lgbmclassifier__n_estimators': 74, 'lgbmclassifier__learning_rate': 0.08352366555933526}. Best is trial 7 with value: 0.8236612316409827.\u001b[0m\n",
      "\u001b[32m[I 2022-02-16 20:19:44,018]\u001b[0m Trial 17 finished with value: 0.8207672246039615 and parameters: {'lgbmclassifier__n_estimators': 51, 'lgbmclassifier__learning_rate': 0.039500160186923795}. Best is trial 7 with value: 0.8236612316409827.\u001b[0m\n",
      "\u001b[32m[I 2022-02-16 20:20:14,107]\u001b[0m Trial 16 finished with value: 0.8224197815713457 and parameters: {'lgbmclassifier__n_estimators': 99, 'lgbmclassifier__learning_rate': 0.024220537062948414}. Best is trial 7 with value: 0.8236612316409827.\u001b[0m\n",
      "\u001b[32m[I 2022-02-16 20:20:29,045]\u001b[0m Trial 18 finished with value: 0.8223437305089858 and parameters: {'lgbmclassifier__n_estimators': 67, 'lgbmclassifier__learning_rate': 0.07339054974322308}. Best is trial 7 with value: 0.8236612316409827.\u001b[0m\n",
      "\u001b[32m[I 2022-02-16 20:20:29,725]\u001b[0m Trial 19 finished with value: 0.8239234298030829 and parameters: {'lgbmclassifier__n_estimators': 68, 'lgbmclassifier__learning_rate': 0.07744559421492214}. Best is trial 19 with value: 0.8239234298030829.\u001b[0m\n",
      "\u001b[32m[I 2022-02-16 20:20:38,304]\u001b[0m Trial 21 finished with value: 0.8227305072346736 and parameters: {'lgbmclassifier__n_estimators': 50, 'lgbmclassifier__learning_rate': 0.07325577331322831}. Best is trial 19 with value: 0.8239234298030829.\u001b[0m\n",
      "\u001b[32m[I 2022-02-16 20:20:51,057]\u001b[0m Trial 20 finished with value: 0.8216641707237052 and parameters: {'lgbmclassifier__n_estimators': 74, 'lgbmclassifier__learning_rate': 0.07962897516567433}. Best is trial 19 with value: 0.8239234298030829.\u001b[0m\n",
      "\u001b[32m[I 2022-02-16 20:20:54,727]\u001b[0m Trial 22 finished with value: 0.8229858768215361 and parameters: {'lgbmclassifier__n_estimators': 51, 'lgbmclassifier__learning_rate': 0.07737812012366171}. Best is trial 19 with value: 0.8239234298030829.\u001b[0m\n",
      "\u001b[32m[I 2022-02-16 20:21:01,059]\u001b[0m Trial 23 finished with value: 0.8247969925288606 and parameters: {'lgbmclassifier__n_estimators': 51, 'lgbmclassifier__learning_rate': 0.07474239802604805}. Best is trial 23 with value: 0.8247969925288606.\u001b[0m\n",
      "\u001b[32m[I 2022-02-16 20:21:25,364]\u001b[0m Trial 24 finished with value: 0.823067225078314 and parameters: {'lgbmclassifier__n_estimators': 51, 'lgbmclassifier__learning_rate': 0.07609884290193683}. Best is trial 23 with value: 0.8247969925288606.\u001b[0m\n",
      "\u001b[32m[I 2022-02-16 20:21:56,933]\u001b[0m Trial 25 finished with value: 0.824465149383409 and parameters: {'lgbmclassifier__n_estimators': 53, 'lgbmclassifier__learning_rate': 0.07465319745763355}. Best is trial 23 with value: 0.8247969925288606.\u001b[0m\n",
      "\u001b[32m[I 2022-02-16 20:22:09,320]\u001b[0m Trial 27 finished with value: 0.8223193548510898 and parameters: {'lgbmclassifier__n_estimators': 53, 'lgbmclassifier__learning_rate': 0.07836736739346123}. Best is trial 23 with value: 0.8247969925288606.\u001b[0m\n",
      "\u001b[32m[I 2022-02-16 20:22:11,205]\u001b[0m Trial 26 finished with value: 0.8225570013470582 and parameters: {'lgbmclassifier__n_estimators': 51, 'lgbmclassifier__learning_rate': 0.07684421197926021}. Best is trial 23 with value: 0.8247969925288606.\u001b[0m\n",
      "\u001b[32m[I 2022-02-16 20:22:39,321]\u001b[0m Trial 30 finished with value: 0.8224383526050912 and parameters: {'lgbmclassifier__n_estimators': 59, 'lgbmclassifier__learning_rate': 0.06322960002691161}. Best is trial 23 with value: 0.8247969925288606.\u001b[0m\n",
      "\u001b[32m[I 2022-02-16 20:22:46,326]\u001b[0m Trial 28 finished with value: 0.8248451312083782 and parameters: {'lgbmclassifier__n_estimators': 86, 'lgbmclassifier__learning_rate': 0.0811401792329023}. Best is trial 28 with value: 0.8248451312083782.\u001b[0m\n",
      "\u001b[32m[I 2022-02-16 20:22:48,472]\u001b[0m Trial 31 finished with value: 0.822951952793076 and parameters: {'lgbmclassifier__n_estimators': 59, 'lgbmclassifier__learning_rate': 0.06340971435009199}. Best is trial 28 with value: 0.8248451312083782.\u001b[0m\n",
      "\u001b[32m[I 2022-02-16 20:22:58,877]\u001b[0m Trial 29 finished with value: 0.8216945076576463 and parameters: {'lgbmclassifier__n_estimators': 84, 'lgbmclassifier__learning_rate': 0.07891035530400284}. Best is trial 28 with value: 0.8248451312083782.\u001b[0m\n",
      "\u001b[32m[I 2022-02-16 20:23:13,180]\u001b[0m Trial 32 finished with value: 0.8228675863543536 and parameters: {'lgbmclassifier__n_estimators': 58, 'lgbmclassifier__learning_rate': 0.06498294485921276}. Best is trial 28 with value: 0.8248451312083782.\u001b[0m\n",
      "\u001b[32m[I 2022-02-16 20:23:18,359]\u001b[0m Trial 34 finished with value: 0.8168462629908959 and parameters: {'lgbmclassifier__n_estimators': 10, 'lgbmclassifier__learning_rate': 0.06088295221029377}. Best is trial 28 with value: 0.8248451312083782.\u001b[0m\n",
      "\u001b[32m[I 2022-02-16 20:23:45,135]\u001b[0m Trial 33 finished with value: 0.8230331970819649 and parameters: {'lgbmclassifier__n_estimators': 62, 'lgbmclassifier__learning_rate': 0.06503115061631674}. Best is trial 28 with value: 0.8248451312083782.\u001b[0m\n",
      "\u001b[32m[I 2022-02-16 20:23:50,494]\u001b[0m Trial 36 finished with value: 0.8145600639486068 and parameters: {'lgbmclassifier__n_estimators': 10, 'lgbmclassifier__learning_rate': 0.05144673290585631}. Best is trial 28 with value: 0.8248451312083782.\u001b[0m\n",
      "\u001b[32m[I 2022-02-16 20:24:05,985]\u001b[0m Trial 35 finished with value: 0.8231625316342301 and parameters: {'lgbmclassifier__n_estimators': 61, 'lgbmclassifier__learning_rate': 0.06241808514281203}. Best is trial 28 with value: 0.8248451312083782.\u001b[0m\n",
      "\u001b[32m[I 2022-02-16 20:24:20,223]\u001b[0m Trial 38 finished with value: 0.8244354845074714 and parameters: {'lgbmclassifier__n_estimators': 41, 'lgbmclassifier__learning_rate': 0.08961185509653624}. Best is trial 28 with value: 0.8248451312083782.\u001b[0m\n",
      "\u001b[32m[I 2022-02-16 20:24:33,597]\u001b[0m Trial 39 finished with value: 0.8224782573499226 and parameters: {'lgbmclassifier__n_estimators': 41, 'lgbmclassifier__learning_rate': 0.08894763027757087}. Best is trial 28 with value: 0.8248451312083782.\u001b[0m\n",
      "\u001b[32m[I 2022-02-16 20:24:54,690]\u001b[0m Trial 37 finished with value: 0.8227741532374611 and parameters: {'lgbmclassifier__n_estimators': 85, 'lgbmclassifier__learning_rate': 0.050000877380269204}. Best is trial 28 with value: 0.8248451312083782.\u001b[0m\n",
      "\u001b[32m[I 2022-02-16 20:25:15,680]\u001b[0m Trial 41 finished with value: 0.8215600914267404 and parameters: {'lgbmclassifier__n_estimators': 84, 'lgbmclassifier__learning_rate': 0.09995401098315163}. Best is trial 28 with value: 0.8248451312083782.\u001b[0m\n",
      "\u001b[32m[I 2022-02-16 20:25:16,086]\u001b[0m Trial 40 finished with value: 0.8223706836837771 and parameters: {'lgbmclassifier__n_estimators': 86, 'lgbmclassifier__learning_rate': 0.05530086232362315}. Best is trial 28 with value: 0.8248451312083782.\u001b[0m\n",
      "\u001b[32m[I 2022-02-16 20:25:43,500]\u001b[0m Trial 42 finished with value: 0.8226169520799752 and parameters: {'lgbmclassifier__n_estimators': 83, 'lgbmclassifier__learning_rate': 0.09120170950290582}. Best is trial 28 with value: 0.8248451312083782.\u001b[0m\n",
      "\u001b[32m[I 2022-02-16 20:25:47,641]\u001b[0m Trial 43 finished with value: 0.8220728572969911 and parameters: {'lgbmclassifier__n_estimators': 85, 'lgbmclassifier__learning_rate': 0.09733789108411087}. Best is trial 28 with value: 0.8248451312083782.\u001b[0m\n",
      "\u001b[32m[I 2022-02-16 20:25:49,595]\u001b[0m Trial 45 finished with value: 0.8218212132191816 and parameters: {'lgbmclassifier__n_estimators': 42, 'lgbmclassifier__learning_rate': 0.09137263673546635}. Best is trial 28 with value: 0.8248451312083782.\u001b[0m\n",
      "\u001b[32m[I 2022-02-16 20:25:58,466]\u001b[0m Trial 44 finished with value: 0.8216664451330695 and parameters: {'lgbmclassifier__n_estimators': 84, 'lgbmclassifier__learning_rate': 0.09010436480271072}. Best is trial 28 with value: 0.8248451312083782.\u001b[0m\n",
      "\u001b[32m[I 2022-02-16 20:25:58,613]\u001b[0m Trial 46 finished with value: 0.8219829978743991 and parameters: {'lgbmclassifier__n_estimators': 39, 'lgbmclassifier__learning_rate': 0.0929457056121556}. Best is trial 28 with value: 0.8248451312083782.\u001b[0m\n",
      "\u001b[32m[I 2022-02-16 20:26:11,304]\u001b[0m Trial 47 finished with value: 0.8231484798186666 and parameters: {'lgbmclassifier__n_estimators': 44, 'lgbmclassifier__learning_rate': 0.09251692914829125}. Best is trial 28 with value: 0.8248451312083782.\u001b[0m\n",
      "\u001b[32m[I 2022-02-16 20:26:22,450]\u001b[0m Trial 49 finished with value: 0.8225197858190434 and parameters: {'lgbmclassifier__n_estimators': 41, 'lgbmclassifier__learning_rate': 0.08563183113442578}. Best is trial 28 with value: 0.8248451312083782.\u001b[0m\n",
      "\u001b[32m[I 2022-02-16 20:26:22,461]\u001b[0m Trial 48 finished with value: 0.8227013488459642 and parameters: {'lgbmclassifier__n_estimators': 40, 'lgbmclassifier__learning_rate': 0.09195891141639226}. Best is trial 28 with value: 0.8248451312083782.\u001b[0m\n"
     ]
    }
   ],
   "source": [
    "optuna_search = OptunaSearchCV(pipe_lgbm, param_distributions, n_trials=50, n_jobs=-1, cv=cv, scoring=metric, random_state=seeds)\n",
    "\n",
    "optuna_search.fit(X_train, y_train)\n",
    "\n",
    "trained_model = optuna_search.best_estimator_"
   ]
  },
  {
   "cell_type": "code",
   "execution_count": 25,
   "metadata": {},
   "outputs": [
    {
     "data": {
      "text/plain": [
       "Pipeline(steps=[('columntransformer',\n",
       "                 ColumnTransformer(remainder='passthrough',\n",
       "                                   transformers=[('scaler', MinMaxScaler(),\n",
       "                                                  ['review', 'projects',\n",
       "                                                   'tenure', 'satisfaction',\n",
       "                                                   'avg_hrs_month']),\n",
       "                                                 ('ohe', OneHotEncoder(),\n",
       "                                                  ['department', 'salary'])])),\n",
       "                ('smoteenn',\n",
       "                 SMOTEENN(enn=EditedNearestNeighbours(sampling_strategy='majority'),\n",
       "                          random_state=1234)),\n",
       "                ('lgbmclassifier',\n",
       "                 LGBMClassifier(learning_rate=0.0811401792329023,\n",
       "                                n_estimators=86, random_seed=1234))])"
      ]
     },
     "execution_count": 25,
     "metadata": {},
     "output_type": "execute_result"
    }
   ],
   "source": [
    "trained_model"
   ]
  },
  {
   "cell_type": "markdown",
   "metadata": {},
   "source": [
    "## EDA\n"
   ]
  },
  {
   "cell_type": "markdown",
   "metadata": {},
   "source": [
    "## Preprocessing"
   ]
  },
  {
   "cell_type": "markdown",
   "metadata": {},
   "source": [
    "## Modeling"
   ]
  },
  {
   "cell_type": "markdown",
   "metadata": {},
   "source": [
    "#### Baseline"
   ]
  },
  {
   "cell_type": "markdown",
   "metadata": {},
   "source": [
    "## Evaluation"
   ]
  },
  {
   "cell_type": "code",
   "execution_count": 47,
   "metadata": {},
   "outputs": [],
   "source": [
    "clf = LGBMClassifier(\n",
    "            n_estimators=10000,\n",
    "            learning_rate=0.02,\n",
    "            num_leaves=34,\n",
    "            colsample_bytree=0.9497036,\n",
    "            subsample=0.8715623,\n",
    "            max_depth=8,\n",
    "            reg_alpha=0.041545473,\n",
    "            reg_lambda=0.0735294,\n",
    "            min_split_gain=0.0222415,\n",
    "            min_child_weight=39.3259775,\n",
    "            silent=-1,\n",
    "            verbose=-1)"
   ]
  },
  {
   "cell_type": "code",
   "execution_count": 48,
   "metadata": {},
   "outputs": [],
   "source": [
    "model_lgbm = LGBMClassifier(boosting_type = 'goss', random_seed=seeds, class_weight = 'balanced', scale_pos_weight=2, learning_rate = 0.01, n_estimators = 1000,n_jobs = -1)\n",
    "\n",
    "pipeline = make_pipeline(preprocess,smoteen, clf)"
   ]
  },
  {
   "cell_type": "code",
   "execution_count": 49,
   "metadata": {},
   "outputs": [
    {
     "name": "stdout",
     "output_type": "stream",
     "text": [
      " F2 score 0.813 +/- 0.016\n"
     ]
    }
   ],
   "source": [
    "pipeline_eval = evaluate_model(X_train,y_train, pipeline)\n",
    "print(' F2 score %.3f +/- %.3f' % (np.mean(pipeline_eval), np.std(pipeline_eval)))"
   ]
  },
  {
   "cell_type": "code",
   "execution_count": 50,
   "metadata": {},
   "outputs": [
    {
     "name": "stdout",
     "output_type": "stream",
     "text": [
      "[LightGBM] [Warning] num_threads is set with n_jobs=-1, nthread=4 will be ignored. Current value: num_threads=-1\n",
      "0.8282307444408636\n",
      "              precision    recall  f1-score   support\n",
      "\n",
      "           0       0.96      0.73      0.83      1351\n",
      "           1       0.59      0.92      0.72       557\n",
      "\n",
      "    accuracy                           0.79      1908\n",
      "   macro avg       0.77      0.83      0.77      1908\n",
      "weighted avg       0.85      0.79      0.80      1908\n",
      "\n",
      "[[990 361]\n",
      " [ 43 514]]\n"
     ]
    }
   ],
   "source": [
    "from sklearn.metrics import classification_report, confusion_matrix, roc_auc_score\n",
    "\n",
    "pipeline.fit(X_train, y_train)\n",
    "    # Obtain the predictions from our random forest model \n",
    "predicted = pipeline.predict(X_test)\n",
    "    # Predict probabilities\n",
    "probs = pipeline.predict_proba(X_test)\n",
    "    # Print the ROC curve, classification report and confusion matrix\n",
    "print(fbeta_score(y_test, predicted, beta=2))\n",
    "print(classification_report(y_test, predicted))\n",
    "print(confusion_matrix(y_test, predicted))"
   ]
  }
 ],
 "metadata": {
  "interpreter": {
   "hash": "3e49c3c660bb3da03bb80538bab8d3b7446076cf250c2919d2328cdd966089b9"
  },
  "kernelspec": {
   "display_name": "Python 3.9.7 ('env_full')",
   "language": "python",
   "name": "python3"
  },
  "language_info": {
   "codemirror_mode": {
    "name": "ipython",
    "version": 3
   },
   "file_extension": ".py",
   "mimetype": "text/x-python",
   "name": "python",
   "nbconvert_exporter": "python",
   "pygments_lexer": "ipython3",
   "version": "3.9.7"
  },
  "orig_nbformat": 4
 },
 "nbformat": 4,
 "nbformat_minor": 2
}
