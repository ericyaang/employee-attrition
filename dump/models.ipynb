{
 "cells": [
  {
   "cell_type": "code",
   "execution_count": 193,
   "metadata": {},
   "outputs": [],
   "source": [
    "# Load libraries\n",
    "import pandas as pd\n",
    "import numpy as np\n",
    "import matplotlib.pyplot as plt\n",
    "from sklearn.model_selection import train_test_split\n",
    "\n",
    "from sklearn.pipeline import Pipeline\n",
    "from sklearn.compose import ColumnTransformer\n",
    "from sklearn.preprocessing import OneHotEncoder\n",
    "from sklearn.preprocessing import MinMaxScaler\n",
    "\n",
    "from sklearn.dummy import DummyClassifier\n",
    "from xgboost import XGBClassifier\n",
    "from lightgbm import LGBMClassifier\n",
    "from catboost import CatBoostClassifier\n",
    "from sklearn.model_selection import cross_val_score\n",
    "from sklearn.model_selection import RepeatedStratifiedKFold\n",
    "from sklearn.metrics import fbeta_score\n",
    "from sklearn.metrics import make_scorer\n",
    "\n",
    "# Set seeds for reproducibility\n",
    "seed = 123\n"
   ]
  },
  {
   "cell_type": "code",
   "execution_count": 194,
   "metadata": {},
   "outputs": [],
   "source": [
    "# load full training set\n",
    "df = pd.read_pickle(r\"train_enc.pkl\")"
   ]
  },
  {
   "cell_type": "code",
   "execution_count": 195,
   "metadata": {},
   "outputs": [],
   "source": [
    "# Separate labels and target\n",
    "X, y =  df.drop(columns=\"left\", axis = 1), df[\"left\"]\n",
    "# Create train and validation \n",
    "X_train, X_val, y_train, y_val = train_test_split(X, y, test_size=0.25, stratify=y, random_state=seed)"
   ]
  },
  {
   "cell_type": "code",
   "execution_count": 196,
   "metadata": {},
   "outputs": [],
   "source": [
    "# Get variable names\n",
    "bi_vars = [col for col in X.columns if X[col].nunique() == 2]\n",
    "num_vars = [col for col in X.columns if (X[col].dtype in [\"int8\", \"float32\"]) & (col not in bi_vars)]\n",
    "cat_vars = [col for col in X.columns if (col not in num_vars) & (col not in bi_vars)]"
   ]
  },
  {
   "cell_type": "code",
   "execution_count": 197,
   "metadata": {},
   "outputs": [],
   "source": [
    "# Preprocessing recipe\n",
    "preprocess = ColumnTransformer(\n",
    "    transformers=[\n",
    "        (\"scaler\", MinMaxScaler(), num_vars),\n",
    "        (\"ohe\", OneHotEncoder(), cat_vars)\n",
    "    ], remainder = 'passthrough'\n",
    ")"
   ]
  },
  {
   "cell_type": "code",
   "execution_count": 198,
   "metadata": {},
   "outputs": [],
   "source": [
    "# K-folds\n",
    "cv = RepeatedStratifiedKFold(n_splits=10, n_repeats=3, random_state=seed)\n",
    "\n",
    "# Define metric\n",
    "def f2_measure(y_true, y_pred):\n",
    "    return fbeta_score(y_true, y_pred, beta=2)  \n",
    "\n",
    "metric = make_scorer(f2_measure)"
   ]
  },
  {
   "cell_type": "markdown",
   "metadata": {},
   "source": [
    "## Select model"
   ]
  },
  {
   "cell_type": "code",
   "execution_count": 199,
   "metadata": {},
   "outputs": [
    {
     "name": "stdout",
     "output_type": "stream",
     "text": [
      ">DM 0.673 (0.001)\n",
      ">LGB 0.727 (0.028)\n",
      ">CB 0.728 (0.026)\n",
      ">XGB 0.724 (0.027)\n"
     ]
    },
    {
     "data": {
      "image/png": "[encoded data removed]",
      "text/plain": [
       "<Figure size 432x288 with 1 Axes>"
      ]
     },
     "metadata": {
      "needs_background": "light"
     },
     "output_type": "display_data"
    }
   ],
   "source": [
    "\n",
    "### Especify models ###\n",
    "# LightGBM\n",
    "lgbm_model = LGBMClassifier(random_seed=seed)\n",
    "# Catboost\n",
    "cb_model = CatBoostClassifier(random_seed=seed)\n",
    "# XGBoost \n",
    "xgb_model = XGBClassifier(random_state=seed)\n",
    "\n",
    "def f2_measure(y_true, y_pred):\n",
    "    return fbeta_score(y_true, y_pred, beta=2)  \n",
    "\n",
    "metric = make_scorer(f2_measure)\n",
    "# Evaluate a model\n",
    "def evaluate_model(X, y, model):\n",
    "    # Define the model evaluation metric\n",
    "    metric = make_scorer(f2_measure)\n",
    "    # Evaluate model\n",
    "    scores = cross_val_score(model, X, y, scoring=metric, cv=cv, n_jobs=-1)\n",
    "    return scores\n",
    "    \n",
    "# Define models to test\n",
    "def get_models():\n",
    "    models, names = list(), list()\n",
    "    # DUMMY\n",
    "    models.append(DummyClassifier(strategy='constant', constant=1, random_state=seed))\n",
    "    names.append('DM')\n",
    "    # LGB\n",
    "    models.append(lgbm_model)\n",
    "    names.append('LGB')\n",
    "    # CB\n",
    "    models.append(cb_model)\n",
    "    names.append('CB')\n",
    "    # XGB\n",
    "    models.append(xgb_model)\n",
    "    names.append('XGB')\n",
    "    return models, names\n",
    "\n",
    "# Define models\n",
    "models, names = get_models()\n",
    "results = list()\n",
    "# Evaluate each model\n",
    "for i in range(len(models)):\n",
    "    # Wrap the model in a pipeline\n",
    "    base_pipeline = Pipeline(steps=[\n",
    "        ('recipe', preprocess),\n",
    "        ('m',models[i])\n",
    "    ])\n",
    "    # Evaluate the model and store results\n",
    "    scores = evaluate_model(X, y, base_pipeline) # <-- using training set for CV\n",
    "    results.append(scores)\n",
    "    # Summarize and store\n",
    "    print('>%s %.3f (%.3f)' % (names[i], np.mean(scores), np.std(scores)))\n",
    "    \n",
    "# Plot the results\n",
    "plt.boxplot(results, labels=names, showmeans=True)\n",
    "plt.show()"
   ]
  },
  {
   "cell_type": "code",
   "execution_count": 1,
   "metadata": {},
   "outputs": [
    {
     "ename": "NameError",
     "evalue": "name 'LGBMClassifier' is not defined",
     "output_type": "error",
     "traceback": [
      "\u001b[1;31m---------------------------------------------------------------------------\u001b[0m",
      "\u001b[1;31mNameError\u001b[0m                                 Traceback (most recent call last)",
      "\u001b[1;32m~\\AppData\\Local\\Temp/ipykernel_7784/1289040616.py\u001b[0m in \u001b[0;36m<module>\u001b[1;34m\u001b[0m\n\u001b[0;32m      2\u001b[0m \u001b[1;31m### Especify models ###\u001b[0m\u001b[1;33m\u001b[0m\u001b[1;33m\u001b[0m\u001b[0m\n\u001b[0;32m      3\u001b[0m \u001b[1;31m# LightGBM\u001b[0m\u001b[1;33m\u001b[0m\u001b[1;33m\u001b[0m\u001b[0m\n\u001b[1;32m----> 4\u001b[1;33m \u001b[0mlgbm_model\u001b[0m \u001b[1;33m=\u001b[0m \u001b[0mLGBMClassifier\u001b[0m\u001b[1;33m(\u001b[0m\u001b[0mrandom_seed\u001b[0m\u001b[1;33m=\u001b[0m\u001b[0mseed\u001b[0m\u001b[1;33m,\u001b[0m\u001b[0mscale_pos_weight\u001b[0m\u001b[1;33m=\u001b[0m\u001b[0mweights\u001b[0m\u001b[1;33m)\u001b[0m\u001b[1;33m\u001b[0m\u001b[1;33m\u001b[0m\u001b[0m\n\u001b[0m\u001b[0;32m      5\u001b[0m \u001b[1;31m# Catboost\u001b[0m\u001b[1;33m\u001b[0m\u001b[1;33m\u001b[0m\u001b[0m\n\u001b[0;32m      6\u001b[0m \u001b[0mcb_model\u001b[0m \u001b[1;33m=\u001b[0m \u001b[0mCatBoostClassifier\u001b[0m\u001b[1;33m(\u001b[0m\u001b[0mrandom_seed\u001b[0m\u001b[1;33m=\u001b[0m\u001b[0mseed\u001b[0m\u001b[1;33m,\u001b[0m\u001b[0mscale_pos_weight\u001b[0m\u001b[1;33m=\u001b[0m\u001b[0mweights\u001b[0m\u001b[1;33m)\u001b[0m\u001b[1;33m\u001b[0m\u001b[1;33m\u001b[0m\u001b[0m\n",
      "\u001b[1;31mNameError\u001b[0m: name 'LGBMClassifier' is not defined"
     ]
    }
   ],
   "source": [
    "weights=2\n",
    "### Especify models ###\n",
    "# LightGBM\n",
    "lgbm_model = LGBMClassifier(random_seed=seed,scale_pos_weight=weights)\n",
    "# Catboost\n",
    "cb_model = CatBoostClassifier(random_seed=seed,scale_pos_weight=weights)\n",
    "# XGBoost \n",
    "xgb_model = XGBClassifier(random_state=seed,scale_pos_weight=weights)\n",
    "\n",
    "def f2_measure(y_true, y_pred):\n",
    "    return fbeta_score(y_true, y_pred, beta=2)  \n",
    "\n",
    "metric = make_scorer(f2_measure)\n",
    "# Evaluate a model\n",
    "def evaluate_model(X, y, model):\n",
    "    # Define the model evaluation metric\n",
    "    metric = make_scorer(f2_measure)\n",
    "    # Evaluate model\n",
    "    scores = cross_val_score(model, X, y, scoring=metric, cv=cv, n_jobs=-1)\n",
    "    return scores\n",
    "    \n",
    "# Define models to test\n",
    "def get_models():\n",
    "    models, names = list(), list()\n",
    "    # DUMMY\n",
    "    models.append(DummyClassifier(strategy='constant', constant=1, random_state=seed))\n",
    "    names.append('DM')\n",
    "    # LGB\n",
    "    models.append(lgbm_model)\n",
    "    names.append('LGB')\n",
    "    # CB\n",
    "    models.append(cb_model)\n",
    "    names.append('CB')\n",
    "    # XGB\n",
    "    models.append(xgb_model)\n",
    "    names.append('XGB')\n",
    "    return models, names\n",
    "\n",
    "# Define models\n",
    "models, names = get_models()\n",
    "results = list()\n",
    "# Evaluate each model\n",
    "for i in range(len(models)):\n",
    "    # Wrap the model in a pipeline\n",
    "    base_pipeline = Pipeline(steps=[\n",
    "        ('recipe',preprocess),\n",
    "        ('m',models[i])\n",
    "    ])\n",
    "    # Evaluate the model and store results\n",
    "    scores = evaluate_model(X, y, base_pipeline) # <-- using training set for CV\n",
    "    results.append(scores)\n",
    "    # Summarize and store\n",
    "    print('>%s %.3f (%.3f)' % (names[i], np.mean(scores), np.std(scores)))\n",
    "    \n",
    "# Plot the results\n",
    "plt.boxplot(results, labels=names, showmeans=True)\n",
    "plt.show()"
   ]
  },
  {
   "cell_type": "code",
   "execution_count": 222,
   "metadata": {},
   "outputs": [
    {
     "name": "stdout",
     "output_type": "stream",
     "text": [
      ">TL 0.759 (0.026)\n",
      ">ENN 0.811 (0.020)\n",
      ">RENN 0.813 (0.016)\n",
      ">SM 0.783 (0.023)\n",
      ">BSM 0.790 (0.023)\n",
      ">SVMSM 0.776 (0.027)\n",
      ">SMTL 0.790 (0.021)\n",
      ">SMTENN 0.818 (0.014)\n"
     ]
    },
    {
     "data": {
      "image/png": "[encoded data removed]",
      "text/plain": [
       "<Figure size 432x288 with 1 Axes>"
      ]
     },
     "metadata": {
      "needs_background": "light"
     },
     "output_type": "display_data"
    }
   ],
   "source": [
    "# Under\n",
    "from imblearn.under_sampling import TomekLinks\n",
    "from imblearn.under_sampling import EditedNearestNeighbours\n",
    "from imblearn.under_sampling import RepeatedEditedNearestNeighbours\n",
    "# Over\n",
    "from imblearn.over_sampling import BorderlineSMOTE\n",
    "from imblearn.over_sampling import SMOTE\n",
    "from imblearn.over_sampling import SVMSMOTE\n",
    "# Under + Over (smote)\n",
    "from imblearn.combine import SMOTETomek \n",
    "from imblearn.under_sampling import TomekLinks\n",
    "from imblearn.combine import SMOTEENN\n",
    "from imblearn.pipeline import Pipeline\n",
    "\n",
    "lgbm_model = LGBMClassifier(random_seed=seed)\n",
    "\n",
    "def get_models_und():\n",
    "    models_und, names = list(), list()\n",
    "    # TL\n",
    "    models_und.append(TomekLinks())\n",
    "    names.append('TL')\n",
    "    # ENN\n",
    "    models_und.append(EditedNearestNeighbours())\n",
    "    names.append('ENN')\n",
    "    # RENN\n",
    "    models_und.append(RepeatedEditedNearestNeighbours())\n",
    "    names.append('RENN')\n",
    "    # SM\n",
    "    models_und.append(SMOTE())\n",
    "    names.append('SM')\n",
    "    # BSM\n",
    "    models_und.append(BorderlineSMOTE())\n",
    "    names.append('BSM')\n",
    "    # SVMSM\n",
    "    models_und.append(SVMSMOTE())\n",
    "    names.append('SVMSM')\n",
    "    # SMOTETomek\n",
    "    models_und.append(SMOTETomek(tomek=TomekLinks(sampling_strategy='majority'),random_state=seed))\n",
    "    names.append('SMTL')\n",
    "    # SMOTEENN\n",
    "    models_und.append(SMOTEENN(enn=EditedNearestNeighbours(sampling_strategy='majority'),random_state=seed))\n",
    "    names.append('SMTENN')\n",
    "    return models_und, names\n",
    "\n",
    "# Define models\n",
    "u_models, u_names = get_models_und()\n",
    "under_results = list()\n",
    "# Evaluate each model\n",
    "for i in range(len(u_models)):\n",
    "    # Wrap the model in a pipeline\n",
    "    under_pipeline = Pipeline(steps=[\n",
    "        ('recipe',preprocess),\n",
    "        ('s',u_models[i]),\n",
    "        (\"m\", lgbm_model)\n",
    "    ])\n",
    "    # Evaluate the model and store results\n",
    "    under_scores = evaluate_model(X, y, under_pipeline) # <-- using training set for CV\n",
    "    under_results.append(under_scores)\n",
    "    # Summarize and store\n",
    "    print('>%s %.3f (%.3f)' % (u_names[i], np.mean(under_scores), np.std(under_scores)))\n",
    "# Plot the results\n",
    "plt.boxplot(under_results, labels=u_names, showmeans=True)\n",
    "plt.show()"
   ]
  },
  {
   "cell_type": "code",
   "execution_count": null,
   "metadata": {},
   "outputs": [],
   "source": [
    "g=sns.pairplot(vars=[col for col in X if col!='clusters'], data=X, hue='clusters')\n",
    "g.fig.set_size_inches(10,8)\n",
    "plt.show()"
   ]
  },
  {
   "cell_type": "code",
   "execution_count": 275,
   "metadata": {},
   "outputs": [
    {
     "name": "stdout",
     "output_type": "stream",
     "text": [
      "              precision    recall  f1-score   support\n",
      "\n",
      "           0       0.95      0.72      0.82      1351\n",
      "           1       0.57      0.90      0.70       557\n",
      "\n",
      "    accuracy                           0.78      1908\n",
      "   macro avg       0.76      0.81      0.76      1908\n",
      "weighted avg       0.84      0.78      0.79      1908\n",
      "\n",
      "[[978 373]\n",
      " [ 55 502]]\n"
     ]
    }
   ],
   "source": [
    "from sklearn.metrics import classification_report, confusion_matrix, roc_auc_score\n",
    "smoteen = SMOTEENN(enn=EditedNearestNeighbours(sampling_strategy='majority'),random_state=seed)\n",
    "\n",
    "renn = RepeatedEditedNearestNeighbours()\n",
    "model_lgbm_2 = LGBMClassifier(random_seed=seed,scale_pos_weight=1, num_leaves=63, learning_rate=0.170203379715839,min_child_samples=52,\n",
    "min_child_weight=0.006613995003545587, subsample=0.47484181362301797,colsample_bytree=0.9925491750965401,reg_alpha=6.458111463493501)\n",
    "\n",
    "final_pipeline = make_pipeline(preprocess,smoteen, model_lgbm_2)\n",
    "final_pipeline.fit(X_train, y_train)\n",
    "    # Obtain the predictions from our random forest model \n",
    "predicted = final_pipeline.predict(X_val)\n",
    "    # Predict probabilities\n",
    "probs = final_pipeline.predict_proba(X_val)\n",
    "    # Print the ROC curve, classification report and confusion matrix\n",
    "#print(roc_auc_score(y_val, probs[:,1]))\n",
    "print(classification_report(y_val, predicted))\n",
    "print(confusion_matrix(y_val, predicted))"
   ]
  },
  {
   "cell_type": "code",
   "execution_count": 257,
   "metadata": {},
   "outputs": [
    {
     "name": "stdout",
     "output_type": "stream",
     "text": [
      "              precision    recall  f1-score   support\n",
      "\n",
      "           0       0.96      0.73      0.83      1351\n",
      "           1       0.58      0.93      0.72       557\n",
      "\n",
      "    accuracy                           0.79      1908\n",
      "   macro avg       0.77      0.83      0.77      1908\n",
      "weighted avg       0.85      0.79      0.80      1908\n",
      "\n",
      "[[983 368]\n",
      " [ 39 518]]\n"
     ]
    }
   ],
   "source": [
    "test = pd.read_pickle(r\"test_enc.pkl\")\n",
    "X_test, y_test = test.drop(\"left\", axis = 1), test[\"left\"]\n",
    "\n",
    "final_pipeline = make_pipeline(preprocess,renn, model_lgbm_2)\n",
    "final_pipeline.fit(X, y)\n",
    "    # Obtain the predictions from our random forest model \n",
    "predicted = final_pipeline.predict(X_test)\n",
    "    # Predict probabilities\n",
    "probs = final_pipeline.predict_proba(X_test)\n",
    "    # Print the ROC curve, classification report and confusion matrix\n",
    "#print(roc_auc_score(y_val, probs[:,1]))\n",
    "print(classification_report(y_test, predicted))\n",
    "print(confusion_matrix(y_test, predicted))"
   ]
  },
  {
   "cell_type": "code",
   "execution_count": 256,
   "metadata": {},
   "outputs": [
    {
     "name": "stdout",
     "output_type": "stream",
     "text": [
      "              precision    recall  f1-score   support\n",
      "\n",
      "   Non-churn       0.98      0.61      0.75      1351\n",
      "       Churn       0.51      0.97      0.67       557\n",
      "\n",
      "    accuracy                           0.72      1908\n",
      "   macro avg       0.74      0.79      0.71      1908\n",
      "weighted avg       0.84      0.72      0.73      1908\n",
      "\n",
      "[[827 524]\n",
      " [ 18 539]]\n"
     ]
    }
   ],
   "source": [
    "preds = final_pipeline.predict_proba(X_test)\n",
    "\n",
    "# Create a dataframe for the probabilities of default\n",
    "preds_df = pd.DataFrame(preds[:,1], columns = [\"prob_churn\"])\n",
    "\n",
    "# Reassign loan status based on the threshold\n",
    "preds_df['churn_status'] = preds_df['prob_churn'].apply(lambda x: 1 if x > 0.24 else 0)\n",
    "\n",
    "preds_df['real_status'] = pd.DataFrame(y_val.values)\n",
    "# Print the row counts for each loan status\n",
    "num_churns = preds_df['churn_status'].value_counts()[1]\n",
    "\n",
    "# Print the classification report\n",
    "target_names = ['Non-churn', 'Churn']\n",
    "print(classification_report(y_test, preds_df['churn_status'], target_names=target_names))\n",
    "print(confusion_matrix(y_test, preds_df['churn_status']))"
   ]
  },
  {
   "cell_type": "code",
   "execution_count": 204,
   "metadata": {},
   "outputs": [
    {
     "data": {
      "text/plain": [
       "0    5405\n",
       "1    2227\n",
       "Name: left, dtype: int64"
      ]
     },
     "execution_count": 204,
     "metadata": {},
     "output_type": "execute_result"
    }
   ],
   "source": [
    "df[\"left\"].value_counts()"
   ]
  },
  {
   "cell_type": "code",
   "execution_count": 215,
   "metadata": {},
   "outputs": [
    {
     "data": {
      "text/plain": [
       "5405"
      ]
     },
     "execution_count": 215,
     "metadata": {},
     "output_type": "execute_result"
    }
   ],
   "source": [
    "df[\"left\"].value_counts()[0] "
   ]
  },
  {
   "cell_type": "code",
   "execution_count": 219,
   "metadata": {},
   "outputs": [
    {
     "data": {
      "text/plain": [
       "1.56"
      ]
     },
     "execution_count": 219,
     "metadata": {},
     "output_type": "execute_result"
    }
   ],
   "source": [
    "weights =round(np.sqrt(df[\"left\"].value_counts()[0] / df[\"left\"].value_counts()[1]),2)\n",
    "weights"
   ]
  },
  {
   "cell_type": "code",
   "execution_count": 286,
   "metadata": {},
   "outputs": [],
   "source": [
    "from sklearn.compose import make_column_transformer\n",
    "from imblearn.pipeline import make_pipeline, Pipeline\n",
    "\n",
    "\n",
    "model_lgbm_final = LGBMClassifier(random_seed=seed,scale_pos_weight=2, num_leaves=63, learning_rate=0.170203379715839,min_child_samples=52,\n",
    "min_child_weight=0.006613995003545587, subsample=0.47484181362301797,colsample_bytree=0.9925491750965401,reg_alpha=6.458111463493501 )\n",
    "\n",
    "final_pipeline = make_pipeline(preprocess,smoteen, model_lgbm_final)"
   ]
  },
  {
   "cell_type": "code",
   "execution_count": 287,
   "metadata": {},
   "outputs": [
    {
     "name": "stdout",
     "output_type": "stream",
     "text": [
      "              precision    recall  f1-score   support\n",
      "\n",
      "           0       0.96      0.67      0.79      1351\n",
      "           1       0.53      0.92      0.68       557\n",
      "\n",
      "    accuracy                           0.74      1908\n",
      "   macro avg       0.75      0.80      0.73      1908\n",
      "weighted avg       0.83      0.74      0.75      1908\n",
      "\n",
      "[[903 448]\n",
      " [ 42 515]]\n"
     ]
    }
   ],
   "source": [
    "from sklearn.metrics import classification_report, confusion_matrix, roc_auc_score\n",
    "\n",
    "final_pipeline.fit(X_train, y_train)\n",
    "    # Obtain the predictions from our random forest model \n",
    "predicted = final_pipeline.predict(X_val)\n",
    "    # Predict probabilities\n",
    "probs = final_pipeline.predict_proba(X_val)\n",
    "    # Print the ROC curve, classification report and confusion matrix\n",
    "#print(roc_auc_score(y_val, probs[:,1]))\n",
    "print(classification_report(y_val, predicted))\n",
    "print(confusion_matrix(y_val, predicted))"
   ]
  },
  {
   "cell_type": "code",
   "execution_count": 288,
   "metadata": {},
   "outputs": [
    {
     "data": {
      "text/plain": [
       "(448, 42)"
      ]
     },
     "execution_count": 288,
     "metadata": {},
     "output_type": "execute_result"
    }
   ],
   "source": [
    "conf_mat = confusion_matrix(y_val, predicted)\n",
    "tn, fp, fn, tp = conf_mat.ravel()\n",
    "(fp, fn)"
   ]
  },
  {
   "cell_type": "markdown",
   "metadata": {},
   "source": [
    "### Loss functions"
   ]
  },
  {
   "cell_type": "markdown",
   "metadata": {},
   "source": [
    "Remember that we are focusing on minimizing the false negatives, because the cost of false positives are much higher than for false positives. But\n",
    "how much? 2x?3x?\n",
    "\n",
    "FP: The manager informed that the company losses 2x the avarage salary for each churned employee. \n",
    "    - We will assume that fn costs 2x more than fp.\n",
    "FN: Investing in emplooyees that did not leave the company is not a loss.\n",
    "\n"
   ]
  },
  {
   "cell_type": "code",
   "execution_count": 63,
   "metadata": {},
   "outputs": [
    {
     "data": {
      "text/plain": [
       "True"
      ]
     },
     "execution_count": 63,
     "metadata": {},
     "output_type": "execute_result"
    }
   ],
   "source": [
    "# Get labels from the scores using the default threshold\n",
    "preds = [s[1] > 0.5 for s in probs]\n",
    "\n",
    "# Use the predict method to label the test data again\n",
    "preds_churn = predicted\n",
    "\n",
    "# Compare the two sets of predictions\n",
    "all(preds == preds_churn)"
   ]
  },
  {
   "cell_type": "markdown",
   "metadata": {},
   "source": [
    "Well done, you have confirmed that this classifier, too, uses 0.5 as a threshold"
   ]
  },
  {
   "cell_type": "code",
   "execution_count": 281,
   "metadata": {},
   "outputs": [
    {
     "name": "stdout",
     "output_type": "stream",
     "text": [
      "0.0 0.75\n"
     ]
    }
   ],
   "source": [
    "from sklearn.metrics import recall_score, f1_score\n",
    "\n",
    "# Create a range of equally spaced threshold values\n",
    "t_range = [0.0, 0.25, 0.5, 0.75, 1.0]\n",
    "\n",
    "# Store the predicted labels for each value of the threshold\n",
    "preds = [[s[1] > thr for s in probs] for thr in t_range]\n",
    "\n",
    "# Compute the accuracy for each threshold\n",
    "recall_scores = [recall_score(y_val, p) for p in preds]\n",
    "\n",
    "# Compute the F1 score for each threshold\n",
    "f1_scores = [f1_score(y_val, p) for p in preds]\n",
    "\n",
    "# Report the optimal threshold for accuracy, and for F1\n",
    "print(t_range[np.argmax(recall_scores)], t_range[np.argmax(f1_scores)])"
   ]
  },
  {
   "cell_type": "markdown",
   "metadata": {},
   "source": [
    "The choice of threshold will have an impact in the trade-offs of positive and negative errors. The simple way to handle class imbalance is to change the decision threshold.\n",
    "\n",
    "So how to do it?\n",
    "\n",
    "1. fit model on the training set\n",
    "2. predict probabilities on test set\n",
    "3. for each threshold:\n",
    "    Convert probabilities to Class Labels using the threshold\n",
    "    evaluate class labels\n",
    "    if score is better than best score\n",
    "        - use it\n",
    "4. Use the threshold \n",
    "\n"
   ]
  },
  {
   "cell_type": "markdown",
   "metadata": {},
   "source": [
    "### The precision-recall curve"
   ]
  },
  {
   "cell_type": "code",
   "execution_count": 289,
   "metadata": {},
   "outputs": [
    {
     "data": {
      "text/plain": [
       "<function matplotlib.pyplot.show(close=None, block=None)>"
      ]
     },
     "execution_count": 289,
     "metadata": {},
     "output_type": "execute_result"
    },
    {
     "data": {
      "image/png": "[encoded data removed]",
      "text/plain": [
       "<Figure size 432x288 with 1 Axes>"
      ]
     },
     "metadata": {
      "needs_background": "light"
     },
     "output_type": "display_data"
    }
   ],
   "source": [
    "from sklearn.metrics import precision_recall_curve\n",
    "# keep probabilities for positive class\n",
    "yhat =final_pipeline.predict_proba(X_val)[:,1]\n",
    "\n",
    "precision, recall, thresholds = precision_recall_curve(y_val, yhat)\n",
    "\n",
    "no_skill = len(y_val[y_val==1]) / len(y_val)\n",
    "plt.plot([0,1], [no_skill,no_skill], linestyle='--', label='No Skill')\n",
    "plt.plot(recall, precision, marker='.', label='LightGBM')\n",
    "plt.xlabel(\"Recall\")\n",
    "plt.ylabel(\"Precision\")\n",
    "plt.legend()\n",
    "plt.show"
   ]
  },
  {
   "cell_type": "code",
   "execution_count": 290,
   "metadata": {},
   "outputs": [
    {
     "name": "stdout",
     "output_type": "stream",
     "text": [
      "Best Threshold=0.294404, F-measure=0.812\n"
     ]
    }
   ],
   "source": [
    "# convert to f2-measure\n",
    "f2score = (5 * precision * recall) / (4 * precision + recall)\n",
    "ix = np.argmax(f2score)\n",
    "print('Best Threshold=%f, F-measure=%.3f' % (thresholds[ix], f2score[ix]))"
   ]
  },
  {
   "cell_type": "code",
   "execution_count": 291,
   "metadata": {},
   "outputs": [
    {
     "data": {
      "text/plain": [
       "<function matplotlib.pyplot.show(close=None, block=None)>"
      ]
     },
     "execution_count": 291,
     "metadata": {},
     "output_type": "execute_result"
    },
    {
     "data": {
      "image/png": "[encoded data removed]",
      "text/plain": [
       "<Figure size 432x288 with 1 Axes>"
      ]
     },
     "metadata": {
      "needs_background": "light"
     },
     "output_type": "display_data"
    }
   ],
   "source": [
    "no_skill = len(y_val[y_val==1]) / len(y_val)\n",
    "plt.plot([0,1], [no_skill,no_skill], linestyle='--', label='No Skill')\n",
    "plt.plot(recall, precision, marker='.', label='LightGBM')\n",
    "plt.scatter(recall[ix], precision[ix], marker=\"o\", color=\"black\", label=\"best\")\n",
    "plt.xlabel(\"Recall\")\n",
    "plt.ylabel(\"Precision\")\n",
    "plt.legend()\n",
    "plt.show"
   ]
  },
  {
   "cell_type": "code",
   "execution_count": 292,
   "metadata": {},
   "outputs": [
    {
     "name": "stdout",
     "output_type": "stream",
     "text": [
      "Threshold=0.350, F-measure=0.81200\n"
     ]
    }
   ],
   "source": [
    "def to_labels(pos_probs, threshold):\n",
    "    return (pos_probs >= threshold).astype('int')\n",
    "    \n",
    "# define thresholds\n",
    "thresholds = np.arange(0, 1, 0.001)\n",
    "\n",
    "scores = [fbeta_score(y_val, to_labels(yhat, t),beta=2) for t in thresholds]\n",
    "# get best threshold\n",
    "ix = np.argmax(scores)\n",
    "print('Threshold=%.3f, F-measure=%.5f' % (thresholds[ix], scores[ix]))"
   ]
  },
  {
   "cell_type": "markdown",
   "metadata": {},
   "source": [
    "## Results with other thresholds"
   ]
  },
  {
   "cell_type": "code",
   "execution_count": 295,
   "metadata": {},
   "outputs": [
    {
     "name": "stdout",
     "output_type": "stream",
     "text": [
      "              precision    recall  f1-score   support\n",
      "\n",
      "   Non-churn       0.97      0.61      0.75      1351\n",
      "       Churn       0.51      0.96      0.66       557\n",
      "\n",
      "    accuracy                           0.71      1908\n",
      "   macro avg       0.74      0.79      0.71      1908\n",
      "weighted avg       0.84      0.71      0.73      1908\n",
      "\n",
      "[[903 448]\n",
      " [ 42 515]]\n"
     ]
    }
   ],
   "source": [
    "preds = final_pipeline.predict_proba(X_val)\n",
    "\n",
    "# Create a dataframe for the probabilities of default\n",
    "preds_df = pd.DataFrame(preds[:,1], columns = [\"prob_churn\"])\n",
    "\n",
    "\n",
    "# Reassign loan status based on the threshold\n",
    "preds_df['churn_status'] = preds_df['prob_churn'].apply(lambda x: 1 if x > 0.35 else 0)\n",
    "\n",
    "preds_df['real_status'] = pd.DataFrame(y_val.values)\n",
    "# Print the row counts for each loan status\n",
    "num_churns = preds_df['churn_status'].value_counts()[1]\n",
    "\n",
    "# Print the classification report\n",
    "target_names = ['Non-churn', 'Churn']\n",
    "print(classification_report(y_val, preds_df['churn_status'], target_names=target_names))\n",
    "print(confusion_matrix(y_val, predicted))"
   ]
  },
  {
   "cell_type": "code",
   "execution_count": 249,
   "metadata": {},
   "outputs": [
    {
     "name": "stdout",
     "output_type": "stream",
     "text": [
      "525\n"
     ]
    }
   ],
   "source": [
    "# COST FUNCTION\n",
    "def my_scorer(y_test, y_est, cost_fp=1, cost_fn=2):\n",
    "    tn, fp, fn, tp = confusion_matrix(y_test, y_est).ravel()\n",
    "    return cost_fp*fp + cost_fn*fn\n",
    "\n",
    "clf = final_pipeline.fit(X_train, y_train)\n",
    "print(my_scorer(y_val, clf.predict(X_val)))"
   ]
  },
  {
   "cell_type": "code",
   "execution_count": 166,
   "metadata": {},
   "outputs": [
    {
     "data": {
      "image/png": "[encoded data removed]",
      "text/plain": [
       "<Figure size 432x288 with 1 Axes>"
      ]
     },
     "metadata": {
      "needs_background": "light"
     },
     "output_type": "display_data"
    }
   ],
   "source": [
    "# Create a dataframe for the probabilities of default\n",
    "preds_df_cal = preds[:,1]\n",
    "preds_df_cal\n",
    "plt.hist(preds_df_cal, color=\"blue\", bins=40)\n",
    "# Calculate the threshold with quantile\n",
    "threshold_q = np.quantile(preds_df_cal, 0.85) # acceptance rate of 85% using \n",
    "\n",
    "# Add a reference line to the plot for the threshold\n",
    "plt.axvline(x = threshold_q, color = 'red')\n",
    "plt.show()"
   ]
  },
  {
   "cell_type": "markdown",
   "metadata": {},
   "source": [
    "left side are accepted churns, right are churns rejected"
   ]
  },
  {
   "cell_type": "code",
   "execution_count": null,
   "metadata": {},
   "outputs": [],
   "source": [
    "target_names = ['Non-churn', 'Churn']\n",
    "print(classification_report(y_val, preds_df['churn_status'], target_names=target_names))"
   ]
  },
  {
   "cell_type": "code",
   "execution_count": 296,
   "metadata": {},
   "outputs": [
    {
     "name": "stdout",
     "output_type": "stream",
     "text": [
      "   prob_churn  churn_status  real_status\n",
      "0    0.997551             1            1\n",
      "1    0.026225             0            0\n",
      "2    0.993682             1            0\n",
      "3    0.997360             1            1\n",
      "4    0.011213             0            0\n",
      "0.02810304449648712\n"
     ]
    }
   ],
   "source": [
    "# Print the top 5 rows of the new data frame\n",
    "print(preds_df.head())\n",
    "\n",
    "# Create a subset of only accepted loans\n",
    "accepted_loans = preds_df[preds_df['churn_status'] == 0]\n",
    "\n",
    "# Calculate the bad rate\n",
    "print(np.sum(accepted_loans['real_status']) / accepted_loans['real_status'].count())"
   ]
  },
  {
   "cell_type": "code",
   "execution_count": 299,
   "metadata": {},
   "outputs": [
    {
     "data": {
      "text/plain": [
       "0.9930050596040154"
      ]
     },
     "execution_count": 299,
     "metadata": {},
     "output_type": "execute_result"
    }
   ],
   "source": [
    "threshold_q = np.quantile(preds_df.prob_churn, 0.85)\n",
    "threshold_q"
   ]
  },
  {
   "cell_type": "code",
   "execution_count": null,
   "metadata": {},
   "outputs": [],
   "source": [
    "# Store the default recall from the classification report\n",
    "default_recall = precision_recall_fscore_support(y_test,preds_df['loan_status'])[1][1]\n",
    "\n",
    "# Calculate the estimated impact of the new default recall rate\n",
    "print(num_churns * avg_loan_amnt * (1 - default_recall))"
   ]
  },
  {
   "cell_type": "code",
   "execution_count": 129,
   "metadata": {},
   "outputs": [
    {
     "data": {
      "text/plain": [
       "array([1, 0, 1, ..., 1, 0, 0])"
      ]
     },
     "execution_count": 129,
     "metadata": {},
     "output_type": "execute_result"
    }
   ],
   "source": [
    "probs1 = (final_pipeline.predict_proba(X_val)[:,1]>=0.24).astype(int)\n",
    "probs1"
   ]
  },
  {
   "cell_type": "code",
   "execution_count": 276,
   "metadata": {},
   "outputs": [
    {
     "name": "stdout",
     "output_type": "stream",
     "text": [
      "483\n"
     ]
    }
   ],
   "source": [
    "# Create a scorer assigning more cost to false positives\n",
    "def my_scorer(y_test, y_est, cost_fp=1, cost_fn=2):\n",
    "    tn, fp, fn, tp = confusion_matrix(y_test, y_est).ravel()\n",
    "    return cost_fp*fp + cost_fn*fn\n",
    "\n",
    "clf = final_pipeline.fit(X_train, y_train)\n",
    "print(my_scorer(y_val, clf.predict(X_val)))"
   ]
  }
 ],
 "metadata": {
  "interpreter": {
   "hash": "3e49c3c660bb3da03bb80538bab8d3b7446076cf250c2919d2328cdd966089b9"
  },
  "kernelspec": {
   "display_name": "Python 3.9.7 ('env_full')",
   "language": "python",
   "name": "python3"
  },
  "language_info": {
   "codemirror_mode": {
    "name": "ipython",
    "version": 3
   },
   "file_extension": ".py",
   "mimetype": "text/x-python",
   "name": "python",
   "nbconvert_exporter": "python",
   "pygments_lexer": "ipython3",
   "version": "3.9.7"
  },
  "orig_nbformat": 4
 },
 "nbformat": 4,
 "nbformat_minor": 2
}
