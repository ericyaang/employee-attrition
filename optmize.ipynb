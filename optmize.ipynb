{
 "cells": [
  {
   "cell_type": "code",
   "execution_count": 1,
   "metadata": {},
   "outputs": [],
   "source": [
    "import pandas as pd\n",
    "import numpy as np\n",
    "import random\n",
    "import matplotlib.pyplot as plt\n",
    "from sklearn.model_selection import train_test_split\n",
    "import optuna\n",
    "\n",
    "seeds = 1234\n",
    "def set_seeds(seed=seeds):\n",
    "    \"\"\"Set seeds for reproducibility.\"\"\"\n",
    "    np.random.seed(seed)\n",
    "    random.seed(seed)\n",
    "# Set seeds\n",
    "set_seeds()\n",
    "\n",
    "# Import train set\n",
    "df = pd.read_pickle(r\"train_enc.pkl\")\n",
    "\n",
    "# Separate labels and target\n",
    "X, y =  df.drop(columns=\"left\", axis = 1), df[\"left\"]\n"
   ]
  },
  {
   "cell_type": "code",
   "execution_count": 2,
   "metadata": {},
   "outputs": [],
   "source": [
    "from sklearn.pipeline import Pipeline, make_pipeline\n",
    "from sklearn.compose import ColumnTransformer\n",
    "from sklearn.preprocessing import OneHotEncoder\n",
    "from sklearn.preprocessing import MinMaxScaler\n",
    "from sklearn.model_selection import RepeatedStratifiedKFold\n",
    "\n",
    "from imblearn.pipeline import make_pipeline, Pipeline\n",
    "from imblearn.under_sampling import EditedNearestNeighbours\n",
    "from imblearn.combine import SMOTEENN\n",
    "from lightgbm import LGBMClassifier\n",
    "\n",
    "from sklearn.metrics import fbeta_score, make_scorer, precision_score, recall_score\n",
    "\n",
    "def f2_measure(y_true, y_pred):\n",
    "    return fbeta_score(y_true, y_pred, beta=2)\n",
    "\n",
    "f2_score = make_scorer(f2_measure)    \n",
    "\n",
    "# Get variable names\n",
    "bi_vars = [col for col in X.columns if X[col].nunique() == 2]\n",
    "num_vars = [col for col in X.columns if (X[col].dtype in [\"int8\", \"float32\"]) & (col not in bi_vars)]\n",
    "cat_vars = [col for col in X.columns if (col not in num_vars) & (col not in bi_vars)]\n",
    "\n",
    "# Preprocessing recipe\n",
    "preprocess = ColumnTransformer(\n",
    "    transformers=[\n",
    "        (\"scaler\", MinMaxScaler(), num_vars),\n",
    "        (\"ohe\", OneHotEncoder(), cat_vars)\n",
    "    ], remainder = \"passthrough\"\n",
    ")\n",
    "\n",
    "# Resampling\n",
    "smoteen = SMOTEENN(enn=EditedNearestNeighbours(sampling_strategy='majority'), random_state=seeds)\n",
    "\n",
    "clf = LGBMClassifier(random_state=seeds)\n",
    "pipe_final = make_pipeline(preprocess, smoteen, clf)"
   ]
  },
  {
   "cell_type": "markdown",
   "metadata": {},
   "source": [
    "## Tune 1"
   ]
  },
  {
   "cell_type": "code",
   "execution_count": 103,
   "metadata": {},
   "outputs": [],
   "source": [
    "import numpy as np\n",
    "import pandas as pd\n",
    "from sklearn.model_selection import train_test_split\n",
    "from sklearn.metrics import roc_auc_score,f1_score\n",
    "import optuna\n",
    "\n",
    "\n",
    "def objective(trial,data=X,target=y):\n",
    "    \n",
    "    \n",
    "    train_x, test_x, train_y, test_y = train_test_split(data, target, test_size=0.2,random_state=seeds)\n",
    "    params = {\n",
    "                \"verbosity\": -1,\n",
    "                \"boosting_type\": \"gbdt\",\n",
    "                \"num_leaves\": trial.suggest_int(\"num_leaves\", 2, 256),\n",
    "                \"min_child_samples\": trial.suggest_int(\"min_child_samples\", 5, 100),\n",
    "                \"colsample_bytree\": trial.suggest_float(\"colsample_bytree\", 0.2, 0.9),\n",
    "                \"colsample_bynode\": trial.suggest_float(\"colsample_bynode\", 0.2, 0.9),\n",
    "    }\n",
    "    clf = LGBMClassifier(random_state=seeds,scale_pos_weight=2, **params)\n",
    "    model = make_pipeline(preprocess, clf)\n",
    "    model.fit(train_x, train_y)\n",
    "    predictions = model.predict_proba(test_x)[:,1]\n",
    "    f1 = f1_score(test_y, predictions, average='macro')\n",
    "    return f1"
   ]
  },
  {
   "cell_type": "code",
   "execution_count": 104,
   "metadata": {},
   "outputs": [
    {
     "name": "stderr",
     "output_type": "stream",
     "text": [
      "\u001b[32m[I 2022-02-17 16:51:21,740]\u001b[0m A new study created in memory with name: no-name-a8bfa4e4-ed9c-4617-a9aa-1e33cb23c833\u001b[0m\n",
      "\u001b[33m[W 2022-02-17 16:51:21,748]\u001b[0m Trial 0 failed because of the following error: ValueError('Pipeline.fit does not accept the eval_set parameter. You can pass parameters to specific steps of your pipeline using the stepname__parameter format, e.g. `Pipeline.fit(X, y, logisticregression__sample_weight=sample_weight)`.')\u001b[0m\n",
      "Traceback (most recent call last):\n",
      "  File \"C:\\ProgramData\\Anaconda3\\envs\\env_full\\lib\\site-packages\\optuna\\study\\_optimize.py\", line 213, in _run_trial\n",
      "    value_or_values = func(trial)\n",
      "  File \"C:\\Users\\Eric\\AppData\\Local\\Temp/ipykernel_4756/3310503327.py\", line 22, in objective\n",
      "    model.fit(train_x, train_y, eval_set=[(test_x, test_y)],\n",
      "  File \"C:\\ProgramData\\Anaconda3\\envs\\env_full\\lib\\site-packages\\imblearn\\pipeline.py\", line 267, in fit\n",
      "    fit_params_steps = self._check_fit_params(**fit_params)\n",
      "  File \"C:\\ProgramData\\Anaconda3\\envs\\env_full\\lib\\site-packages\\sklearn\\pipeline.py\", line 300, in _check_fit_params\n",
      "    raise ValueError(\n",
      "ValueError: Pipeline.fit does not accept the eval_set parameter. You can pass parameters to specific steps of your pipeline using the stepname__parameter format, e.g. `Pipeline.fit(X, y, logisticregression__sample_weight=sample_weight)`.\n"
     ]
    },
    {
     "ename": "ValueError",
     "evalue": "Pipeline.fit does not accept the eval_set parameter. You can pass parameters to specific steps of your pipeline using the stepname__parameter format, e.g. `Pipeline.fit(X, y, logisticregression__sample_weight=sample_weight)`.",
     "output_type": "error",
     "traceback": [
      "\u001b[1;31m---------------------------------------------------------------------------\u001b[0m",
      "\u001b[1;31mValueError\u001b[0m                                Traceback (most recent call last)",
      "\u001b[1;32m~\\AppData\\Local\\Temp/ipykernel_4756/861241565.py\u001b[0m in \u001b[0;36m<module>\u001b[1;34m\u001b[0m\n\u001b[0;32m      1\u001b[0m \u001b[0mstudy\u001b[0m \u001b[1;33m=\u001b[0m \u001b[0moptuna\u001b[0m\u001b[1;33m.\u001b[0m\u001b[0mcreate_study\u001b[0m\u001b[1;33m(\u001b[0m\u001b[0mdirection\u001b[0m\u001b[1;33m=\u001b[0m\u001b[1;34m'maximize'\u001b[0m\u001b[1;33m)\u001b[0m\u001b[1;33m\u001b[0m\u001b[1;33m\u001b[0m\u001b[0m\n\u001b[1;32m----> 2\u001b[1;33m \u001b[0mstudy\u001b[0m\u001b[1;33m.\u001b[0m\u001b[0moptimize\u001b[0m\u001b[1;33m(\u001b[0m\u001b[0mobjective\u001b[0m\u001b[1;33m,\u001b[0m \u001b[0mn_trials\u001b[0m\u001b[1;33m=\u001b[0m\u001b[1;36m50\u001b[0m\u001b[1;33m)\u001b[0m\u001b[1;33m\u001b[0m\u001b[1;33m\u001b[0m\u001b[0m\n\u001b[0m\u001b[0;32m      3\u001b[0m \u001b[0mprint\u001b[0m\u001b[1;33m(\u001b[0m\u001b[1;34m'Number of finished trials:'\u001b[0m\u001b[1;33m,\u001b[0m \u001b[0mlen\u001b[0m\u001b[1;33m(\u001b[0m\u001b[0mstudy\u001b[0m\u001b[1;33m.\u001b[0m\u001b[0mtrials\u001b[0m\u001b[1;33m)\u001b[0m\u001b[1;33m)\u001b[0m\u001b[1;33m\u001b[0m\u001b[1;33m\u001b[0m\u001b[0m\n\u001b[0;32m      4\u001b[0m \u001b[0mprint\u001b[0m\u001b[1;33m(\u001b[0m\u001b[1;34m'Best trial:'\u001b[0m\u001b[1;33m,\u001b[0m \u001b[0mstudy\u001b[0m\u001b[1;33m.\u001b[0m\u001b[0mbest_trial\u001b[0m\u001b[1;33m.\u001b[0m\u001b[0mparams\u001b[0m\u001b[1;33m)\u001b[0m\u001b[1;33m\u001b[0m\u001b[1;33m\u001b[0m\u001b[0m\n",
      "\u001b[1;32mC:\\ProgramData\\Anaconda3\\envs\\env_full\\lib\\site-packages\\optuna\\study\\study.py\u001b[0m in \u001b[0;36moptimize\u001b[1;34m(self, func, n_trials, timeout, n_jobs, catch, callbacks, gc_after_trial, show_progress_bar)\u001b[0m\n\u001b[0;32m    398\u001b[0m             )\n\u001b[0;32m    399\u001b[0m \u001b[1;33m\u001b[0m\u001b[0m\n\u001b[1;32m--> 400\u001b[1;33m         _optimize(\n\u001b[0m\u001b[0;32m    401\u001b[0m             \u001b[0mstudy\u001b[0m\u001b[1;33m=\u001b[0m\u001b[0mself\u001b[0m\u001b[1;33m,\u001b[0m\u001b[1;33m\u001b[0m\u001b[1;33m\u001b[0m\u001b[0m\n\u001b[0;32m    402\u001b[0m             \u001b[0mfunc\u001b[0m\u001b[1;33m=\u001b[0m\u001b[0mfunc\u001b[0m\u001b[1;33m,\u001b[0m\u001b[1;33m\u001b[0m\u001b[1;33m\u001b[0m\u001b[0m\n",
      "\u001b[1;32mC:\\ProgramData\\Anaconda3\\envs\\env_full\\lib\\site-packages\\optuna\\study\\_optimize.py\u001b[0m in \u001b[0;36m_optimize\u001b[1;34m(study, func, n_trials, timeout, n_jobs, catch, callbacks, gc_after_trial, show_progress_bar)\u001b[0m\n\u001b[0;32m     64\u001b[0m     \u001b[1;32mtry\u001b[0m\u001b[1;33m:\u001b[0m\u001b[1;33m\u001b[0m\u001b[1;33m\u001b[0m\u001b[0m\n\u001b[0;32m     65\u001b[0m         \u001b[1;32mif\u001b[0m \u001b[0mn_jobs\u001b[0m \u001b[1;33m==\u001b[0m \u001b[1;36m1\u001b[0m\u001b[1;33m:\u001b[0m\u001b[1;33m\u001b[0m\u001b[1;33m\u001b[0m\u001b[0m\n\u001b[1;32m---> 66\u001b[1;33m             _optimize_sequential(\n\u001b[0m\u001b[0;32m     67\u001b[0m                 \u001b[0mstudy\u001b[0m\u001b[1;33m,\u001b[0m\u001b[1;33m\u001b[0m\u001b[1;33m\u001b[0m\u001b[0m\n\u001b[0;32m     68\u001b[0m                 \u001b[0mfunc\u001b[0m\u001b[1;33m,\u001b[0m\u001b[1;33m\u001b[0m\u001b[1;33m\u001b[0m\u001b[0m\n",
      "\u001b[1;32mC:\\ProgramData\\Anaconda3\\envs\\env_full\\lib\\site-packages\\optuna\\study\\_optimize.py\u001b[0m in \u001b[0;36m_optimize_sequential\u001b[1;34m(study, func, n_trials, timeout, catch, callbacks, gc_after_trial, reseed_sampler_rng, time_start, progress_bar)\u001b[0m\n\u001b[0;32m    161\u001b[0m \u001b[1;33m\u001b[0m\u001b[0m\n\u001b[0;32m    162\u001b[0m         \u001b[1;32mtry\u001b[0m\u001b[1;33m:\u001b[0m\u001b[1;33m\u001b[0m\u001b[1;33m\u001b[0m\u001b[0m\n\u001b[1;32m--> 163\u001b[1;33m             \u001b[0mtrial\u001b[0m \u001b[1;33m=\u001b[0m \u001b[0m_run_trial\u001b[0m\u001b[1;33m(\u001b[0m\u001b[0mstudy\u001b[0m\u001b[1;33m,\u001b[0m \u001b[0mfunc\u001b[0m\u001b[1;33m,\u001b[0m \u001b[0mcatch\u001b[0m\u001b[1;33m)\u001b[0m\u001b[1;33m\u001b[0m\u001b[1;33m\u001b[0m\u001b[0m\n\u001b[0m\u001b[0;32m    164\u001b[0m         \u001b[1;32mexcept\u001b[0m \u001b[0mException\u001b[0m\u001b[1;33m:\u001b[0m\u001b[1;33m\u001b[0m\u001b[1;33m\u001b[0m\u001b[0m\n\u001b[0;32m    165\u001b[0m             \u001b[1;32mraise\u001b[0m\u001b[1;33m\u001b[0m\u001b[1;33m\u001b[0m\u001b[0m\n",
      "\u001b[1;32mC:\\ProgramData\\Anaconda3\\envs\\env_full\\lib\\site-packages\\optuna\\study\\_optimize.py\u001b[0m in \u001b[0;36m_run_trial\u001b[1;34m(study, func, catch)\u001b[0m\n\u001b[0;32m    262\u001b[0m \u001b[1;33m\u001b[0m\u001b[0m\n\u001b[0;32m    263\u001b[0m     \u001b[1;32mif\u001b[0m \u001b[0mstate\u001b[0m \u001b[1;33m==\u001b[0m \u001b[0mTrialState\u001b[0m\u001b[1;33m.\u001b[0m\u001b[0mFAIL\u001b[0m \u001b[1;32mand\u001b[0m \u001b[0mfunc_err\u001b[0m \u001b[1;32mis\u001b[0m \u001b[1;32mnot\u001b[0m \u001b[1;32mNone\u001b[0m \u001b[1;32mand\u001b[0m \u001b[1;32mnot\u001b[0m \u001b[0misinstance\u001b[0m\u001b[1;33m(\u001b[0m\u001b[0mfunc_err\u001b[0m\u001b[1;33m,\u001b[0m \u001b[0mcatch\u001b[0m\u001b[1;33m)\u001b[0m\u001b[1;33m:\u001b[0m\u001b[1;33m\u001b[0m\u001b[1;33m\u001b[0m\u001b[0m\n\u001b[1;32m--> 264\u001b[1;33m         \u001b[1;32mraise\u001b[0m \u001b[0mfunc_err\u001b[0m\u001b[1;33m\u001b[0m\u001b[1;33m\u001b[0m\u001b[0m\n\u001b[0m\u001b[0;32m    265\u001b[0m     \u001b[1;32mreturn\u001b[0m \u001b[0mtrial\u001b[0m\u001b[1;33m\u001b[0m\u001b[1;33m\u001b[0m\u001b[0m\n\u001b[0;32m    266\u001b[0m \u001b[1;33m\u001b[0m\u001b[0m\n",
      "\u001b[1;32mC:\\ProgramData\\Anaconda3\\envs\\env_full\\lib\\site-packages\\optuna\\study\\_optimize.py\u001b[0m in \u001b[0;36m_run_trial\u001b[1;34m(study, func, catch)\u001b[0m\n\u001b[0;32m    211\u001b[0m \u001b[1;33m\u001b[0m\u001b[0m\n\u001b[0;32m    212\u001b[0m     \u001b[1;32mtry\u001b[0m\u001b[1;33m:\u001b[0m\u001b[1;33m\u001b[0m\u001b[1;33m\u001b[0m\u001b[0m\n\u001b[1;32m--> 213\u001b[1;33m         \u001b[0mvalue_or_values\u001b[0m \u001b[1;33m=\u001b[0m \u001b[0mfunc\u001b[0m\u001b[1;33m(\u001b[0m\u001b[0mtrial\u001b[0m\u001b[1;33m)\u001b[0m\u001b[1;33m\u001b[0m\u001b[1;33m\u001b[0m\u001b[0m\n\u001b[0m\u001b[0;32m    214\u001b[0m     \u001b[1;32mexcept\u001b[0m \u001b[0mexceptions\u001b[0m\u001b[1;33m.\u001b[0m\u001b[0mTrialPruned\u001b[0m \u001b[1;32mas\u001b[0m \u001b[0me\u001b[0m\u001b[1;33m:\u001b[0m\u001b[1;33m\u001b[0m\u001b[1;33m\u001b[0m\u001b[0m\n\u001b[0;32m    215\u001b[0m         \u001b[1;31m# TODO(mamu): Handle multi-objective cases.\u001b[0m\u001b[1;33m\u001b[0m\u001b[1;33m\u001b[0m\u001b[0m\n",
      "\u001b[1;32m~\\AppData\\Local\\Temp/ipykernel_4756/3310503327.py\u001b[0m in \u001b[0;36mobjective\u001b[1;34m(trial, data, target)\u001b[0m\n\u001b[0;32m     20\u001b[0m     \u001b[0mclf\u001b[0m \u001b[1;33m=\u001b[0m \u001b[0mLGBMClassifier\u001b[0m\u001b[1;33m(\u001b[0m\u001b[0mrandom_state\u001b[0m\u001b[1;33m=\u001b[0m\u001b[0mseeds\u001b[0m\u001b[1;33m,\u001b[0m\u001b[0mscale_pos_weight\u001b[0m\u001b[1;33m=\u001b[0m\u001b[1;36m2\u001b[0m\u001b[1;33m,\u001b[0m \u001b[1;33m**\u001b[0m\u001b[0mparams\u001b[0m\u001b[1;33m)\u001b[0m\u001b[1;33m\u001b[0m\u001b[1;33m\u001b[0m\u001b[0m\n\u001b[0;32m     21\u001b[0m     \u001b[0mmodel\u001b[0m \u001b[1;33m=\u001b[0m \u001b[0mmake_pipeline\u001b[0m\u001b[1;33m(\u001b[0m\u001b[0mpreprocess\u001b[0m\u001b[1;33m,\u001b[0m \u001b[0mclf\u001b[0m\u001b[1;33m)\u001b[0m\u001b[1;33m\u001b[0m\u001b[1;33m\u001b[0m\u001b[0m\n\u001b[1;32m---> 22\u001b[1;33m     model.fit(train_x, train_y, eval_set=[(test_x, test_y)],\n\u001b[0m\u001b[0;32m     23\u001b[0m             \u001b[0mearly_stopping_rounds\u001b[0m\u001b[1;33m=\u001b[0m\u001b[1;36m100\u001b[0m\u001b[1;33m,\u001b[0m\u001b[1;33m\u001b[0m\u001b[1;33m\u001b[0m\u001b[0m\n\u001b[0;32m     24\u001b[0m             verbose=False)\n",
      "\u001b[1;32mC:\\ProgramData\\Anaconda3\\envs\\env_full\\lib\\site-packages\\imblearn\\pipeline.py\u001b[0m in \u001b[0;36mfit\u001b[1;34m(self, X, y, **fit_params)\u001b[0m\n\u001b[0;32m    265\u001b[0m             \u001b[0mThis\u001b[0m \u001b[0mestimator\u001b[0m\u001b[1;33m.\u001b[0m\u001b[1;33m\u001b[0m\u001b[1;33m\u001b[0m\u001b[0m\n\u001b[0;32m    266\u001b[0m         \"\"\"\n\u001b[1;32m--> 267\u001b[1;33m         \u001b[0mfit_params_steps\u001b[0m \u001b[1;33m=\u001b[0m \u001b[0mself\u001b[0m\u001b[1;33m.\u001b[0m\u001b[0m_check_fit_params\u001b[0m\u001b[1;33m(\u001b[0m\u001b[1;33m**\u001b[0m\u001b[0mfit_params\u001b[0m\u001b[1;33m)\u001b[0m\u001b[1;33m\u001b[0m\u001b[1;33m\u001b[0m\u001b[0m\n\u001b[0m\u001b[0;32m    268\u001b[0m         \u001b[0mXt\u001b[0m\u001b[1;33m,\u001b[0m \u001b[0myt\u001b[0m \u001b[1;33m=\u001b[0m \u001b[0mself\u001b[0m\u001b[1;33m.\u001b[0m\u001b[0m_fit\u001b[0m\u001b[1;33m(\u001b[0m\u001b[0mX\u001b[0m\u001b[1;33m,\u001b[0m \u001b[0my\u001b[0m\u001b[1;33m,\u001b[0m \u001b[1;33m**\u001b[0m\u001b[0mfit_params_steps\u001b[0m\u001b[1;33m)\u001b[0m\u001b[1;33m\u001b[0m\u001b[1;33m\u001b[0m\u001b[0m\n\u001b[0;32m    269\u001b[0m         \u001b[1;32mwith\u001b[0m \u001b[0m_print_elapsed_time\u001b[0m\u001b[1;33m(\u001b[0m\u001b[1;34m\"Pipeline\"\u001b[0m\u001b[1;33m,\u001b[0m \u001b[0mself\u001b[0m\u001b[1;33m.\u001b[0m\u001b[0m_log_message\u001b[0m\u001b[1;33m(\u001b[0m\u001b[0mlen\u001b[0m\u001b[1;33m(\u001b[0m\u001b[0mself\u001b[0m\u001b[1;33m.\u001b[0m\u001b[0msteps\u001b[0m\u001b[1;33m)\u001b[0m \u001b[1;33m-\u001b[0m \u001b[1;36m1\u001b[0m\u001b[1;33m)\u001b[0m\u001b[1;33m)\u001b[0m\u001b[1;33m:\u001b[0m\u001b[1;33m\u001b[0m\u001b[1;33m\u001b[0m\u001b[0m\n",
      "\u001b[1;32mC:\\ProgramData\\Anaconda3\\envs\\env_full\\lib\\site-packages\\sklearn\\pipeline.py\u001b[0m in \u001b[0;36m_check_fit_params\u001b[1;34m(self, **fit_params)\u001b[0m\n\u001b[0;32m    298\u001b[0m         \u001b[1;32mfor\u001b[0m \u001b[0mpname\u001b[0m\u001b[1;33m,\u001b[0m \u001b[0mpval\u001b[0m \u001b[1;32min\u001b[0m \u001b[0mfit_params\u001b[0m\u001b[1;33m.\u001b[0m\u001b[0mitems\u001b[0m\u001b[1;33m(\u001b[0m\u001b[1;33m)\u001b[0m\u001b[1;33m:\u001b[0m\u001b[1;33m\u001b[0m\u001b[1;33m\u001b[0m\u001b[0m\n\u001b[0;32m    299\u001b[0m             \u001b[1;32mif\u001b[0m \u001b[1;34m\"__\"\u001b[0m \u001b[1;32mnot\u001b[0m \u001b[1;32min\u001b[0m \u001b[0mpname\u001b[0m\u001b[1;33m:\u001b[0m\u001b[1;33m\u001b[0m\u001b[1;33m\u001b[0m\u001b[0m\n\u001b[1;32m--> 300\u001b[1;33m                 raise ValueError(\n\u001b[0m\u001b[0;32m    301\u001b[0m                     \u001b[1;34m\"Pipeline.fit does not accept the {} parameter. \"\u001b[0m\u001b[1;33m\u001b[0m\u001b[1;33m\u001b[0m\u001b[0m\n\u001b[0;32m    302\u001b[0m                     \u001b[1;34m\"You can pass parameters to specific steps of your \"\u001b[0m\u001b[1;33m\u001b[0m\u001b[1;33m\u001b[0m\u001b[0m\n",
      "\u001b[1;31mValueError\u001b[0m: Pipeline.fit does not accept the eval_set parameter. You can pass parameters to specific steps of your pipeline using the stepname__parameter format, e.g. `Pipeline.fit(X, y, logisticregression__sample_weight=sample_weight)`."
     ]
    }
   ],
   "source": [
    "study = optuna.create_study(direction='maximize')\n",
    "study.optimize(objective, n_trials=50)\n",
    "print('Number of finished trials:', len(study.trials))\n",
    "print('Best trial:', study.best_trial.params)"
   ]
  },
  {
   "cell_type": "markdown",
   "metadata": {},
   "source": [
    "## Tune"
   ]
  },
  {
   "cell_type": "code",
   "execution_count": 88,
   "metadata": {},
   "outputs": [
    {
     "name": "stderr",
     "output_type": "stream",
     "text": [
      "\u001b[32m[I 2022-02-17 16:33:16,291]\u001b[0m A new study created in memory with name: no-name-8b3d7cf2-c870-4fd0-82fa-9a41e08807ab\u001b[0m\n"
     ]
    },
    {
     "name": "stdout",
     "output_type": "stream",
     "text": [
      "[LightGBM] [Warning] feature_fraction is set=0.8267236727110189, colsample_bytree=1.0 will be ignored. Current value: feature_fraction=0.8267236727110189\n",
      "[LightGBM] [Warning] lambda_l1 is set=0.06514575898316952, reg_alpha=0.0 will be ignored. Current value: lambda_l1=0.06514575898316952\n",
      "[LightGBM] [Warning] bagging_fraction is set=0.8349946090451172, subsample=1.0 will be ignored. Current value: bagging_fraction=0.8349946090451172\n",
      "[LightGBM] [Warning] lambda_l2 is set=1.9751838457968587e-07, reg_lambda=0.0 will be ignored. Current value: lambda_l2=1.9751838457968587e-07\n",
      "[LightGBM] [Warning] bagging_freq is set=3, subsample_freq=0 will be ignored. Current value: bagging_freq=3\n"
     ]
    },
    {
     "name": "stderr",
     "output_type": "stream",
     "text": [
      "\u001b[32m[I 2022-02-17 16:33:16,722]\u001b[0m Trial 0 finished with value: 0.924957720277355 and parameters: {'lambda_l1': 0.06514575898316952, 'lambda_l2': 1.9751838457968587e-07, 'num_leaves': 131, 'feature_fraction': 0.8267236727110189, 'bagging_fraction': 0.8349946090451172, 'bagging_freq': 3, 'min_child_samples': 98}. Best is trial 0 with value: 0.924957720277355.\u001b[0m\n"
     ]
    },
    {
     "name": "stdout",
     "output_type": "stream",
     "text": [
      "[LightGBM] [Warning] feature_fraction is set=0.43021982955569393, colsample_bytree=1.0 will be ignored. Current value: feature_fraction=0.43021982955569393\n",
      "[LightGBM] [Warning] lambda_l1 is set=3.810155143368929, reg_alpha=0.0 will be ignored. Current value: lambda_l1=3.810155143368929\n",
      "[LightGBM] [Warning] bagging_fraction is set=0.6903749522871129, subsample=1.0 will be ignored. Current value: bagging_fraction=0.6903749522871129\n",
      "[LightGBM] [Warning] lambda_l2 is set=0.0001065975764698808, reg_lambda=0.0 will be ignored. Current value: lambda_l2=0.0001065975764698808\n",
      "[LightGBM] [Warning] bagging_freq is set=1, subsample_freq=0 will be ignored. Current value: bagging_freq=1\n"
     ]
    },
    {
     "name": "stderr",
     "output_type": "stream",
     "text": [
      "\u001b[32m[I 2022-02-17 16:33:17,063]\u001b[0m Trial 1 finished with value: 0.9248414510400812 and parameters: {'lambda_l1': 3.810155143368929, 'lambda_l2': 0.0001065975764698808, 'num_leaves': 174, 'feature_fraction': 0.43021982955569393, 'bagging_fraction': 0.6903749522871129, 'bagging_freq': 1, 'min_child_samples': 53}. Best is trial 0 with value: 0.924957720277355.\u001b[0m\n"
     ]
    },
    {
     "name": "stdout",
     "output_type": "stream",
     "text": [
      "[LightGBM] [Warning] feature_fraction is set=0.9226360357239631, colsample_bytree=1.0 will be ignored. Current value: feature_fraction=0.9226360357239631\n",
      "[LightGBM] [Warning] lambda_l1 is set=2.875084347888479e-06, reg_alpha=0.0 will be ignored. Current value: lambda_l1=2.875084347888479e-06\n",
      "[LightGBM] [Warning] bagging_fraction is set=0.8410514148934715, subsample=1.0 will be ignored. Current value: bagging_fraction=0.8410514148934715\n",
      "[LightGBM] [Warning] lambda_l2 is set=0.0008296990793777786, reg_lambda=0.0 will be ignored. Current value: lambda_l2=0.0008296990793777786\n",
      "[LightGBM] [Warning] bagging_freq is set=4, subsample_freq=0 will be ignored. Current value: bagging_freq=4\n"
     ]
    },
    {
     "name": "stderr",
     "output_type": "stream",
     "text": [
      "\u001b[32m[I 2022-02-17 16:33:17,412]\u001b[0m Trial 2 finished with value: 0.9246744461356334 and parameters: {'lambda_l1': 2.875084347888479e-06, 'lambda_l2': 0.0008296990793777786, 'num_leaves': 24, 'feature_fraction': 0.9226360357239631, 'bagging_fraction': 0.8410514148934715, 'bagging_freq': 4, 'min_child_samples': 10}. Best is trial 0 with value: 0.924957720277355.\u001b[0m\n"
     ]
    },
    {
     "name": "stdout",
     "output_type": "stream",
     "text": [
      "[LightGBM] [Warning] feature_fraction is set=0.7179184585630725, colsample_bytree=1.0 will be ignored. Current value: feature_fraction=0.7179184585630725\n",
      "[LightGBM] [Warning] lambda_l1 is set=0.8666771901824198, reg_alpha=0.0 will be ignored. Current value: lambda_l1=0.8666771901824198\n",
      "[LightGBM] [Warning] bagging_fraction is set=0.6064307599490495, subsample=1.0 will be ignored. Current value: bagging_fraction=0.6064307599490495\n",
      "[LightGBM] [Warning] lambda_l2 is set=0.011669457674086586, reg_lambda=0.0 will be ignored. Current value: lambda_l2=0.011669457674086586\n",
      "[LightGBM] [Warning] bagging_freq is set=4, subsample_freq=0 will be ignored. Current value: bagging_freq=4\n"
     ]
    },
    {
     "name": "stderr",
     "output_type": "stream",
     "text": [
      "\u001b[32m[I 2022-02-17 16:33:18,081]\u001b[0m Trial 3 finished with value: 0.9220192795535261 and parameters: {'lambda_l1': 0.8666771901824198, 'lambda_l2': 0.011669457674086586, 'num_leaves': 165, 'feature_fraction': 0.7179184585630725, 'bagging_fraction': 0.6064307599490495, 'bagging_freq': 4, 'min_child_samples': 41}. Best is trial 0 with value: 0.924957720277355.\u001b[0m\n"
     ]
    },
    {
     "name": "stdout",
     "output_type": "stream",
     "text": [
      "[LightGBM] [Warning] feature_fraction is set=0.765048024266324, colsample_bytree=1.0 will be ignored. Current value: feature_fraction=0.765048024266324\n",
      "[LightGBM] [Warning] lambda_l1 is set=1.3865362811719462e-07, reg_alpha=0.0 will be ignored. Current value: lambda_l1=1.3865362811719462e-07\n",
      "[LightGBM] [Warning] bagging_fraction is set=0.5577479296576575, subsample=1.0 will be ignored. Current value: bagging_fraction=0.5577479296576575\n",
      "[LightGBM] [Warning] lambda_l2 is set=1.9412669432127464e-08, reg_lambda=0.0 will be ignored. Current value: lambda_l2=1.9412669432127464e-08\n",
      "[LightGBM] [Warning] bagging_freq is set=2, subsample_freq=0 will be ignored. Current value: bagging_freq=2\n"
     ]
    },
    {
     "name": "stderr",
     "output_type": "stream",
     "text": [
      "\u001b[32m[I 2022-02-17 16:33:18,745]\u001b[0m Trial 4 finished with value: 0.9207403179435142 and parameters: {'lambda_l1': 1.3865362811719462e-07, 'lambda_l2': 1.9412669432127464e-08, 'num_leaves': 71, 'feature_fraction': 0.765048024266324, 'bagging_fraction': 0.5577479296576575, 'bagging_freq': 2, 'min_child_samples': 43}. Best is trial 0 with value: 0.924957720277355.\u001b[0m\n"
     ]
    },
    {
     "name": "stdout",
     "output_type": "stream",
     "text": [
      "[LightGBM] [Warning] feature_fraction is set=0.6223465537149334, colsample_bytree=1.0 will be ignored. Current value: feature_fraction=0.6223465537149334\n",
      "[LightGBM] [Warning] lambda_l1 is set=0.010757547451431993, reg_alpha=0.0 will be ignored. Current value: lambda_l1=0.010757547451431993\n",
      "[LightGBM] [Warning] bagging_fraction is set=0.5568052479114087, subsample=1.0 will be ignored. Current value: bagging_fraction=0.5568052479114087\n",
      "[LightGBM] [Warning] lambda_l2 is set=1.295063670929102e-07, reg_lambda=0.0 will be ignored. Current value: lambda_l2=1.295063670929102e-07\n",
      "[LightGBM] [Warning] bagging_freq is set=2, subsample_freq=0 will be ignored. Current value: bagging_freq=2\n"
     ]
    },
    {
     "name": "stderr",
     "output_type": "stream",
     "text": [
      "\u001b[32m[I 2022-02-17 16:33:19,478]\u001b[0m Trial 5 finished with value: 0.9182267884322678 and parameters: {'lambda_l1': 0.010757547451431993, 'lambda_l2': 1.295063670929102e-07, 'num_leaves': 84, 'feature_fraction': 0.6223465537149334, 'bagging_fraction': 0.5568052479114087, 'bagging_freq': 2, 'min_child_samples': 22}. Best is trial 0 with value: 0.924957720277355.\u001b[0m\n"
     ]
    },
    {
     "name": "stdout",
     "output_type": "stream",
     "text": [
      "[LightGBM] [Warning] feature_fraction is set=0.7100939014021541, colsample_bytree=1.0 will be ignored. Current value: feature_fraction=0.7100939014021541\n",
      "[LightGBM] [Warning] lambda_l1 is set=1.716384430704023e-05, reg_alpha=0.0 will be ignored. Current value: lambda_l1=1.716384430704023e-05\n",
      "[LightGBM] [Warning] bagging_fraction is set=0.8023386983748484, subsample=1.0 will be ignored. Current value: bagging_fraction=0.8023386983748484\n",
      "[LightGBM] [Warning] lambda_l2 is set=0.0026153274935564, reg_lambda=0.0 will be ignored. Current value: lambda_l2=0.0026153274935564\n",
      "[LightGBM] [Warning] bagging_freq is set=1, subsample_freq=0 will be ignored. Current value: bagging_freq=1\n"
     ]
    },
    {
     "name": "stderr",
     "output_type": "stream",
     "text": [
      "\u001b[32m[I 2022-02-17 16:33:19,915]\u001b[0m Trial 6 finished with value: 0.9243869440216472 and parameters: {'lambda_l1': 1.716384430704023e-05, 'lambda_l2': 0.0026153274935564, 'num_leaves': 143, 'feature_fraction': 0.7100939014021541, 'bagging_fraction': 0.8023386983748484, 'bagging_freq': 1, 'min_child_samples': 87}. Best is trial 0 with value: 0.924957720277355.\u001b[0m\n",
      "\u001b[32m[I 2022-02-17 16:33:20,122]\u001b[0m Trial 7 finished with value: 0.9227137239979706 and parameters: {'lambda_l1': 5.259143279359682e-07, 'lambda_l2': 0.0022500765414208155, 'num_leaves': 7, 'feature_fraction': 0.8250287885123336, 'bagging_fraction': 0.6042804576686013, 'bagging_freq': 6, 'min_child_samples': 99}. Best is trial 0 with value: 0.924957720277355.\u001b[0m\n"
     ]
    },
    {
     "name": "stdout",
     "output_type": "stream",
     "text": [
      "[LightGBM] [Warning] feature_fraction is set=0.8250287885123336, colsample_bytree=1.0 will be ignored. Current value: feature_fraction=0.8250287885123336\n",
      "[LightGBM] [Warning] lambda_l1 is set=5.259143279359682e-07, reg_alpha=0.0 will be ignored. Current value: lambda_l1=5.259143279359682e-07\n",
      "[LightGBM] [Warning] bagging_fraction is set=0.6042804576686013, subsample=1.0 will be ignored. Current value: bagging_fraction=0.6042804576686013\n",
      "[LightGBM] [Warning] lambda_l2 is set=0.0022500765414208155, reg_lambda=0.0 will be ignored. Current value: lambda_l2=0.0022500765414208155\n",
      "[LightGBM] [Warning] bagging_freq is set=6, subsample_freq=0 will be ignored. Current value: bagging_freq=6\n",
      "[LightGBM] [Warning] feature_fraction is set=0.6593260237562765, colsample_bytree=1.0 will be ignored. Current value: feature_fraction=0.6593260237562765\n",
      "[LightGBM] [Warning] lambda_l1 is set=5.110046933076805e-05, reg_alpha=0.0 will be ignored. Current value: lambda_l1=5.110046933076805e-05\n",
      "[LightGBM] [Warning] bagging_fraction is set=0.45011086592236194, subsample=1.0 will be ignored. Current value: bagging_fraction=0.45011086592236194\n",
      "[LightGBM] [Warning] lambda_l2 is set=7.833349914288318e-05, reg_lambda=0.0 will be ignored. Current value: lambda_l2=7.833349914288318e-05\n",
      "[LightGBM] [Warning] bagging_freq is set=1, subsample_freq=0 will be ignored. Current value: bagging_freq=1\n"
     ]
    },
    {
     "name": "stderr",
     "output_type": "stream",
     "text": [
      "\u001b[32m[I 2022-02-17 16:33:20,697]\u001b[0m Trial 8 finished with value: 0.9173833079654998 and parameters: {'lambda_l1': 5.110046933076805e-05, 'lambda_l2': 7.833349914288318e-05, 'num_leaves': 60, 'feature_fraction': 0.6593260237562765, 'bagging_fraction': 0.45011086592236194, 'bagging_freq': 1, 'min_child_samples': 12}. Best is trial 0 with value: 0.924957720277355.\u001b[0m\n"
     ]
    },
    {
     "name": "stdout",
     "output_type": "stream",
     "text": [
      "[LightGBM] [Warning] feature_fraction is set=0.4912218958447454, colsample_bytree=1.0 will be ignored. Current value: feature_fraction=0.4912218958447454\n",
      "[LightGBM] [Warning] lambda_l1 is set=1.764133692866698, reg_alpha=0.0 will be ignored. Current value: lambda_l1=1.764133692866698\n",
      "[LightGBM] [Warning] bagging_fraction is set=0.5314913347348074, subsample=1.0 will be ignored. Current value: bagging_fraction=0.5314913347348074\n",
      "[LightGBM] [Warning] lambda_l2 is set=1.0959429616886919e-08, reg_lambda=0.0 will be ignored. Current value: lambda_l2=1.0959429616886919e-08\n",
      "[LightGBM] [Warning] bagging_freq is set=6, subsample_freq=0 will be ignored. Current value: bagging_freq=6\n"
     ]
    },
    {
     "name": "stderr",
     "output_type": "stream",
     "text": [
      "\u001b[32m[I 2022-02-17 16:33:21,022]\u001b[0m Trial 9 finished with value: 0.9234377642482666 and parameters: {'lambda_l1': 1.764133692866698, 'lambda_l2': 1.0959429616886919e-08, 'num_leaves': 128, 'feature_fraction': 0.4912218958447454, 'bagging_fraction': 0.5314913347348074, 'bagging_freq': 6, 'min_child_samples': 64}. Best is trial 0 with value: 0.924957720277355.\u001b[0m\n"
     ]
    },
    {
     "name": "stdout",
     "output_type": "stream",
     "text": [
      "[LightGBM] [Warning] feature_fraction is set=0.9626452311062837, colsample_bytree=1.0 will be ignored. Current value: feature_fraction=0.9626452311062837\n",
      "[LightGBM] [Warning] lambda_l1 is set=0.0043173258111230016, reg_alpha=0.0 will be ignored. Current value: lambda_l1=0.0043173258111230016\n",
      "[LightGBM] [Warning] bagging_fraction is set=0.9949948980612656, subsample=1.0 will be ignored. Current value: bagging_fraction=0.9949948980612656\n",
      "[LightGBM] [Warning] lambda_l2 is set=2.6525514029301274, reg_lambda=0.0 will be ignored. Current value: lambda_l2=2.6525514029301274\n",
      "[LightGBM] [Warning] bagging_freq is set=3, subsample_freq=0 will be ignored. Current value: bagging_freq=3\n"
     ]
    },
    {
     "name": "stderr",
     "output_type": "stream",
     "text": [
      "\u001b[32m[I 2022-02-17 16:33:21,599]\u001b[0m Trial 10 finished with value: 0.9230572467444614 and parameters: {'lambda_l1': 0.0043173258111230016, 'lambda_l2': 2.6525514029301274, 'num_leaves': 252, 'feature_fraction': 0.9626452311062837, 'bagging_fraction': 0.9949948980612656, 'bagging_freq': 3, 'min_child_samples': 76}. Best is trial 0 with value: 0.924957720277355.\u001b[0m\n",
      "\u001b[32m[I 2022-02-17 16:33:21,883]\u001b[0m Trial 11 finished with value: 0.9218522746490783 and parameters: {'lambda_l1': 9.380393489691542, 'lambda_l2': 3.851189668210794e-06, 'num_leaves': 205, 'feature_fraction': 0.41617300708721805, 'bagging_fraction': 0.7531881166906867, 'bagging_freq': 3, 'min_child_samples': 61}. Best is trial 0 with value: 0.924957720277355.\u001b[0m\n"
     ]
    },
    {
     "name": "stdout",
     "output_type": "stream",
     "text": [
      "[LightGBM] [Warning] feature_fraction is set=0.41617300708721805, colsample_bytree=1.0 will be ignored. Current value: feature_fraction=0.41617300708721805\n",
      "[LightGBM] [Warning] lambda_l1 is set=9.380393489691542, reg_alpha=0.0 will be ignored. Current value: lambda_l1=9.380393489691542\n",
      "[LightGBM] [Warning] bagging_fraction is set=0.7531881166906867, subsample=1.0 will be ignored. Current value: bagging_fraction=0.7531881166906867\n",
      "[LightGBM] [Warning] lambda_l2 is set=3.851189668210794e-06, reg_lambda=0.0 will be ignored. Current value: lambda_l2=3.851189668210794e-06\n",
      "[LightGBM] [Warning] bagging_freq is set=3, subsample_freq=0 will be ignored. Current value: bagging_freq=3\n",
      "[LightGBM] [Warning] feature_fraction is set=0.5432258002994697, colsample_bytree=1.0 will be ignored. Current value: feature_fraction=0.5432258002994697\n",
      "[LightGBM] [Warning] lambda_l1 is set=0.08326712756683323, reg_alpha=0.0 will be ignored. Current value: lambda_l1=0.08326712756683323\n",
      "[LightGBM] [Warning] bagging_fraction is set=0.8926329682026746, subsample=1.0 will be ignored. Current value: bagging_fraction=0.8926329682026746\n",
      "[LightGBM] [Warning] lambda_l2 is set=4.908453219063226e-06, reg_lambda=0.0 will be ignored. Current value: lambda_l2=4.908453219063226e-06\n",
      "[LightGBM] [Warning] bagging_freq is set=2, subsample_freq=0 will be ignored. Current value: bagging_freq=2\n"
     ]
    },
    {
     "name": "stderr",
     "output_type": "stream",
     "text": [
      "\u001b[32m[I 2022-02-17 16:33:22,322]\u001b[0m Trial 12 finished with value: 0.9222708439032641 and parameters: {'lambda_l1': 0.08326712756683323, 'lambda_l2': 4.908453219063226e-06, 'num_leaves': 186, 'feature_fraction': 0.5432258002994697, 'bagging_fraction': 0.8926329682026746, 'bagging_freq': 2, 'min_child_samples': 100}. Best is trial 0 with value: 0.924957720277355.\u001b[0m\n"
     ]
    },
    {
     "name": "stdout",
     "output_type": "stream",
     "text": [
      "[LightGBM] [Warning] feature_fraction is set=0.864747077512856, colsample_bytree=1.0 will be ignored. Current value: feature_fraction=0.864747077512856\n",
      "[LightGBM] [Warning] lambda_l1 is set=0.0011176249881078306, reg_alpha=0.0 will be ignored. Current value: lambda_l1=0.0011176249881078306\n",
      "[LightGBM] [Warning] bagging_fraction is set=0.6831738615407343, subsample=1.0 will be ignored. Current value: bagging_fraction=0.6831738615407343\n",
      "[LightGBM] [Warning] lambda_l2 is set=1.842507654171393e-06, reg_lambda=0.0 will be ignored. Current value: lambda_l2=1.842507654171393e-06\n",
      "[LightGBM] [Warning] bagging_freq is set=1, subsample_freq=0 will be ignored. Current value: bagging_freq=1\n"
     ]
    },
    {
     "name": "stderr",
     "output_type": "stream",
     "text": [
      "\u001b[32m[I 2022-02-17 16:33:23,049]\u001b[0m Trial 13 finished with value: 0.9191992220531033 and parameters: {'lambda_l1': 0.0011176249881078306, 'lambda_l2': 1.842507654171393e-06, 'num_leaves': 116, 'feature_fraction': 0.864747077512856, 'bagging_fraction': 0.6831738615407343, 'bagging_freq': 1, 'min_child_samples': 32}. Best is trial 0 with value: 0.924957720277355.\u001b[0m\n"
     ]
    },
    {
     "name": "stdout",
     "output_type": "stream",
     "text": [
      "[LightGBM] [Warning] feature_fraction is set=0.5724350359865022, colsample_bytree=1.0 will be ignored. Current value: feature_fraction=0.5724350359865022\n",
      "[LightGBM] [Warning] lambda_l1 is set=0.06589577154562977, reg_alpha=0.0 will be ignored. Current value: lambda_l1=0.06589577154562977\n",
      "[LightGBM] [Warning] bagging_fraction is set=0.7136181837358507, subsample=1.0 will be ignored. Current value: bagging_fraction=0.7136181837358507\n",
      "[LightGBM] [Warning] lambda_l2 is set=0.11757483302935162, reg_lambda=0.0 will be ignored. Current value: lambda_l2=0.11757483302935162\n",
      "[LightGBM] [Warning] bagging_freq is set=7, subsample_freq=0 will be ignored. Current value: bagging_freq=7\n"
     ]
    },
    {
     "name": "stderr",
     "output_type": "stream",
     "text": [
      "\u001b[32m[I 2022-02-17 16:33:23,478]\u001b[0m Trial 14 finished with value: 0.9229177236597329 and parameters: {'lambda_l1': 0.06589577154562977, 'lambda_l2': 0.11757483302935162, 'num_leaves': 224, 'feature_fraction': 0.5724350359865022, 'bagging_fraction': 0.7136181837358507, 'bagging_freq': 7, 'min_child_samples': 74}. Best is trial 0 with value: 0.924957720277355.\u001b[0m\n"
     ]
    },
    {
     "name": "stdout",
     "output_type": "stream",
     "text": [
      "[LightGBM] [Warning] feature_fraction is set=0.418753941599994, colsample_bytree=1.0 will be ignored. Current value: feature_fraction=0.418753941599994\n",
      "[LightGBM] [Warning] lambda_l1 is set=0.1062412795809559, reg_alpha=0.0 will be ignored. Current value: lambda_l1=0.1062412795809559\n",
      "[LightGBM] [Warning] bagging_fraction is set=0.9172676865899382, subsample=1.0 will be ignored. Current value: bagging_fraction=0.9172676865899382\n",
      "[LightGBM] [Warning] lambda_l2 is set=3.2737876869919545e-05, reg_lambda=0.0 will be ignored. Current value: lambda_l2=3.2737876869919545e-05\n",
      "[LightGBM] [Warning] bagging_freq is set=3, subsample_freq=0 will be ignored. Current value: bagging_freq=3\n"
     ]
    },
    {
     "name": "stderr",
     "output_type": "stream",
     "text": [
      "\u001b[32m[I 2022-02-17 16:33:24,143]\u001b[0m Trial 15 finished with value: 0.9191632842888551 and parameters: {'lambda_l1': 0.1062412795809559, 'lambda_l2': 3.2737876869919545e-05, 'num_leaves': 162, 'feature_fraction': 0.418753941599994, 'bagging_fraction': 0.9172676865899382, 'bagging_freq': 3, 'min_child_samples': 83}. Best is trial 0 with value: 0.924957720277355.\u001b[0m\n"
     ]
    },
    {
     "name": "stdout",
     "output_type": "stream",
     "text": [
      "[LightGBM] [Warning] feature_fraction is set=0.8121696257341431, colsample_bytree=1.0 will be ignored. Current value: feature_fraction=0.8121696257341431\n",
      "[LightGBM] [Warning] lambda_l1 is set=7.99318629235835, reg_alpha=0.0 will be ignored. Current value: lambda_l1=7.99318629235835\n",
      "[LightGBM] [Warning] bagging_fraction is set=0.6669633218261335, subsample=1.0 will be ignored. Current value: bagging_fraction=0.6669633218261335\n",
      "[LightGBM] [Warning] lambda_l2 is set=2.6802800031291535e-07, reg_lambda=0.0 will be ignored. Current value: lambda_l2=2.6802800031291535e-07\n",
      "[LightGBM] [Warning] bagging_freq is set=5, subsample_freq=0 will be ignored. Current value: bagging_freq=5\n"
     ]
    },
    {
     "name": "stderr",
     "output_type": "stream",
     "text": [
      "\u001b[32m[I 2022-02-17 16:33:24,469]\u001b[0m Trial 16 finished with value: 0.9263888888888889 and parameters: {'lambda_l1': 7.99318629235835, 'lambda_l2': 2.6802800031291535e-07, 'num_leaves': 94, 'feature_fraction': 0.8121696257341431, 'bagging_fraction': 0.6669633218261335, 'bagging_freq': 5, 'min_child_samples': 54}. Best is trial 16 with value: 0.9263888888888889.\u001b[0m\n"
     ]
    },
    {
     "name": "stdout",
     "output_type": "stream",
     "text": [
      "[LightGBM] [Warning] feature_fraction is set=0.8091371406610275, colsample_bytree=1.0 will be ignored. Current value: feature_fraction=0.8091371406610275\n",
      "[LightGBM] [Warning] lambda_l1 is set=0.39762917038122936, reg_alpha=0.0 will be ignored. Current value: lambda_l1=0.39762917038122936\n",
      "[LightGBM] [Warning] bagging_fraction is set=0.7981627166989003, subsample=1.0 will be ignored. Current value: bagging_fraction=0.7981627166989003\n",
      "[LightGBM] [Warning] lambda_l2 is set=3.0935994778473736e-07, reg_lambda=0.0 will be ignored. Current value: lambda_l2=3.0935994778473736e-07\n",
      "[LightGBM] [Warning] bagging_freq is set=5, subsample_freq=0 will be ignored. Current value: bagging_freq=5\n"
     ]
    },
    {
     "name": "stderr",
     "output_type": "stream",
     "text": [
      "\u001b[32m[I 2022-02-17 16:33:24,998]\u001b[0m Trial 17 finished with value: 0.9224188229325214 and parameters: {'lambda_l1': 0.39762917038122936, 'lambda_l2': 3.0935994778473736e-07, 'num_leaves': 93, 'feature_fraction': 0.8091371406610275, 'bagging_fraction': 0.7981627166989003, 'bagging_freq': 5, 'min_child_samples': 64}. Best is trial 16 with value: 0.9263888888888889.\u001b[0m\n"
     ]
    },
    {
     "name": "stdout",
     "output_type": "stream",
     "text": [
      "[LightGBM] [Warning] feature_fraction is set=0.8816148456882613, colsample_bytree=1.0 will be ignored. Current value: feature_fraction=0.8816148456882613\n",
      "[LightGBM] [Warning] lambda_l1 is set=0.0003580389485221061, reg_alpha=0.0 will be ignored. Current value: lambda_l1=0.0003580389485221061\n",
      "[LightGBM] [Warning] bagging_fraction is set=0.9523210645253557, subsample=1.0 will be ignored. Current value: bagging_fraction=0.9523210645253557\n",
      "[LightGBM] [Warning] lambda_l2 is set=1.3923343952125512e-07, reg_lambda=0.0 will be ignored. Current value: lambda_l2=1.3923343952125512e-07\n",
      "[LightGBM] [Warning] bagging_freq is set=5, subsample_freq=0 will be ignored. Current value: bagging_freq=5\n"
     ]
    },
    {
     "name": "stderr",
     "output_type": "stream",
     "text": [
      "\u001b[32m[I 2022-02-17 16:33:25,493]\u001b[0m Trial 18 finished with value: 0.9229113817013361 and parameters: {'lambda_l1': 0.0003580389485221061, 'lambda_l2': 1.3923343952125512e-07, 'num_leaves': 42, 'feature_fraction': 0.8816148456882613, 'bagging_fraction': 0.9523210645253557, 'bagging_freq': 5, 'min_child_samples': 29}. Best is trial 16 with value: 0.9263888888888889.\u001b[0m\n"
     ]
    },
    {
     "name": "stdout",
     "output_type": "stream",
     "text": [
      "[LightGBM] [Warning] feature_fraction is set=0.9991878368914763, colsample_bytree=1.0 will be ignored. Current value: feature_fraction=0.9991878368914763\n",
      "[LightGBM] [Warning] lambda_l1 is set=1.2760874876654142e-08, reg_alpha=0.0 will be ignored. Current value: lambda_l1=1.2760874876654142e-08\n",
      "[LightGBM] [Warning] bagging_fraction is set=0.4205469945917383, subsample=1.0 will be ignored. Current value: bagging_fraction=0.4205469945917383\n",
      "[LightGBM] [Warning] lambda_l2 is set=7.244853618057045e-07, reg_lambda=0.0 will be ignored. Current value: lambda_l2=7.244853618057045e-07\n",
      "[LightGBM] [Warning] bagging_freq is set=5, subsample_freq=0 will be ignored. Current value: bagging_freq=5\n"
     ]
    },
    {
     "name": "stderr",
     "output_type": "stream",
     "text": [
      "\u001b[32m[I 2022-02-17 16:33:25,887]\u001b[0m Trial 19 finished with value: 0.9239451209200067 and parameters: {'lambda_l1': 1.2760874876654142e-08, 'lambda_l2': 7.244853618057045e-07, 'num_leaves': 105, 'feature_fraction': 0.9991878368914763, 'bagging_fraction': 0.4205469945917383, 'bagging_freq': 5, 'min_child_samples': 87}. Best is trial 16 with value: 0.9263888888888889.\u001b[0m\n"
     ]
    },
    {
     "name": "stdout",
     "output_type": "stream",
     "text": [
      "[LightGBM] [Warning] feature_fraction is set=0.7728876087415602, colsample_bytree=1.0 will be ignored. Current value: feature_fraction=0.7728876087415602\n",
      "[LightGBM] [Warning] lambda_l1 is set=0.01584334060542916, reg_alpha=0.0 will be ignored. Current value: lambda_l1=0.01584334060542916\n",
      "[LightGBM] [Warning] bagging_fraction is set=0.8612498646405227, subsample=1.0 will be ignored. Current value: bagging_fraction=0.8612498646405227\n",
      "[LightGBM] [Warning] lambda_l2 is set=1.2657283480119349e-05, reg_lambda=0.0 will be ignored. Current value: lambda_l2=1.2657283480119349e-05\n",
      "[LightGBM] [Warning] bagging_freq is set=7, subsample_freq=0 will be ignored. Current value: bagging_freq=7\n"
     ]
    },
    {
     "name": "stderr",
     "output_type": "stream",
     "text": [
      "\u001b[32m[I 2022-02-17 16:33:26,594]\u001b[0m Trial 20 finished with value: 0.9207191780821918 and parameters: {'lambda_l1': 0.01584334060542916, 'lambda_l2': 1.2657283480119349e-05, 'num_leaves': 138, 'feature_fraction': 0.7728876087415602, 'bagging_fraction': 0.8612498646405227, 'bagging_freq': 7, 'min_child_samples': 52}. Best is trial 16 with value: 0.9263888888888889.\u001b[0m\n"
     ]
    },
    {
     "name": "stdout",
     "output_type": "stream",
     "text": [
      "[LightGBM] [Warning] feature_fraction is set=0.8736773058694078, colsample_bytree=1.0 will be ignored. Current value: feature_fraction=0.8736773058694078\n",
      "[LightGBM] [Warning] lambda_l1 is set=5.292604822313879, reg_alpha=0.0 will be ignored. Current value: lambda_l1=5.292604822313879\n",
      "[LightGBM] [Warning] bagging_fraction is set=0.6732426639152443, subsample=1.0 will be ignored. Current value: bagging_fraction=0.6732426639152443\n",
      "[LightGBM] [Warning] lambda_l2 is set=0.0001469539310381654, reg_lambda=0.0 will be ignored. Current value: lambda_l2=0.0001469539310381654\n",
      "[LightGBM] [Warning] bagging_freq is set=4, subsample_freq=0 will be ignored. Current value: bagging_freq=4\n"
     ]
    },
    {
     "name": "stderr",
     "output_type": "stream",
     "text": [
      "\u001b[32m[I 2022-02-17 16:33:27,019]\u001b[0m Trial 21 finished with value: 0.9259893455098935 and parameters: {'lambda_l1': 5.292604822313879, 'lambda_l2': 0.0001469539310381654, 'num_leaves': 167, 'feature_fraction': 0.8736773058694078, 'bagging_fraction': 0.6732426639152443, 'bagging_freq': 4, 'min_child_samples': 51}. Best is trial 16 with value: 0.9263888888888889.\u001b[0m\n"
     ]
    },
    {
     "name": "stdout",
     "output_type": "stream",
     "text": [
      "[LightGBM] [Warning] feature_fraction is set=0.886740191855645, colsample_bytree=1.0 will be ignored. Current value: feature_fraction=0.886740191855645\n",
      "[LightGBM] [Warning] lambda_l1 is set=9.160082077217977, reg_alpha=0.0 will be ignored. Current value: lambda_l1=9.160082077217977\n",
      "[LightGBM] [Warning] bagging_fraction is set=0.6577348220775909, subsample=1.0 will be ignored. Current value: bagging_fraction=0.6577348220775909\n",
      "[LightGBM] [Warning] lambda_l2 is set=6.46979337874981e-08, reg_lambda=0.0 will be ignored. Current value: lambda_l2=6.46979337874981e-08\n",
      "[LightGBM] [Warning] bagging_freq is set=4, subsample_freq=0 will be ignored. Current value: bagging_freq=4\n"
     ]
    },
    {
     "name": "stderr",
     "output_type": "stream",
     "text": [
      "\u001b[32m[I 2022-02-17 16:33:27,414]\u001b[0m Trial 22 finished with value: 0.9258540503974294 and parameters: {'lambda_l1': 9.160082077217977, 'lambda_l2': 6.46979337874981e-08, 'num_leaves': 144, 'feature_fraction': 0.886740191855645, 'bagging_fraction': 0.6577348220775909, 'bagging_freq': 4, 'min_child_samples': 46}. Best is trial 16 with value: 0.9263888888888889.\u001b[0m\n"
     ]
    },
    {
     "name": "stdout",
     "output_type": "stream",
     "text": [
      "[LightGBM] [Warning] feature_fraction is set=0.9132168622144227, colsample_bytree=1.0 will be ignored. Current value: feature_fraction=0.9132168622144227\n",
      "[LightGBM] [Warning] lambda_l1 is set=8.3048794431, reg_alpha=0.0 will be ignored. Current value: lambda_l1=8.3048794431\n",
      "[LightGBM] [Warning] bagging_fraction is set=0.6410751474524452, subsample=1.0 will be ignored. Current value: bagging_fraction=0.6410751474524452\n",
      "[LightGBM] [Warning] lambda_l2 is set=2.4571577718075772e-08, reg_lambda=0.0 will be ignored. Current value: lambda_l2=2.4571577718075772e-08\n",
      "[LightGBM] [Warning] bagging_freq is set=4, subsample_freq=0 will be ignored. Current value: bagging_freq=4\n"
     ]
    },
    {
     "name": "stderr",
     "output_type": "stream",
     "text": [
      "\u001b[32m[I 2022-02-17 16:33:27,798]\u001b[0m Trial 23 finished with value: 0.9257525790630813 and parameters: {'lambda_l1': 8.3048794431, 'lambda_l2': 2.4571577718075772e-08, 'num_leaves': 195, 'feature_fraction': 0.9132168622144227, 'bagging_fraction': 0.6410751474524452, 'bagging_freq': 4, 'min_child_samples': 46}. Best is trial 16 with value: 0.9263888888888889.\u001b[0m\n"
     ]
    },
    {
     "name": "stdout",
     "output_type": "stream",
     "text": [
      "[LightGBM] [Warning] feature_fraction is set=0.8733336056135544, colsample_bytree=1.0 will be ignored. Current value: feature_fraction=0.8733336056135544\n",
      "[LightGBM] [Warning] lambda_l1 is set=0.565708502818209, reg_alpha=0.0 will be ignored. Current value: lambda_l1=0.565708502818209\n",
      "[LightGBM] [Warning] bagging_fraction is set=0.7436263889548929, subsample=1.0 will be ignored. Current value: bagging_fraction=0.7436263889548929\n",
      "[LightGBM] [Warning] lambda_l2 is set=0.06055340154105779, reg_lambda=0.0 will be ignored. Current value: lambda_l2=0.06055340154105779\n",
      "[LightGBM] [Warning] bagging_freq is set=5, subsample_freq=0 will be ignored. Current value: bagging_freq=5\n"
     ]
    },
    {
     "name": "stderr",
     "output_type": "stream",
     "text": [
      "\u001b[32m[I 2022-02-17 16:33:28,559]\u001b[0m Trial 24 finished with value: 0.9216472179942501 and parameters: {'lambda_l1': 0.565708502818209, 'lambda_l2': 0.06055340154105779, 'num_leaves': 218, 'feature_fraction': 0.8733336056135544, 'bagging_fraction': 0.7436263889548929, 'bagging_freq': 5, 'min_child_samples': 35}. Best is trial 16 with value: 0.9263888888888889.\u001b[0m\n"
     ]
    },
    {
     "name": "stdout",
     "output_type": "stream",
     "text": [
      "[LightGBM] [Warning] feature_fraction is set=0.7648079634424911, colsample_bytree=1.0 will be ignored. Current value: feature_fraction=0.7648079634424911\n",
      "[LightGBM] [Warning] lambda_l1 is set=1.6375955251657004, reg_alpha=0.0 will be ignored. Current value: lambda_l1=1.6375955251657004\n",
      "[LightGBM] [Warning] bagging_fraction is set=0.6552110458907683, subsample=1.0 will be ignored. Current value: bagging_fraction=0.6552110458907683\n",
      "[LightGBM] [Warning] lambda_l2 is set=5.148854258858307, reg_lambda=0.0 will be ignored. Current value: lambda_l2=5.148854258858307\n",
      "[LightGBM] [Warning] bagging_freq is set=6, subsample_freq=0 will be ignored. Current value: bagging_freq=6\n"
     ]
    },
    {
     "name": "stderr",
     "output_type": "stream",
     "text": [
      "\u001b[32m[I 2022-02-17 16:33:28,986]\u001b[0m Trial 25 finished with value: 0.9249978860138678 and parameters: {'lambda_l1': 1.6375955251657004, 'lambda_l2': 5.148854258858307, 'num_leaves': 150, 'feature_fraction': 0.7648079634424911, 'bagging_fraction': 0.6552110458907683, 'bagging_freq': 6, 'min_child_samples': 55}. Best is trial 16 with value: 0.9263888888888889.\u001b[0m\n"
     ]
    },
    {
     "name": "stdout",
     "output_type": "stream",
     "text": [
      "[LightGBM] [Warning] feature_fraction is set=0.9487536235606865, colsample_bytree=1.0 will be ignored. Current value: feature_fraction=0.9487536235606865\n",
      "[LightGBM] [Warning] lambda_l1 is set=9.559069626044598, reg_alpha=0.0 will be ignored. Current value: lambda_l1=9.559069626044598\n",
      "[LightGBM] [Warning] bagging_fraction is set=0.49236846478294194, subsample=1.0 will be ignored. Current value: bagging_fraction=0.49236846478294194\n",
      "[LightGBM] [Warning] lambda_l2 is set=9.675248930818588e-07, reg_lambda=0.0 will be ignored. Current value: lambda_l2=9.675248930818588e-07\n",
      "[LightGBM] [Warning] bagging_freq is set=4, subsample_freq=0 will be ignored. Current value: bagging_freq=4\n"
     ]
    },
    {
     "name": "stderr",
     "output_type": "stream",
     "text": [
      "\u001b[32m[I 2022-02-17 16:33:29,302]\u001b[0m Trial 26 finished with value: 0.9262155420260442 and parameters: {'lambda_l1': 9.559069626044598, 'lambda_l2': 9.675248930818588e-07, 'num_leaves': 112, 'feature_fraction': 0.9487536235606865, 'bagging_fraction': 0.49236846478294194, 'bagging_freq': 4, 'min_child_samples': 47}. Best is trial 16 with value: 0.9263888888888889.\u001b[0m\n"
     ]
    },
    {
     "name": "stdout",
     "output_type": "stream",
     "text": [
      "[LightGBM] [Warning] feature_fraction is set=0.9489041725077405, colsample_bytree=1.0 will be ignored. Current value: feature_fraction=0.9489041725077405\n",
      "[LightGBM] [Warning] lambda_l1 is set=0.30284355755015196, reg_alpha=0.0 will be ignored. Current value: lambda_l1=0.30284355755015196\n",
      "[LightGBM] [Warning] bagging_fraction is set=0.49271585477835944, subsample=1.0 will be ignored. Current value: bagging_fraction=0.49271585477835944\n",
      "[LightGBM] [Warning] lambda_l2 is set=0.0001815679189921115, reg_lambda=0.0 will be ignored. Current value: lambda_l2=0.0001815679189921115\n",
      "[LightGBM] [Warning] bagging_freq is set=5, subsample_freq=0 will be ignored. Current value: bagging_freq=5\n"
     ]
    },
    {
     "name": "stderr",
     "output_type": "stream",
     "text": [
      "\u001b[32m[I 2022-02-17 16:33:29,942]\u001b[0m Trial 27 finished with value: 0.9196389311686116 and parameters: {'lambda_l1': 0.30284355755015196, 'lambda_l2': 0.0001815679189921115, 'num_leaves': 56, 'feature_fraction': 0.9489041725077405, 'bagging_fraction': 0.49271585477835944, 'bagging_freq': 5, 'min_child_samples': 22}. Best is trial 16 with value: 0.9263888888888889.\u001b[0m\n"
     ]
    },
    {
     "name": "stdout",
     "output_type": "stream",
     "text": [
      "[LightGBM] [Warning] feature_fraction is set=0.955799557099781, colsample_bytree=1.0 will be ignored. Current value: feature_fraction=0.955799557099781\n",
      "[LightGBM] [Warning] lambda_l1 is set=0.9635214789344579, reg_alpha=0.0 will be ignored. Current value: lambda_l1=0.9635214789344579\n",
      "[LightGBM] [Warning] bagging_fraction is set=0.49301585001193815, subsample=1.0 will be ignored. Current value: bagging_fraction=0.49301585001193815\n",
      "[LightGBM] [Warning] lambda_l2 is set=9.155051716601741e-07, reg_lambda=0.0 will be ignored. Current value: lambda_l2=9.155051716601741e-07\n",
      "[LightGBM] [Warning] bagging_freq is set=6, subsample_freq=0 will be ignored. Current value: bagging_freq=6\n"
     ]
    },
    {
     "name": "stderr",
     "output_type": "stream",
     "text": [
      "\u001b[32m[I 2022-02-17 16:33:30,346]\u001b[0m Trial 28 finished with value: 0.9226513614070693 and parameters: {'lambda_l1': 0.9635214789344579, 'lambda_l2': 9.155051716601741e-07, 'num_leaves': 108, 'feature_fraction': 0.955799557099781, 'bagging_fraction': 0.49301585001193815, 'bagging_freq': 6, 'min_child_samples': 72}. Best is trial 16 with value: 0.9263888888888889.\u001b[0m\n"
     ]
    },
    {
     "name": "stdout",
     "output_type": "stream",
     "text": [
      "[LightGBM] [Warning] feature_fraction is set=0.8307273091319747, colsample_bytree=1.0 will be ignored. Current value: feature_fraction=0.8307273091319747\n",
      "[LightGBM] [Warning] lambda_l1 is set=0.02278568020771971, reg_alpha=0.0 will be ignored. Current value: lambda_l1=0.02278568020771971\n",
      "[LightGBM] [Warning] bagging_fraction is set=0.6094571379717232, subsample=1.0 will be ignored. Current value: bagging_fraction=0.6094571379717232\n",
      "[LightGBM] [Warning] lambda_l2 is set=1.3427699590054155e-05, reg_lambda=0.0 will be ignored. Current value: lambda_l2=1.3427699590054155e-05\n",
      "[LightGBM] [Warning] bagging_freq is set=4, subsample_freq=0 will be ignored. Current value: bagging_freq=4\n"
     ]
    },
    {
     "name": "stderr",
     "output_type": "stream",
     "text": [
      "\u001b[32m[I 2022-02-17 16:33:30,872]\u001b[0m Trial 29 finished with value: 0.9222053103331642 and parameters: {'lambda_l1': 0.02278568020771971, 'lambda_l2': 1.3427699590054155e-05, 'num_leaves': 85, 'feature_fraction': 0.8307273091319747, 'bagging_fraction': 0.6094571379717232, 'bagging_freq': 4, 'min_child_samples': 58}. Best is trial 16 with value: 0.9263888888888889.\u001b[0m\n"
     ]
    },
    {
     "name": "stdout",
     "output_type": "stream",
     "text": [
      "[LightGBM] [Warning] feature_fraction is set=0.8099083214163064, colsample_bytree=1.0 will be ignored. Current value: feature_fraction=0.8099083214163064\n",
      "[LightGBM] [Warning] lambda_l1 is set=0.0023960147274640184, reg_alpha=0.0 will be ignored. Current value: lambda_l1=0.0023960147274640184\n",
      "[LightGBM] [Warning] bagging_fraction is set=0.7613127310558935, subsample=1.0 will be ignored. Current value: bagging_fraction=0.7613127310558935\n",
      "[LightGBM] [Warning] lambda_l2 is set=2.288066874053234e-05, reg_lambda=0.0 will be ignored. Current value: lambda_l2=2.288066874053234e-05\n",
      "[LightGBM] [Warning] bagging_freq is set=3, subsample_freq=0 will be ignored. Current value: bagging_freq=3\n"
     ]
    },
    {
     "name": "stderr",
     "output_type": "stream",
     "text": [
      "\u001b[32m[I 2022-02-17 16:33:31,666]\u001b[0m Trial 30 finished with value: 0.9166603247082701 and parameters: {'lambda_l1': 0.0023960147274640184, 'lambda_l2': 2.288066874053234e-05, 'num_leaves': 126, 'feature_fraction': 0.8099083214163064, 'bagging_fraction': 0.7613127310558935, 'bagging_freq': 3, 'min_child_samples': 37}. Best is trial 16 with value: 0.9263888888888889.\u001b[0m\n"
     ]
    },
    {
     "name": "stdout",
     "output_type": "stream",
     "text": [
      "[LightGBM] [Warning] feature_fraction is set=0.9107815793606897, colsample_bytree=1.0 will be ignored. Current value: feature_fraction=0.9107815793606897\n",
      "[LightGBM] [Warning] lambda_l1 is set=7.797739126685135, reg_alpha=0.0 will be ignored. Current value: lambda_l1=7.797739126685135\n",
      "[LightGBM] [Warning] bagging_fraction is set=0.6464316836704277, subsample=1.0 will be ignored. Current value: bagging_fraction=0.6464316836704277\n",
      "[LightGBM] [Warning] lambda_l2 is set=9.684100497040538e-08, reg_lambda=0.0 will be ignored. Current value: lambda_l2=9.684100497040538e-08\n",
      "[LightGBM] [Warning] bagging_freq is set=4, subsample_freq=0 will be ignored. Current value: bagging_freq=4\n"
     ]
    },
    {
     "name": "stderr",
     "output_type": "stream",
     "text": [
      "\u001b[32m[I 2022-02-17 16:33:32,071]\u001b[0m Trial 31 finished with value: 0.9260633350245222 and parameters: {'lambda_l1': 7.797739126685135, 'lambda_l2': 9.684100497040538e-08, 'num_leaves': 155, 'feature_fraction': 0.9107815793606897, 'bagging_fraction': 0.6464316836704277, 'bagging_freq': 4, 'min_child_samples': 49}. Best is trial 16 with value: 0.9263888888888889.\u001b[0m\n"
     ]
    },
    {
     "name": "stdout",
     "output_type": "stream",
     "text": [
      "[LightGBM] [Warning] feature_fraction is set=0.9895477555605499, colsample_bytree=1.0 will be ignored. Current value: feature_fraction=0.9895477555605499\n",
      "[LightGBM] [Warning] lambda_l1 is set=3.1113827269923564, reg_alpha=0.0 will be ignored. Current value: lambda_l1=3.1113827269923564\n",
      "[LightGBM] [Warning] bagging_fraction is set=0.7121282157961886, subsample=1.0 will be ignored. Current value: bagging_fraction=0.7121282157961886\n",
      "[LightGBM] [Warning] lambda_l2 is set=6.708139618151407e-07, reg_lambda=0.0 will be ignored. Current value: lambda_l2=6.708139618151407e-07\n",
      "[LightGBM] [Warning] bagging_freq is set=4, subsample_freq=0 will be ignored. Current value: bagging_freq=4\n"
     ]
    },
    {
     "name": "stderr",
     "output_type": "stream",
     "text": [
      "\u001b[32m[I 2022-02-17 16:33:32,525]\u001b[0m Trial 32 finished with value: 0.9240191104346356 and parameters: {'lambda_l1': 3.1113827269923564, 'lambda_l2': 6.708139618151407e-07, 'num_leaves': 176, 'feature_fraction': 0.9895477555605499, 'bagging_fraction': 0.7121282157961886, 'bagging_freq': 4, 'min_child_samples': 51}. Best is trial 16 with value: 0.9263888888888889.\u001b[0m\n"
     ]
    },
    {
     "name": "stdout",
     "output_type": "stream",
     "text": [
      "[LightGBM] [Warning] feature_fraction is set=0.9359902308054923, colsample_bytree=1.0 will be ignored. Current value: feature_fraction=0.9359902308054923\n",
      "[LightGBM] [Warning] lambda_l1 is set=0.23830613829173147, reg_alpha=0.0 will be ignored. Current value: lambda_l1=0.23830613829173147\n",
      "[LightGBM] [Warning] bagging_fraction is set=0.561778416595143, subsample=1.0 will be ignored. Current value: bagging_fraction=0.561778416595143\n",
      "[LightGBM] [Warning] lambda_l2 is set=5.597519256915071e-08, reg_lambda=0.0 will be ignored. Current value: lambda_l2=5.597519256915071e-08\n",
      "[LightGBM] [Warning] bagging_freq is set=4, subsample_freq=0 will be ignored. Current value: bagging_freq=4\n"
     ]
    },
    {
     "name": "stderr",
     "output_type": "stream",
     "text": [
      "\u001b[32m[I 2022-02-17 16:33:32,981]\u001b[0m Trial 33 finished with value: 0.9246131405377981 and parameters: {'lambda_l1': 0.23830613829173147, 'lambda_l2': 5.597519256915071e-08, 'num_leaves': 157, 'feature_fraction': 0.9359902308054923, 'bagging_fraction': 0.561778416595143, 'bagging_freq': 4, 'min_child_samples': 68}. Best is trial 16 with value: 0.9263888888888889.\u001b[0m\n"
     ]
    },
    {
     "name": "stdout",
     "output_type": "stream",
     "text": [
      "[LightGBM] [Warning] feature_fraction is set=0.9119325814149439, colsample_bytree=1.0 will be ignored. Current value: feature_fraction=0.9119325814149439\n",
      "[LightGBM] [Warning] lambda_l1 is set=2.791303532323693, reg_alpha=0.0 will be ignored. Current value: lambda_l1=2.791303532323693\n",
      "[LightGBM] [Warning] bagging_fraction is set=0.5989821428812343, subsample=1.0 will be ignored. Current value: bagging_fraction=0.5989821428812343\n",
      "[LightGBM] [Warning] lambda_l2 is set=3.1179893153736994e-07, reg_lambda=0.0 will be ignored. Current value: lambda_l2=3.1179893153736994e-07\n",
      "[LightGBM] [Warning] bagging_freq is set=5, subsample_freq=0 will be ignored. Current value: bagging_freq=5\n"
     ]
    },
    {
     "name": "stderr",
     "output_type": "stream",
     "text": [
      "\u001b[32m[I 2022-02-17 16:33:33,417]\u001b[0m Trial 34 finished with value: 0.9268180280737358 and parameters: {'lambda_l1': 2.791303532323693, 'lambda_l2': 3.1179893153736994e-07, 'num_leaves': 118, 'feature_fraction': 0.9119325814149439, 'bagging_fraction': 0.5989821428812343, 'bagging_freq': 5, 'min_child_samples': 49}. Best is trial 34 with value: 0.9268180280737358.\u001b[0m\n"
     ]
    },
    {
     "name": "stdout",
     "output_type": "stream",
     "text": [
      "[LightGBM] [Warning] feature_fraction is set=0.9103581494533473, colsample_bytree=1.0 will be ignored. Current value: feature_fraction=0.9103581494533473\n",
      "[LightGBM] [Warning] lambda_l1 is set=2.583982335257004, reg_alpha=0.0 will be ignored. Current value: lambda_l1=2.583982335257004\n",
      "[LightGBM] [Warning] bagging_fraction is set=0.6204127970725002, subsample=1.0 will be ignored. Current value: bagging_fraction=0.6204127970725002\n",
      "[LightGBM] [Warning] lambda_l2 is set=2.8440770108907665e-07, reg_lambda=0.0 will be ignored. Current value: lambda_l2=2.8440770108907665e-07\n",
      "[LightGBM] [Warning] bagging_freq is set=5, subsample_freq=0 will be ignored. Current value: bagging_freq=5\n"
     ]
    },
    {
     "name": "stderr",
     "output_type": "stream",
     "text": [
      "\u001b[32m[I 2022-02-17 16:33:33,955]\u001b[0m Trial 35 finished with value: 0.9235307796380856 and parameters: {'lambda_l1': 2.583982335257004, 'lambda_l2': 2.8440770108907665e-07, 'num_leaves': 95, 'feature_fraction': 0.9103581494533473, 'bagging_fraction': 0.6204127970725002, 'bagging_freq': 5, 'min_child_samples': 40}. Best is trial 34 with value: 0.9268180280737358.\u001b[0m\n"
     ]
    },
    {
     "name": "stdout",
     "output_type": "stream",
     "text": [
      "[LightGBM] [Warning] feature_fraction is set=0.8431012673613083, colsample_bytree=1.0 will be ignored. Current value: feature_fraction=0.8431012673613083\n",
      "[LightGBM] [Warning] lambda_l1 is set=1.2450344827059645, reg_alpha=0.0 will be ignored. Current value: lambda_l1=1.2450344827059645\n",
      "[LightGBM] [Warning] bagging_fraction is set=0.5124630033814175, subsample=1.0 will be ignored. Current value: bagging_fraction=0.5124630033814175\n",
      "[LightGBM] [Warning] lambda_l2 is set=4.516090325101916e-08, reg_lambda=0.0 will be ignored. Current value: lambda_l2=4.516090325101916e-08\n",
      "[LightGBM] [Warning] bagging_freq is set=5, subsample_freq=0 will be ignored. Current value: bagging_freq=5\n"
     ]
    },
    {
     "name": "stderr",
     "output_type": "stream",
     "text": [
      "\u001b[32m[I 2022-02-17 16:33:34,517]\u001b[0m Trial 36 finished with value: 0.924217825131067 and parameters: {'lambda_l1': 1.2450344827059645, 'lambda_l2': 4.516090325101916e-08, 'num_leaves': 120, 'feature_fraction': 0.8431012673613083, 'bagging_fraction': 0.5124630033814175, 'bagging_freq': 5, 'min_child_samples': 45}. Best is trial 34 with value: 0.9268180280737358.\u001b[0m\n"
     ]
    },
    {
     "name": "stdout",
     "output_type": "stream",
     "text": [
      "[LightGBM] [Warning] feature_fraction is set=0.7459634374430636, colsample_bytree=1.0 will be ignored. Current value: feature_fraction=0.7459634374430636\n",
      "[LightGBM] [Warning] lambda_l1 is set=0.20863976428923556, reg_alpha=0.0 will be ignored. Current value: lambda_l1=0.20863976428923556\n",
      "[LightGBM] [Warning] bagging_fraction is set=0.5956640440868152, subsample=1.0 will be ignored. Current value: bagging_fraction=0.5956640440868152\n",
      "[LightGBM] [Warning] lambda_l2 is set=3.4499202530875937e-06, reg_lambda=0.0 will be ignored. Current value: lambda_l2=3.4499202530875937e-06\n",
      "[LightGBM] [Warning] bagging_freq is set=3, subsample_freq=0 will be ignored. Current value: bagging_freq=3\n"
     ]
    },
    {
     "name": "stderr",
     "output_type": "stream",
     "text": [
      "\u001b[32m[I 2022-02-17 16:33:35,119]\u001b[0m Trial 37 finished with value: 0.9227464907830204 and parameters: {'lambda_l1': 0.20863976428923556, 'lambda_l2': 3.4499202530875937e-06, 'num_leaves': 75, 'feature_fraction': 0.7459634374430636, 'bagging_fraction': 0.5956640440868152, 'bagging_freq': 3, 'min_child_samples': 56}. Best is trial 34 with value: 0.9268180280737358.\u001b[0m\n"
     ]
    },
    {
     "name": "stdout",
     "output_type": "stream",
     "text": [
      "[LightGBM] [Warning] feature_fraction is set=0.9115798365425524, colsample_bytree=1.0 will be ignored. Current value: feature_fraction=0.9115798365425524\n",
      "[LightGBM] [Warning] lambda_l1 is set=2.8050506050477666, reg_alpha=0.0 will be ignored. Current value: lambda_l1=2.8050506050477666\n",
      "[LightGBM] [Warning] bagging_fraction is set=0.5664300725084459, subsample=1.0 will be ignored. Current value: bagging_fraction=0.5664300725084459\n",
      "[LightGBM] [Warning] lambda_l2 is set=1.8603533585967535e-07, reg_lambda=0.0 will be ignored. Current value: lambda_l2=1.8603533585967535e-07\n",
      "[LightGBM] [Warning] bagging_freq is set=6, subsample_freq=0 will be ignored. Current value: bagging_freq=6\n"
     ]
    },
    {
     "name": "stderr",
     "output_type": "stream",
     "text": [
      "\u001b[32m[I 2022-02-17 16:33:35,783]\u001b[0m Trial 38 finished with value: 0.9226492474209369 and parameters: {'lambda_l1': 2.8050506050477666, 'lambda_l2': 1.8603533585967535e-07, 'num_leaves': 102, 'feature_fraction': 0.9115798365425524, 'bagging_fraction': 0.5664300725084459, 'bagging_freq': 6, 'min_child_samples': 25}. Best is trial 34 with value: 0.9268180280737358.\u001b[0m\n"
     ]
    },
    {
     "name": "stdout",
     "output_type": "stream",
     "text": [
      "[LightGBM] [Warning] feature_fraction is set=0.9768038449341334, colsample_bytree=1.0 will be ignored. Current value: feature_fraction=0.9768038449341334\n",
      "[LightGBM] [Warning] lambda_l1 is set=0.662543318964859, reg_alpha=0.0 will be ignored. Current value: lambda_l1=0.662543318964859\n",
      "[LightGBM] [Warning] bagging_fraction is set=0.4668739063260409, subsample=1.0 will be ignored. Current value: bagging_fraction=0.4668739063260409\n",
      "[LightGBM] [Warning] lambda_l2 is set=1.225581433075917e-08, reg_lambda=0.0 will be ignored. Current value: lambda_l2=1.225581433075917e-08\n",
      "[LightGBM] [Warning] bagging_freq is set=5, subsample_freq=0 will be ignored. Current value: bagging_freq=5\n"
     ]
    },
    {
     "name": "stderr",
     "output_type": "stream",
     "text": [
      "\u001b[32m[I 2022-02-17 16:33:36,212]\u001b[0m Trial 39 finished with value: 0.9242389649923897 and parameters: {'lambda_l1': 0.662543318964859, 'lambda_l2': 1.225581433075917e-08, 'num_leaves': 40, 'feature_fraction': 0.9768038449341334, 'bagging_fraction': 0.4668739063260409, 'bagging_freq': 5, 'min_child_samples': 48}. Best is trial 34 with value: 0.9268180280737358.\u001b[0m\n"
     ]
    },
    {
     "name": "stdout",
     "output_type": "stream",
     "text": [
      "[LightGBM] [Warning] feature_fraction is set=0.6733302469847937, colsample_bytree=1.0 will be ignored. Current value: feature_fraction=0.6733302469847937\n",
      "[LightGBM] [Warning] lambda_l1 is set=3.76788937070107e-05, reg_alpha=0.0 will be ignored. Current value: lambda_l1=3.76788937070107e-05\n",
      "[LightGBM] [Warning] bagging_fraction is set=0.4025703656655561, subsample=1.0 will be ignored. Current value: bagging_fraction=0.4025703656655561\n",
      "[LightGBM] [Warning] lambda_l2 is set=1.411757419120422e-06, reg_lambda=0.0 will be ignored. Current value: lambda_l2=1.411757419120422e-06\n",
      "[LightGBM] [Warning] bagging_freq is set=4, subsample_freq=0 will be ignored. Current value: bagging_freq=4\n"
     ]
    },
    {
     "name": "stderr",
     "output_type": "stream",
     "text": [
      "\u001b[32m[I 2022-02-17 16:33:36,733]\u001b[0m Trial 40 finished with value: 0.92083967529173 and parameters: {'lambda_l1': 3.76788937070107e-05, 'lambda_l2': 1.411757419120422e-06, 'num_leaves': 134, 'feature_fraction': 0.6733302469847937, 'bagging_fraction': 0.4025703656655561, 'bagging_freq': 4, 'min_child_samples': 41}. Best is trial 34 with value: 0.9268180280737358.\u001b[0m\n"
     ]
    },
    {
     "name": "stdout",
     "output_type": "stream",
     "text": [
      "[LightGBM] [Warning] feature_fraction is set=0.795344377122718, colsample_bytree=1.0 will be ignored. Current value: feature_fraction=0.795344377122718\n",
      "[LightGBM] [Warning] lambda_l1 is set=9.727166980299499, reg_alpha=0.0 will be ignored. Current value: lambda_l1=9.727166980299499\n",
      "[LightGBM] [Warning] bagging_fraction is set=0.6938541349510962, subsample=1.0 will be ignored. Current value: bagging_fraction=0.6938541349510962\n",
      "[LightGBM] [Warning] lambda_l2 is set=0.0006138586173851652, reg_lambda=0.0 will be ignored. Current value: lambda_l2=0.0006138586173851652\n",
      "[LightGBM] [Warning] bagging_freq is set=4, subsample_freq=0 will be ignored. Current value: bagging_freq=4\n"
     ]
    },
    {
     "name": "stderr",
     "output_type": "stream",
     "text": [
      "\u001b[32m[I 2022-02-17 16:33:37,066]\u001b[0m Trial 41 finished with value: 0.9268581938102486 and parameters: {'lambda_l1': 9.727166980299499, 'lambda_l2': 0.0006138586173851652, 'num_leaves': 164, 'feature_fraction': 0.795344377122718, 'bagging_fraction': 0.6938541349510962, 'bagging_freq': 4, 'min_child_samples': 50}. Best is trial 41 with value: 0.9268581938102486.\u001b[0m\n"
     ]
    },
    {
     "name": "stdout",
     "output_type": "stream",
     "text": [
      "[LightGBM] [Warning] feature_fraction is set=0.7966576759605296, colsample_bytree=1.0 will be ignored. Current value: feature_fraction=0.7966576759605296\n",
      "[LightGBM] [Warning] lambda_l1 is set=9.693520077339764, reg_alpha=0.0 will be ignored. Current value: lambda_l1=9.693520077339764\n",
      "[LightGBM] [Warning] bagging_fraction is set=0.6991081699843358, subsample=1.0 will be ignored. Current value: bagging_fraction=0.6991081699843358\n",
      "[LightGBM] [Warning] lambda_l2 is set=0.0011718408699389177, reg_lambda=0.0 will be ignored. Current value: lambda_l2=0.0011718408699389177\n",
      "[LightGBM] [Warning] bagging_freq is set=4, subsample_freq=0 will be ignored. Current value: bagging_freq=4\n"
     ]
    },
    {
     "name": "stderr",
     "output_type": "stream",
     "text": [
      "\u001b[32m[I 2022-02-17 16:33:37,413]\u001b[0m Trial 42 finished with value: 0.928006088280061 and parameters: {'lambda_l1': 9.693520077339764, 'lambda_l2': 0.0011718408699389177, 'num_leaves': 115, 'feature_fraction': 0.7966576759605296, 'bagging_fraction': 0.6991081699843358, 'bagging_freq': 4, 'min_child_samples': 61}. Best is trial 42 with value: 0.928006088280061.\u001b[0m\n"
     ]
    },
    {
     "name": "stdout",
     "output_type": "stream",
     "text": [
      "[LightGBM] [Warning] feature_fraction is set=0.733130311909747, colsample_bytree=1.0 will be ignored. Current value: feature_fraction=0.733130311909747\n",
      "[LightGBM] [Warning] lambda_l1 is set=2.558095193388561, reg_alpha=0.0 will be ignored. Current value: lambda_l1=2.558095193388561\n",
      "[LightGBM] [Warning] bagging_fraction is set=0.7184581558407153, subsample=1.0 will be ignored. Current value: bagging_fraction=0.7184581558407153\n",
      "[LightGBM] [Warning] lambda_l2 is set=0.0009748413623417207, reg_lambda=0.0 will be ignored. Current value: lambda_l2=0.0009748413623417207\n",
      "[LightGBM] [Warning] bagging_freq is set=5, subsample_freq=0 will be ignored. Current value: bagging_freq=5\n"
     ]
    },
    {
     "name": "stderr",
     "output_type": "stream",
     "text": [
      "\u001b[32m[I 2022-02-17 16:33:37,845]\u001b[0m Trial 43 finished with value: 0.9239493488922713 and parameters: {'lambda_l1': 2.558095193388561, 'lambda_l2': 0.0009748413623417207, 'num_leaves': 115, 'feature_fraction': 0.733130311909747, 'bagging_fraction': 0.7184581558407153, 'bagging_freq': 5, 'min_child_samples': 60}. Best is trial 42 with value: 0.928006088280061.\u001b[0m\n"
     ]
    },
    {
     "name": "stdout",
     "output_type": "stream",
     "text": [
      "[LightGBM] [Warning] feature_fraction is set=0.796537610495237, colsample_bytree=1.0 will be ignored. Current value: feature_fraction=0.796537610495237\n",
      "[LightGBM] [Warning] lambda_l1 is set=1.0594386256361172, reg_alpha=0.0 will be ignored. Current value: lambda_l1=1.0594386256361172\n",
      "[LightGBM] [Warning] bagging_fraction is set=0.5829031659669597, subsample=1.0 will be ignored. Current value: bagging_fraction=0.5829031659669597\n",
      "[LightGBM] [Warning] lambda_l2 is set=0.005367031803284334, reg_lambda=0.0 will be ignored. Current value: lambda_l2=0.005367031803284334\n",
      "[LightGBM] [Warning] bagging_freq is set=4, subsample_freq=0 will be ignored. Current value: bagging_freq=4\n"
     ]
    },
    {
     "name": "stderr",
     "output_type": "stream",
     "text": [
      "\u001b[32m[I 2022-02-17 16:33:38,305]\u001b[0m Trial 44 finished with value: 0.9235603754439372 and parameters: {'lambda_l1': 1.0594386256361172, 'lambda_l2': 0.005367031803284334, 'num_leaves': 73, 'feature_fraction': 0.796537610495237, 'bagging_fraction': 0.5829031659669597, 'bagging_freq': 4, 'min_child_samples': 66}. Best is trial 42 with value: 0.928006088280061.\u001b[0m\n"
     ]
    },
    {
     "name": "stdout",
     "output_type": "stream",
     "text": [
      "[LightGBM] [Warning] feature_fraction is set=0.6812875163915644, colsample_bytree=1.0 will be ignored. Current value: feature_fraction=0.6812875163915644\n",
      "[LightGBM] [Warning] lambda_l1 is set=3.842217798323652, reg_alpha=0.0 will be ignored. Current value: lambda_l1=3.842217798323652\n",
      "[LightGBM] [Warning] bagging_fraction is set=0.8077721224069628, subsample=1.0 will be ignored. Current value: bagging_fraction=0.8077721224069628\n",
      "[LightGBM] [Warning] lambda_l2 is set=0.0006550721394729027, reg_lambda=0.0 will be ignored. Current value: lambda_l2=0.0006550721394729027\n",
      "[LightGBM] [Warning] bagging_freq is set=3, subsample_freq=0 will be ignored. Current value: bagging_freq=3\n"
     ]
    },
    {
     "name": "stderr",
     "output_type": "stream",
     "text": [
      "\u001b[32m[I 2022-02-17 16:33:38,831]\u001b[0m Trial 45 finished with value: 0.9261309825807542 and parameters: {'lambda_l1': 3.842217798323652, 'lambda_l2': 0.0006550721394729027, 'num_leaves': 85, 'feature_fraction': 0.6812875163915644, 'bagging_fraction': 0.8077721224069628, 'bagging_freq': 3, 'min_child_samples': 55}. Best is trial 42 with value: 0.928006088280061.\u001b[0m\n"
     ]
    },
    {
     "name": "stdout",
     "output_type": "stream",
     "text": [
      "[LightGBM] [Warning] feature_fraction is set=0.7843311752534018, colsample_bytree=1.0 will be ignored. Current value: feature_fraction=0.7843311752534018\n",
      "[LightGBM] [Warning] lambda_l1 is set=9.979459038290237, reg_alpha=0.0 will be ignored. Current value: lambda_l1=9.979459038290237\n",
      "[LightGBM] [Warning] bagging_fraction is set=0.7787835711145241, subsample=1.0 will be ignored. Current value: bagging_fraction=0.7787835711145241\n",
      "[LightGBM] [Warning] lambda_l2 is set=0.04937217831828219, reg_lambda=0.0 will be ignored. Current value: lambda_l2=0.04937217831828219\n",
      "[LightGBM] [Warning] bagging_freq is set=4, subsample_freq=0 will be ignored. Current value: bagging_freq=4\n"
     ]
    },
    {
     "name": "stderr",
     "output_type": "stream",
     "text": [
      "\u001b[32m[I 2022-02-17 16:33:39,178]\u001b[0m Trial 46 finished with value: 0.927071706409606 and parameters: {'lambda_l1': 9.979459038290237, 'lambda_l2': 0.04937217831828219, 'num_leaves': 128, 'feature_fraction': 0.7843311752534018, 'bagging_fraction': 0.7787835711145241, 'bagging_freq': 4, 'min_child_samples': 70}. Best is trial 42 with value: 0.928006088280061.\u001b[0m\n"
     ]
    },
    {
     "name": "stdout",
     "output_type": "stream",
     "text": [
      "[LightGBM] [Warning] feature_fraction is set=0.7830530573469431, colsample_bytree=1.0 will be ignored. Current value: feature_fraction=0.7830530573469431\n",
      "[LightGBM] [Warning] lambda_l1 is set=2.1303386801028504e-06, reg_alpha=0.0 will be ignored. Current value: lambda_l1=2.1303386801028504e-06\n",
      "[LightGBM] [Warning] bagging_fraction is set=0.6939240549117988, subsample=1.0 will be ignored. Current value: bagging_fraction=0.6939240549117988\n",
      "[LightGBM] [Warning] lambda_l2 is set=0.02716918922248016, reg_lambda=0.0 will be ignored. Current value: lambda_l2=0.02716918922248016\n",
      "[LightGBM] [Warning] bagging_freq is set=2, subsample_freq=0 will be ignored. Current value: bagging_freq=2\n"
     ]
    },
    {
     "name": "stderr",
     "output_type": "stream",
     "text": [
      "\u001b[32m[I 2022-02-17 16:33:39,648]\u001b[0m Trial 47 finished with value: 0.921613394216134 and parameters: {'lambda_l1': 2.1303386801028504e-06, 'lambda_l2': 0.02716918922248016, 'num_leaves': 127, 'feature_fraction': 0.7830530573469431, 'bagging_fraction': 0.6939240549117988, 'bagging_freq': 2, 'min_child_samples': 80}. Best is trial 42 with value: 0.928006088280061.\u001b[0m\n"
     ]
    },
    {
     "name": "stdout",
     "output_type": "stream",
     "text": [
      "[LightGBM] [Warning] feature_fraction is set=0.7068932769586695, colsample_bytree=1.0 will be ignored. Current value: feature_fraction=0.7068932769586695\n",
      "[LightGBM] [Warning] lambda_l1 is set=0.031535301069265324, reg_alpha=0.0 will be ignored. Current value: lambda_l1=0.031535301069265324\n",
      "[LightGBM] [Warning] bagging_fraction is set=0.774802932280211, subsample=1.0 will be ignored. Current value: bagging_fraction=0.774802932280211\n",
      "[LightGBM] [Warning] lambda_l2 is set=0.30243372528938245, reg_lambda=0.0 will be ignored. Current value: lambda_l2=0.30243372528938245\n",
      "[LightGBM] [Warning] bagging_freq is set=6, subsample_freq=0 will be ignored. Current value: bagging_freq=6\n"
     ]
    },
    {
     "name": "stderr",
     "output_type": "stream",
     "text": [
      "\u001b[32m[I 2022-02-17 16:33:41,094]\u001b[0m Trial 48 finished with value: 0.9201357179096905 and parameters: {'lambda_l1': 0.031535301069265324, 'lambda_l2': 0.30243372528938245, 'num_leaves': 179, 'feature_fraction': 0.7068932769586695, 'bagging_fraction': 0.774802932280211, 'bagging_freq': 6, 'min_child_samples': 5}. Best is trial 42 with value: 0.928006088280061.\u001b[0m\n"
     ]
    },
    {
     "name": "stdout",
     "output_type": "stream",
     "text": [
      "[LightGBM] [Warning] feature_fraction is set=0.8408951636735417, colsample_bytree=1.0 will be ignored. Current value: feature_fraction=0.8408951636735417\n",
      "[LightGBM] [Warning] lambda_l1 is set=0.12366898578824966, reg_alpha=0.0 will be ignored. Current value: lambda_l1=0.12366898578824966\n",
      "[LightGBM] [Warning] bagging_fraction is set=0.7345990203069114, subsample=1.0 will be ignored. Current value: bagging_fraction=0.7345990203069114\n",
      "[LightGBM] [Warning] lambda_l2 is set=0.48330904379176376, reg_lambda=0.0 will be ignored. Current value: lambda_l2=0.48330904379176376\n",
      "[LightGBM] [Warning] bagging_freq is set=5, subsample_freq=0 will be ignored. Current value: bagging_freq=5\n"
     ]
    },
    {
     "name": "stderr",
     "output_type": "stream",
     "text": [
      "\u001b[32m[I 2022-02-17 16:33:41,575]\u001b[0m Trial 49 finished with value: 0.9246871300524269 and parameters: {'lambda_l1': 0.12366898578824966, 'lambda_l2': 0.48330904379176376, 'num_leaves': 95, 'feature_fraction': 0.8408951636735417, 'bagging_fraction': 0.7345990203069114, 'bagging_freq': 5, 'min_child_samples': 69}. Best is trial 42 with value: 0.928006088280061.\u001b[0m\n"
     ]
    },
    {
     "name": "stdout",
     "output_type": "stream",
     "text": [
      "Number of finished trials: 50\n",
      "Best trial: {'lambda_l1': 9.693520077339764, 'lambda_l2': 0.0011718408699389177, 'num_leaves': 115, 'feature_fraction': 0.7966576759605296, 'bagging_fraction': 0.6991081699843358, 'bagging_freq': 4, 'min_child_samples': 61}\n"
     ]
    }
   ],
   "source": [
    "import numpy as np\n",
    "import pandas as pd\n",
    "from sklearn.model_selection import train_test_split\n",
    "from sklearn.metrics import roc_auc_score\n",
    "import optuna\n",
    "\n",
    "\n",
    "def objective(trial,data=X,target=y):\n",
    "    \n",
    "    \n",
    "    train_x, test_x, train_y, test_y = train_test_split(data, target, test_size=0.2,random_state=seeds)\n",
    "    params = {\n",
    "        \"objective\": \"binary\",\n",
    "        \"metric\": \"auc\",\n",
    "        \"verbosity\": -1,\n",
    "        \"boosting_type\": \"gbdt\",\n",
    "        \"lambda_l1\": trial.suggest_float(\"lambda_l1\", 1e-8, 10.0, log=True),\n",
    "        \"lambda_l2\": trial.suggest_float(\"lambda_l2\", 1e-8, 10.0, log=True),\n",
    "        \"num_leaves\": trial.suggest_int(\"num_leaves\", 2, 256),\n",
    "        \"feature_fraction\": trial.suggest_float(\"feature_fraction\", 0.4, 1.0),\n",
    "        \"bagging_fraction\": trial.suggest_float(\"bagging_fraction\", 0.4, 1.0),\n",
    "        \"bagging_freq\": trial.suggest_int(\"bagging_freq\", 1, 7),\n",
    "        \"min_child_samples\": trial.suggest_int(\"min_child_samples\", 5, 100),\n",
    "    }\n",
    "    clf = LGBMClassifier(random_state=seeds,scale_pos_weight=2, **params)\n",
    "    model = make_pipeline(preprocess, clf)\n",
    "    model.fit(train_x, train_y)\n",
    "    predictions = model.predict_proba(test_x)[:,1]\n",
    "    auc = roc_auc_score(test_y, predictions)\n",
    "    return auc\n",
    "\n",
    "study = optuna.create_study(direction='maximize')\n",
    "study.optimize(objective, n_trials=50)\n",
    "print('Number of finished trials:', len(study.trials))\n",
    "print('Best trial:', study.best_trial.params)"
   ]
  },
  {
   "cell_type": "code",
   "execution_count": 90,
   "metadata": {},
   "outputs": [
    {
     "data": {
      "text/plain": [
       "{'lambda_l1': 9.693520077339764,\n",
       " 'lambda_l2': 0.0011718408699389177,\n",
       " 'num_leaves': 115,\n",
       " 'feature_fraction': 0.7966576759605296,\n",
       " 'bagging_fraction': 0.6991081699843358,\n",
       " 'bagging_freq': 4,\n",
       " 'min_child_samples': 61}"
      ]
     },
     "execution_count": 90,
     "metadata": {},
     "output_type": "execute_result"
    }
   ],
   "source": [
    "study.best_trial.params"
   ]
  },
  {
   "cell_type": "code",
   "execution_count": 108,
   "metadata": {},
   "outputs": [
    {
     "name": "stderr",
     "output_type": "stream",
     "text": [
      "\u001b[32m[I 2022-02-17 17:03:34,505]\u001b[0m A new study created in memory with name: no-name-85c79d04-9b94-40ef-a297-62d851684703\u001b[0m\n",
      "\u001b[32m[I 2022-02-17 17:03:34,732]\u001b[0m Trial 0 finished with value: 0.7843229505356429 and parameters: {'lambda_l1': 1.0718804276943297e-08, 'lambda_l2': 6.313719211217128e-05, 'num_leaves': 13, 'feature_fraction': 0.835105825861003, 'bagging_fraction': 0.6690570960165985, 'bagging_freq': 3, 'min_child_samples': 48}. Best is trial 0 with value: 0.7843229505356429.\u001b[0m\n",
      "\u001b[32m[I 2022-02-17 17:03:34,961]\u001b[0m Trial 1 finished with value: 0.7830201351672801 and parameters: {'lambda_l1': 0.013826865927299446, 'lambda_l2': 0.00021482568347568632, 'num_leaves': 232, 'feature_fraction': 0.41284107871574893, 'bagging_fraction': 0.4152344107212189, 'bagging_freq': 4, 'min_child_samples': 42}. Best is trial 0 with value: 0.7843229505356429.\u001b[0m\n",
      "\u001b[32m[I 2022-02-17 17:03:35,436]\u001b[0m Trial 2 finished with value: 0.7812428822608769 and parameters: {'lambda_l1': 3.3036489348816736e-08, 'lambda_l2': 1.1902502356071903e-05, 'num_leaves': 239, 'feature_fraction': 0.49119422046342937, 'bagging_fraction': 0.8860190056950652, 'bagging_freq': 4, 'min_child_samples': 11}. Best is trial 0 with value: 0.7843229505356429.\u001b[0m\n",
      "\u001b[32m[I 2022-02-17 17:03:35,668]\u001b[0m Trial 3 finished with value: 0.7901345262805802 and parameters: {'lambda_l1': 0.0525098360669159, 'lambda_l2': 1.0768860436498567e-06, 'num_leaves': 92, 'feature_fraction': 0.9543687209936924, 'bagging_fraction': 0.713597496369302, 'bagging_freq': 6, 'min_child_samples': 57}. Best is trial 3 with value: 0.7901345262805802.\u001b[0m\n",
      "\u001b[32m[I 2022-02-17 17:03:35,910]\u001b[0m Trial 4 finished with value: 0.7949819334513467 and parameters: {'lambda_l1': 3.8396127062095774e-07, 'lambda_l2': 4.4637984682192084e-08, 'num_leaves': 253, 'feature_fraction': 0.7761893267129882, 'bagging_fraction': 0.9112127392767837, 'bagging_freq': 1, 'min_child_samples': 47}. Best is trial 4 with value: 0.7949819334513467.\u001b[0m\n",
      "\u001b[32m[I 2022-02-17 17:03:36,155]\u001b[0m Trial 5 finished with value: 0.7894877272054859 and parameters: {'lambda_l1': 0.00048003414038838224, 'lambda_l2': 2.9026359704421578e-06, 'num_leaves': 189, 'feature_fraction': 0.939977242750562, 'bagging_fraction': 0.471549610734331, 'bagging_freq': 1, 'min_child_samples': 34}. Best is trial 4 with value: 0.7949819334513467.\u001b[0m\n",
      "\u001b[32m[I 2022-02-17 17:03:36,355]\u001b[0m Trial 6 finished with value: 0.7783284824166937 and parameters: {'lambda_l1': 6.159107652261278e-06, 'lambda_l2': 1.4874105157863164e-05, 'num_leaves': 248, 'feature_fraction': 0.56807818544398, 'bagging_fraction': 0.578080584634012, 'bagging_freq': 2, 'min_child_samples': 68}. Best is trial 4 with value: 0.7949819334513467.\u001b[0m\n",
      "\u001b[32m[I 2022-02-17 17:03:36,545]\u001b[0m Trial 7 finished with value: 0.7593712821662884 and parameters: {'lambda_l1': 1.4447698048422924e-08, 'lambda_l2': 1.325782393457494e-06, 'num_leaves': 176, 'feature_fraction': 0.8311083368400847, 'bagging_fraction': 0.4745018840398832, 'bagging_freq': 5, 'min_child_samples': 81}. Best is trial 4 with value: 0.7949819334513467.\u001b[0m\n",
      "\u001b[32m[I 2022-02-17 17:03:36,744]\u001b[0m Trial 8 finished with value: 0.7853754357177589 and parameters: {'lambda_l1': 0.00045540075904631393, 'lambda_l2': 1.724932378957695e-07, 'num_leaves': 34, 'feature_fraction': 0.6839392043742007, 'bagging_fraction': 0.638481494888341, 'bagging_freq': 1, 'min_child_samples': 64}. Best is trial 4 with value: 0.7949819334513467.\u001b[0m\n",
      "\u001b[32m[I 2022-02-17 17:03:37,035]\u001b[0m Trial 9 finished with value: 0.7623072200099644 and parameters: {'lambda_l1': 1.1725791456558641e-08, 'lambda_l2': 5.680298822670208e-08, 'num_leaves': 177, 'feature_fraction': 0.7160560048155655, 'bagging_fraction': 0.4516957681252291, 'bagging_freq': 6, 'min_child_samples': 78}. Best is trial 4 with value: 0.7949819334513467.\u001b[0m\n",
      "\u001b[32m[I 2022-02-17 17:03:37,280]\u001b[0m Trial 10 finished with value: 0.7882267301936894 and parameters: {'lambda_l1': 3.233507201561627, 'lambda_l2': 0.07694237737486181, 'num_leaves': 114, 'feature_fraction': 0.668516073893202, 'bagging_fraction': 0.9570828847519026, 'bagging_freq': 2, 'min_child_samples': 95}. Best is trial 4 with value: 0.7949819334513467.\u001b[0m\n",
      "\u001b[32m[I 2022-02-17 17:03:37,638]\u001b[0m Trial 11 finished with value: 0.7941426596148767 and parameters: {'lambda_l1': 0.2611015312076834, 'lambda_l2': 1.3349546500171627e-08, 'num_leaves': 84, 'feature_fraction': 0.9835920472834764, 'bagging_fraction': 0.855114027452304, 'bagging_freq': 7, 'min_child_samples': 26}. Best is trial 4 with value: 0.7949819334513467.\u001b[0m\n",
      "\u001b[32m[I 2022-02-17 17:03:37,985]\u001b[0m Trial 12 finished with value: 0.7891656646701922 and parameters: {'lambda_l1': 2.5654541652642395e-06, 'lambda_l2': 1.6025565427535983e-08, 'num_leaves': 61, 'feature_fraction': 0.8448080309054734, 'bagging_fraction': 0.8321668767806119, 'bagging_freq': 7, 'min_child_samples': 25}. Best is trial 4 with value: 0.7949819334513467.\u001b[0m\n",
      "\u001b[32m[I 2022-02-17 17:03:38,371]\u001b[0m Trial 13 finished with value: 0.7948961698744076 and parameters: {'lambda_l1': 0.6478033177146397, 'lambda_l2': 0.013989617664207846, 'num_leaves': 145, 'feature_fraction': 0.7633927796589206, 'bagging_fraction': 0.8006415056972735, 'bagging_freq': 7, 'min_child_samples': 7}. Best is trial 4 with value: 0.7949819334513467.\u001b[0m\n",
      "\u001b[32m[I 2022-02-17 17:03:38,771]\u001b[0m Trial 14 finished with value: 0.8004675068982913 and parameters: {'lambda_l1': 3.605157304562676e-06, 'lambda_l2': 0.01583624877276059, 'num_leaves': 148, 'feature_fraction': 0.7969442928327511, 'bagging_fraction': 0.7676817449779589, 'bagging_freq': 3, 'min_child_samples': 6}. Best is trial 14 with value: 0.8004675068982913.\u001b[0m\n",
      "\u001b[32m[I 2022-02-17 17:03:39,043]\u001b[0m Trial 15 finished with value: 0.8043092960409277 and parameters: {'lambda_l1': 9.372189667936706e-07, 'lambda_l2': 5.006422292802079, 'num_leaves': 207, 'feature_fraction': 0.5726199420672202, 'bagging_fraction': 0.9838013199012343, 'bagging_freq': 3, 'min_child_samples': 17}. Best is trial 15 with value: 0.8043092960409277.\u001b[0m\n",
      "\u001b[32m[I 2022-02-17 17:03:39,322]\u001b[0m Trial 16 finished with value: 0.7944046506081598 and parameters: {'lambda_l1': 1.880073392249166e-05, 'lambda_l2': 3.7744680424369013, 'num_leaves': 206, 'feature_fraction': 0.6006421619442215, 'bagging_fraction': 0.9868445308551068, 'bagging_freq': 3, 'min_child_samples': 21}. Best is trial 15 with value: 0.8043092960409277.\u001b[0m\n",
      "\u001b[32m[I 2022-02-17 17:03:39,587]\u001b[0m Trial 17 finished with value: 0.7950510079286811 and parameters: {'lambda_l1': 4.648028516630398e-05, 'lambda_l2': 9.999025478932703, 'num_leaves': 136, 'feature_fraction': 0.5679668132194132, 'bagging_fraction': 0.753981922939593, 'bagging_freq': 3, 'min_child_samples': 5}. Best is trial 15 with value: 0.8043092960409277.\u001b[0m\n",
      "\u001b[32m[I 2022-02-17 17:03:39,880]\u001b[0m Trial 18 finished with value: 0.7868622240643556 and parameters: {'lambda_l1': 3.80713025029331e-07, 'lambda_l2': 0.006159478218994516, 'num_leaves': 209, 'feature_fraction': 0.479517976249638, 'bagging_fraction': 0.7704185959706824, 'bagging_freq': 2, 'min_child_samples': 17}. Best is trial 15 with value: 0.8043092960409277.\u001b[0m\n",
      "\u001b[32m[I 2022-02-17 17:03:40,107]\u001b[0m Trial 19 finished with value: 0.7881309323093492 and parameters: {'lambda_l1': 5.86655441304575e-07, 'lambda_l2': 0.6029168911996956, 'num_leaves': 158, 'feature_fraction': 0.6253517810917416, 'bagging_fraction': 0.5965125588493674, 'bagging_freq': 5, 'min_child_samples': 36}. Best is trial 15 with value: 0.8043092960409277.\u001b[0m\n",
      "\u001b[32m[I 2022-02-17 17:03:40,408]\u001b[0m Trial 20 finished with value: 0.7975642518621141 and parameters: {'lambda_l1': 0.002042626041302289, 'lambda_l2': 0.003437259664021139, 'num_leaves': 120, 'feature_fraction': 0.521391458434855, 'bagging_fraction': 0.9242554497970813, 'bagging_freq': 3, 'min_child_samples': 17}. Best is trial 15 with value: 0.8043092960409277.\u001b[0m\n",
      "\u001b[32m[I 2022-02-17 17:03:40,714]\u001b[0m Trial 21 finished with value: 0.7978586138391922 and parameters: {'lambda_l1': 0.004175015094173985, 'lambda_l2': 0.004081117426758983, 'num_leaves': 124, 'feature_fraction': 0.500891954731845, 'bagging_fraction': 0.931942468175563, 'bagging_freq': 3, 'min_child_samples': 14}. Best is trial 15 with value: 0.8043092960409277.\u001b[0m\n",
      "\u001b[32m[I 2022-02-17 17:03:40,976]\u001b[0m Trial 22 finished with value: 0.7884286718098941 and parameters: {'lambda_l1': 6.005915934970035e-05, 'lambda_l2': 0.20252047622004263, 'num_leaves': 98, 'feature_fraction': 0.41581467054408716, 'bagging_fraction': 0.9928869310616925, 'bagging_freq': 4, 'min_child_samples': 31}. Best is trial 15 with value: 0.8043092960409277.\u001b[0m\n",
      "\u001b[32m[I 2022-02-17 17:03:41,327]\u001b[0m Trial 23 finished with value: 0.7894686747748682 and parameters: {'lambda_l1': 0.005103573707172417, 'lambda_l2': 0.0015037530640888733, 'num_leaves': 158, 'feature_fraction': 0.5232082625721791, 'bagging_fraction': 0.8766820798096989, 'bagging_freq': 2, 'min_child_samples': 13}. Best is trial 15 with value: 0.8043092960409277.\u001b[0m\n",
      "\u001b[32m[I 2022-02-17 17:03:41,728]\u001b[0m Trial 24 finished with value: 0.7924821012728946 and parameters: {'lambda_l1': 2.7286648674672877e-06, 'lambda_l2': 0.04190787202435331, 'num_leaves': 214, 'feature_fraction': 0.46436209901564485, 'bagging_fraction': 0.9393227877916773, 'bagging_freq': 3, 'min_child_samples': 6}. Best is trial 15 with value: 0.8043092960409277.\u001b[0m\n",
      "\u001b[32m[I 2022-02-17 17:03:41,979]\u001b[0m Trial 25 finished with value: 0.7924327726387209 and parameters: {'lambda_l1': 1.0190268125519364e-07, 'lambda_l2': 0.8272970246349228, 'num_leaves': 69, 'feature_fraction': 0.6327747138927122, 'bagging_fraction': 0.8235256564408671, 'bagging_freq': 4, 'min_child_samples': 24}. Best is trial 15 with value: 0.8043092960409277.\u001b[0m\n",
      "\u001b[32m[I 2022-02-17 17:03:42,327]\u001b[0m Trial 26 finished with value: 0.7887548968779622 and parameters: {'lambda_l1': 0.00016829063638930635, 'lambda_l2': 0.0004155614500548573, 'num_leaves': 154, 'feature_fraction': 0.8865588431056823, 'bagging_fraction': 0.7195413926479551, 'bagging_freq': 5, 'min_child_samples': 15}. Best is trial 15 with value: 0.8043092960409277.\u001b[0m\n",
      "\u001b[32m[I 2022-02-17 17:03:42,666]\u001b[0m Trial 27 finished with value: 0.787909649395342 and parameters: {'lambda_l1': 1.0353822711227861e-05, 'lambda_l2': 0.02346532066922606, 'num_leaves': 122, 'feature_fraction': 0.7430581509236961, 'bagging_fraction': 0.9977936192064446, 'bagging_freq': 2, 'min_child_samples': 30}. Best is trial 15 with value: 0.8043092960409277.\u001b[0m\n",
      "\u001b[32m[I 2022-02-17 17:03:42,927]\u001b[0m Trial 28 finished with value: 0.796603332329107 and parameters: {'lambda_l1': 1.3944730286082823e-06, 'lambda_l2': 0.0013540329564198032, 'num_leaves': 185, 'feature_fraction': 0.561193669350158, 'bagging_fraction': 0.8977360483883077, 'bagging_freq': 4, 'min_child_samples': 38}. Best is trial 15 with value: 0.8043092960409277.\u001b[0m\n",
      "\u001b[32m[I 2022-02-17 17:03:43,213]\u001b[0m Trial 29 finished with value: 0.7941604440326046 and parameters: {'lambda_l1': 1.1858447701692517e-07, 'lambda_l2': 1.2580859476707547, 'num_leaves': 107, 'feature_fraction': 0.8201435454530518, 'bagging_fraction': 0.6674009413164139, 'bagging_freq': 3, 'min_child_samples': 11}. Best is trial 15 with value: 0.8043092960409277.\u001b[0m\n",
      "\u001b[32m[I 2022-02-17 17:03:43,409]\u001b[0m Trial 30 finished with value: 0.7966005815955292 and parameters: {'lambda_l1': 0.0014399778034437194, 'lambda_l2': 0.1276219579225762, 'num_leaves': 4, 'feature_fraction': 0.6534821262434913, 'bagging_fraction': 0.7753641680393129, 'bagging_freq': 3, 'min_child_samples': 52}. Best is trial 15 with value: 0.8043092960409277.\u001b[0m\n",
      "\u001b[32m[I 2022-02-17 17:03:43,737]\u001b[0m Trial 31 finished with value: 0.8001384057453516 and parameters: {'lambda_l1': 0.0058360921673773925, 'lambda_l2': 0.005214156953094084, 'num_leaves': 128, 'feature_fraction': 0.524924166832644, 'bagging_fraction': 0.9473555664148943, 'bagging_freq': 3, 'min_child_samples': 18}. Best is trial 15 with value: 0.8043092960409277.\u001b[0m\n",
      "\u001b[32m[I 2022-02-17 17:03:44,004]\u001b[0m Trial 32 finished with value: 0.79532390480274 and parameters: {'lambda_l1': 0.01843059643919174, 'lambda_l2': 6.40573610130739e-05, 'num_leaves': 137, 'feature_fraction': 0.43857150233946396, 'bagging_fraction': 0.9545438083031181, 'bagging_freq': 2, 'min_child_samples': 20}. Best is trial 15 with value: 0.8043092960409277.\u001b[0m\n",
      "\u001b[32m[I 2022-02-17 17:03:44,329]\u001b[0m Trial 33 finished with value: 0.7862203630819731 and parameters: {'lambda_l1': 0.0596097541621117, 'lambda_l2': 0.0002724574260071427, 'num_leaves': 229, 'feature_fraction': 0.5197854609793668, 'bagging_fraction': 0.8676378633107449, 'bagging_freq': 4, 'min_child_samples': 12}. Best is trial 15 with value: 0.8043092960409277.\u001b[0m\n",
      "\u001b[32m[I 2022-02-17 17:03:44,633]\u001b[0m Trial 34 finished with value: 0.801182680988075 and parameters: {'lambda_l1': 0.005544649773895937, 'lambda_l2': 0.0009382102916547283, 'num_leaves': 163, 'feature_fraction': 0.5447896860532679, 'bagging_fraction': 0.9586706540040875, 'bagging_freq': 3, 'min_child_samples': 28}. Best is trial 15 with value: 0.8043092960409277.\u001b[0m\n",
      "\u001b[32m[I 2022-02-17 17:03:44,878]\u001b[0m Trial 35 finished with value: 0.7858745334997232 and parameters: {'lambda_l1': 0.0001120512735816429, 'lambda_l2': 9.222569709957433e-05, 'num_leaves': 175, 'feature_fraction': 0.585987587309288, 'bagging_fraction': 0.9658437594575041, 'bagging_freq': 4, 'min_child_samples': 46}. Best is trial 15 with value: 0.8043092960409277.\u001b[0m\n",
      "\u001b[32m[I 2022-02-17 17:03:45,142]\u001b[0m Trial 36 finished with value: 0.7998977464538214 and parameters: {'lambda_l1': 0.03043720868182526, 'lambda_l2': 1.5430866377742243e-05, 'num_leaves': 224, 'feature_fraction': 0.5429737291375624, 'bagging_fraction': 0.9032748515850899, 'bagging_freq': 3, 'min_child_samples': 41}. Best is trial 15 with value: 0.8043092960409277.\u001b[0m\n",
      "\u001b[32m[I 2022-02-17 17:03:45,456]\u001b[0m Trial 37 finished with value: 0.7934138136731396 and parameters: {'lambda_l1': 0.0006873133536162774, 'lambda_l2': 0.0008860844531249434, 'num_leaves': 201, 'feature_fraction': 0.7047485398369091, 'bagging_fraction': 0.8495633044106338, 'bagging_freq': 4, 'min_child_samples': 28}. Best is trial 15 with value: 0.8043092960409277.\u001b[0m\n",
      "\u001b[32m[I 2022-02-17 17:03:45,690]\u001b[0m Trial 38 finished with value: 0.7898225951788271 and parameters: {'lambda_l1': 0.20994766359578357, 'lambda_l2': 0.008994307871426254, 'num_leaves': 162, 'feature_fraction': 0.45571861780112444, 'bagging_fraction': 0.516443944467418, 'bagging_freq': 2, 'min_child_samples': 21}. Best is trial 15 with value: 0.8043092960409277.\u001b[0m\n",
      "\u001b[32m[I 2022-02-17 17:03:46,018]\u001b[0m Trial 39 finished with value: 0.7964736788680026 and parameters: {'lambda_l1': 0.008536762135852674, 'lambda_l2': 0.28510958620141424, 'num_leaves': 191, 'feature_fraction': 0.7949392364749004, 'bagging_fraction': 0.912716035648969, 'bagging_freq': 1, 'min_child_samples': 9}. Best is trial 15 with value: 0.8043092960409277.\u001b[0m\n",
      "\u001b[32m[I 2022-02-17 17:03:46,297]\u001b[0m Trial 40 finished with value: 0.7919534551366111 and parameters: {'lambda_l1': 6.601638907128477e-08, 'lambda_l2': 0.04465458617343845, 'num_leaves': 143, 'feature_fraction': 0.6188096104064068, 'bagging_fraction': 0.9694085673805448, 'bagging_freq': 5, 'min_child_samples': 33}. Best is trial 15 with value: 0.8043092960409277.\u001b[0m\n",
      "\u001b[32m[I 2022-02-17 17:03:46,555]\u001b[0m Trial 41 finished with value: 0.7908426401878846 and parameters: {'lambda_l1': 0.029784631766847706, 'lambda_l2': 1.0768807823099339e-05, 'num_leaves': 230, 'feature_fraction': 0.5394548025594456, 'bagging_fraction': 0.8900325276801397, 'bagging_freq': 3, 'min_child_samples': 44}. Best is trial 15 with value: 0.8043092960409277.\u001b[0m\n",
      "\u001b[32m[I 2022-02-17 17:03:46,850]\u001b[0m Trial 42 finished with value: 0.7900546164190893 and parameters: {'lambda_l1': 0.06967511989791803, 'lambda_l2': 1.83729244320701e-05, 'num_leaves': 220, 'feature_fraction': 0.5559001483521092, 'bagging_fraction': 0.9142094641734954, 'bagging_freq': 3, 'min_child_samples': 38}. Best is trial 15 with value: 0.8043092960409277.\u001b[0m\n",
      "\u001b[32m[I 2022-02-17 17:03:47,099]\u001b[0m Trial 43 finished with value: 0.7882538448380857 and parameters: {'lambda_l1': 0.0019478281300055287, 'lambda_l2': 6.52728207284038e-06, 'num_leaves': 242, 'feature_fraction': 0.40181400257054684, 'bagging_fraction': 0.9497174847091542, 'bagging_freq': 3, 'min_child_samples': 41}. Best is trial 15 with value: 0.8043092960409277.\u001b[0m\n",
      "\u001b[32m[I 2022-02-17 17:03:47,343]\u001b[0m Trial 44 finished with value: 0.7932590529964277 and parameters: {'lambda_l1': 1.014527125893563, 'lambda_l2': 0.0001396769540466891, 'num_leaves': 171, 'feature_fraction': 0.4931867815415786, 'bagging_fraction': 0.8076887551492132, 'bagging_freq': 2, 'min_child_samples': 51}. Best is trial 15 with value: 0.8043092960409277.\u001b[0m\n",
      "\u001b[32m[I 2022-02-17 17:03:47,588]\u001b[0m Trial 45 finished with value: 0.7894296304304564 and parameters: {'lambda_l1': 0.16752954667494777, 'lambda_l2': 3.36616305231573e-07, 'num_leaves': 198, 'feature_fraction': 0.5898187727022904, 'bagging_fraction': 0.9994636069293249, 'bagging_freq': 3, 'min_child_samples': 57}. Best is trial 15 with value: 0.8043092960409277.\u001b[0m\n",
      "\u001b[32m[I 2022-02-17 17:03:47,790]\u001b[0m Trial 46 finished with value: 0.798562307777669 and parameters: {'lambda_l1': 7.201779460122983, 'lambda_l2': 2.673978475817186e-05, 'num_leaves': 187, 'feature_fraction': 0.8942228684216011, 'bagging_fraction': 0.7269464959334537, 'bagging_freq': 4, 'min_child_samples': 24}. Best is trial 15 with value: 0.8043092960409277.\u001b[0m\n",
      "\u001b[32m[I 2022-02-17 17:03:48,051]\u001b[0m Trial 47 finished with value: 0.7865774375063053 and parameters: {'lambda_l1': 0.011998325535636473, 'lambda_l2': 3.7826981004407728e-06, 'num_leaves': 251, 'feature_fraction': 0.6821570060285365, 'bagging_fraction': 0.6744626854162417, 'bagging_freq': 2, 'min_child_samples': 19}. Best is trial 15 with value: 0.8043092960409277.\u001b[0m\n",
      "\u001b[32m[I 2022-02-17 17:03:48,329]\u001b[0m Trial 48 finished with value: 0.7979411109985907 and parameters: {'lambda_l1': 0.0003363192753699606, 'lambda_l2': 0.0005676715377205934, 'num_leaves': 221, 'feature_fraction': 0.5480745858644659, 'bagging_fraction': 0.8925030992755116, 'bagging_freq': 3, 'min_child_samples': 27}. Best is trial 15 with value: 0.8043092960409277.\u001b[0m\n",
      "\u001b[32m[I 2022-02-17 17:03:48,556]\u001b[0m Trial 49 finished with value: 0.7833866221871477 and parameters: {'lambda_l1': 0.000793583750917864, 'lambda_l2': 8.86397241479162e-07, 'num_leaves': 169, 'feature_fraction': 0.7434464239847303, 'bagging_fraction': 0.8513081619379601, 'bagging_freq': 1, 'min_child_samples': 93}. Best is trial 15 with value: 0.8043092960409277.\u001b[0m\n"
     ]
    },
    {
     "name": "stdout",
     "output_type": "stream",
     "text": [
      "Number of finished trials: 50\n",
      "Best trial: {'lambda_l1': 9.372189667936706e-07, 'lambda_l2': 5.006422292802079, 'num_leaves': 207, 'feature_fraction': 0.5726199420672202, 'bagging_fraction': 0.9838013199012343, 'bagging_freq': 3, 'min_child_samples': 17}\n"
     ]
    }
   ],
   "source": [
    "import numpy as np\n",
    "import pandas as pd\n",
    "from sklearn.model_selection import train_test_split\n",
    "from sklearn.metrics import roc_auc_score\n",
    "import optuna\n",
    "\n",
    "\n",
    "def objective(trial,data=X,target=y):\n",
    "    \n",
    "    \n",
    "    train_x, test_x, train_y, test_y = train_test_split(data, target, test_size=0.25,random_state=seeds)\n",
    "    params = {\n",
    "        \"objective\": \"binary\",\n",
    "        \"metric\": \"auc\",\n",
    "        \"verbosity\": -1,\n",
    "        \"boosting_type\": \"gbdt\",\n",
    "        \"lambda_l1\": trial.suggest_float(\"lambda_l1\", 1e-8, 10.0, log=True),\n",
    "        \"lambda_l2\": trial.suggest_float(\"lambda_l2\", 1e-8, 10.0, log=True),\n",
    "        \"num_leaves\": trial.suggest_int(\"num_leaves\", 2, 256),\n",
    "        \"feature_fraction\": trial.suggest_float(\"feature_fraction\", 0.4, 1.0),\n",
    "        \"bagging_fraction\": trial.suggest_float(\"bagging_fraction\", 0.4, 1.0),\n",
    "        \"bagging_freq\": trial.suggest_int(\"bagging_freq\", 1, 7),\n",
    "        \"min_child_samples\": trial.suggest_int(\"min_child_samples\", 5, 100),\n",
    "    }\n",
    "    clf = LGBMClassifier(random_state=seeds,scale_pos_weight=2, **params)\n",
    "    model = make_pipeline(preprocess,smoteen, clf)\n",
    "    metric = make_scorer(f2_measure)\n",
    "    # Evaluate model\n",
    "    scores = cross_val_score(model,test_x, test_y, scoring=metric, cv=3, n_jobs=-1).mean()\n",
    "    return scores\n",
    "\n",
    "study = optuna.create_study(direction='maximize')\n",
    "study.optimize(objective, n_trials=50)\n",
    "print('Number of finished trials:', len(study.trials))\n",
    "print('Best trial:', study.best_trial.params)"
   ]
  },
  {
   "cell_type": "markdown",
   "metadata": {},
   "source": [
    "## Results"
   ]
  },
  {
   "cell_type": "code",
   "execution_count": 113,
   "metadata": {},
   "outputs": [
    {
     "name": "stdout",
     "output_type": "stream",
     "text": [
      "[LightGBM] [Warning] feature_fraction is set=0.7966576759605296, colsample_bytree=1.0 will be ignored. Current value: feature_fraction=0.7966576759605296\n",
      "[LightGBM] [Warning] lambda_l1 is set=9.693520077339764, reg_alpha=0.0 will be ignored. Current value: lambda_l1=9.693520077339764\n",
      "[LightGBM] [Warning] bagging_fraction is set=0.6991081699843358, subsample=1.0 will be ignored. Current value: bagging_fraction=0.6991081699843358\n",
      "[LightGBM] [Warning] lambda_l2 is set=0.0011718408699389177, reg_lambda=0.0 will be ignored. Current value: lambda_l2=0.0011718408699389177\n",
      "[LightGBM] [Warning] bagging_freq is set=4, subsample_freq=0 will be ignored. Current value: bagging_freq=4\n",
      "0.8283558629361835\n",
      "              precision    recall  f1-score   support\n",
      "\n",
      "           0       0.97      0.68      0.80      1351\n",
      "           1       0.55      0.95      0.70       557\n",
      "\n",
      "    accuracy                           0.76      1908\n",
      "   macro avg       0.76      0.82      0.75      1908\n",
      "weighted avg       0.85      0.76      0.77      1908\n",
      "\n",
      "[[925 426]\n",
      " [ 30 527]]\n"
     ]
    }
   ],
   "source": [
    "from sklearn.metrics import classification_report, confusion_matrix, roc_auc_score\n",
    "\n",
    "\n",
    "test = pd.read_pickle(r\"test_enc.pkl\")\n",
    "X_test, y_test =  test.drop(columns=\"left\", axis = 1), test[\"left\"]\n",
    "\n",
    "params= {'lambda_l1': 9.693520077339764,\n",
    " 'lambda_l2': 0.0011718408699389177,\n",
    " 'num_leaves': 115,\n",
    " 'feature_fraction': 0.7966576759605296,\n",
    " 'bagging_fraction': 0.6991081699843358,\n",
    " 'bagging_freq': 4,\n",
    " 'min_child_samples': 61}\n",
    "\n",
    "clf2 = LGBMClassifier(random_state=seeds,**params)\n",
    "\n",
    "pipeline_final = make_pipeline(preprocess, smoteen, clf2)\n",
    "\n",
    "pipeline_final.fit(X, y)\n",
    "    # Obtain the predictions from our random forest model \n",
    "predicted = pipeline_final.predict(X_test)\n",
    "    # Predict probabilities\n",
    "probs = pipeline_final.predict_proba(X_test)\n",
    "    # Print the ROC curve, classification report and confusion matrix\n",
    "print(fbeta_score(y_test, predicted, beta=2))\n",
    "print(classification_report(y_test, predicted))\n",
    "print(confusion_matrix(y_test, predicted))"
   ]
  },
  {
   "cell_type": "code",
   "execution_count": null,
   "metadata": {},
   "outputs": [],
   "source": []
  }
 ],
 "metadata": {
  "interpreter": {
   "hash": "3e49c3c660bb3da03bb80538bab8d3b7446076cf250c2919d2328cdd966089b9"
  },
  "kernelspec": {
   "display_name": "Python 3.9.7 ('env_full')",
   "language": "python",
   "name": "python3"
  },
  "language_info": {
   "codemirror_mode": {
    "name": "ipython",
    "version": 3
   },
   "file_extension": ".py",
   "mimetype": "text/x-python",
   "name": "python",
   "nbconvert_exporter": "python",
   "pygments_lexer": "ipython3",
   "version": "3.9.7"
  },
  "orig_nbformat": 4
 },
 "nbformat": 4,
 "nbformat_minor": 2
}
