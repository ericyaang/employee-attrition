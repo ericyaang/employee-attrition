{
 "cells": [
  {
   "cell_type": "code",
   "execution_count": 17,
   "metadata": {},
   "outputs": [],
   "source": [
    "# Load libraries\n",
    "import pandas as pd\n",
    "import numpy as np\n",
    "import matplotlib.pyplot as plt\n",
    "from sklearn.model_selection import train_test_split\n",
    "\n",
    "from sklearn.pipeline import Pipeline\n",
    "from sklearn.compose import ColumnTransformer\n",
    "from sklearn.preprocessing import OneHotEncoder\n",
    "from sklearn.preprocessing import MinMaxScaler\n",
    "\n",
    "from sklearn.dummy import DummyClassifier\n",
    "from xgboost import XGBClassifier\n",
    "from lightgbm import LGBMClassifier\n",
    "from catboost import CatBoostClassifier\n",
    "from sklearn.model_selection import cross_val_score\n",
    "from sklearn.model_selection import RepeatedStratifiedKFold\n",
    "from sklearn.metrics import fbeta_score\n",
    "from sklearn.metrics import make_scorer\n",
    "\n",
    "# Set seeds for reproducibility\n",
    "seed = 123\n"
   ]
  },
  {
   "cell_type": "code",
   "execution_count": 4,
   "metadata": {},
   "outputs": [],
   "source": [
    "# load full training set\n",
    "df = pd.read_pickle(r\"train_enc.pkl\")"
   ]
  },
  {
   "cell_type": "code",
   "execution_count": 5,
   "metadata": {},
   "outputs": [],
   "source": [
    "# Separate labels and target\n",
    "X, y =  df.drop(columns=\"left\", axis = 1), df[\"left\"]\n",
    "# Create train and validation \n",
    "X_train, X_val, y_train, y_val = train_test_split(X, y, test_size=0.25, stratify=y, random_state=seed)"
   ]
  },
  {
   "cell_type": "code",
   "execution_count": 6,
   "metadata": {},
   "outputs": [],
   "source": [
    "# Get variable names\n",
    "bi_vars = [col for col in X.columns if X[col].nunique() == 2]\n",
    "num_vars = [col for col in X.columns if (X[col].dtype in [\"int8\", \"float32\"]) & (col not in bi_vars)]\n",
    "cat_vars = [col for col in X.columns if (col not in num_vars) & (col not in bi_vars)]"
   ]
  },
  {
   "cell_type": "code",
   "execution_count": 19,
   "metadata": {},
   "outputs": [],
   "source": [
    "# Preprocessing recipe\n",
    "preprocess = ColumnTransformer(\n",
    "    transformers=[\n",
    "        (\"scaler\", MinMaxScaler(), num_vars),\n",
    "        (\"ohe\", OneHotEncoder(), cat_vars)\n",
    "    ], remainder = 'passthrough'\n",
    ")"
   ]
  },
  {
   "cell_type": "code",
   "execution_count": 20,
   "metadata": {},
   "outputs": [],
   "source": [
    "# K-folds\n",
    "cv = RepeatedStratifiedKFold(n_splits=10, n_repeats=3, random_state=seed)\n",
    "\n",
    "# Define metric\n",
    "def f2_measure(y_true, y_pred):\n",
    "    return fbeta_score(y_true, y_pred, beta=2)  \n",
    "\n",
    "metric = make_scorer(f2_measure)"
   ]
  },
  {
   "cell_type": "markdown",
   "metadata": {},
   "source": [
    "## Test Models"
   ]
  },
  {
   "cell_type": "code",
   "execution_count": 21,
   "metadata": {},
   "outputs": [
    {
     "name": "stdout",
     "output_type": "stream",
     "text": [
      ">DM 0.673 (0.001)\n",
      ">LGB 0.727 (0.028)\n",
      ">CB 0.728 (0.026)\n",
      ">XGB 0.724 (0.027)\n"
     ]
    },
    {
     "data": {
      "image/png": "[encoded data removed]",
      "text/plain": [
       "<Figure size 432x288 with 1 Axes>"
      ]
     },
     "metadata": {
      "needs_background": "light"
     },
     "output_type": "display_data"
    }
   ],
   "source": [
    "### Especify models ###\n",
    "# LightGBM\n",
    "lgbm_model = LGBMClassifier(random_seed=seed)\n",
    "# Catboost\n",
    "cb_model = CatBoostClassifier(random_seed=seed)\n",
    "# XGBoost \n",
    "xgb_model = XGBClassifier(random_state=seed)\n",
    "\n",
    "def f2_measure(y_true, y_pred):\n",
    "    return fbeta_score(y_true, y_pred, beta=2)  \n",
    "\n",
    "metric = make_scorer(f2_measure)\n",
    "# Evaluate a model\n",
    "def evaluate_model(X, y, model):\n",
    "    # Define the model evaluation metric\n",
    "    metric = make_scorer(f2_measure)\n",
    "    # Evaluate model\n",
    "    scores = cross_val_score(model, X, y, scoring=metric, cv=cv, n_jobs=-1)\n",
    "    return scores\n",
    "    \n",
    "# Define models to test\n",
    "def get_models():\n",
    "    models, names = list(), list()\n",
    "    # DUMMY\n",
    "    models.append(DummyClassifier(strategy='constant', constant=1, random_state=seed))\n",
    "    names.append('DM')\n",
    "    # LGB\n",
    "    models.append(lgbm_model)\n",
    "    names.append('LGB')\n",
    "    # CB\n",
    "    models.append(cb_model)\n",
    "    names.append('CB')\n",
    "    # XGB\n",
    "    models.append(xgb_model)\n",
    "    names.append('XGB')\n",
    "    return models, names\n",
    "\n",
    "# Define models\n",
    "models, names = get_models()\n",
    "results = list()\n",
    "# Evaluate each model\n",
    "for i in range(len(models)):\n",
    "    # Wrap the model in a pipeline\n",
    "    base_pipeline = Pipeline(steps=[\n",
    "        ('recipe',preprocess),\n",
    "        ('m',models[i])\n",
    "    ])\n",
    "    # Evaluate the model and store results\n",
    "    scores = evaluate_model(X, y, base_pipeline) # <-- using training set for CV\n",
    "    results.append(scores)\n",
    "    # Summarize and store\n",
    "    print('>%s %.3f (%.3f)' % (names[i], np.mean(scores), np.std(scores)))\n",
    "    \n",
    "# Plot the results\n",
    "plt.boxplot(results, labels=names, showmeans=True)\n",
    "plt.show()"
   ]
  }
 ],
 "metadata": {
  "interpreter": {
   "hash": "3e49c3c660bb3da03bb80538bab8d3b7446076cf250c2919d2328cdd966089b9"
  },
  "kernelspec": {
   "display_name": "Python 3.9.7 ('env_full')",
   "language": "python",
   "name": "python3"
  },
  "language_info": {
   "codemirror_mode": {
    "name": "ipython",
    "version": 3
   },
   "file_extension": ".py",
   "mimetype": "text/x-python",
   "name": "python",
   "nbconvert_exporter": "python",
   "pygments_lexer": "ipython3",
   "version": "3.9.7"
  },
  "orig_nbformat": 4
 },
 "nbformat": 4,
 "nbformat_minor": 2
}
