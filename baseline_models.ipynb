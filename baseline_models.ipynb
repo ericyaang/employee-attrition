{
 "cells": [
  {
   "cell_type": "code",
   "execution_count": 193,
   "metadata": {},
   "outputs": [],
   "source": [
    "# Load libraries\n",
    "import pandas as pd\n",
    "import numpy as np\n",
    "import matplotlib.pyplot as plt\n",
    "from sklearn.model_selection import train_test_split\n",
    "\n",
    "from sklearn.pipeline import Pipeline\n",
    "from sklearn.compose import ColumnTransformer\n",
    "from sklearn.preprocessing import OneHotEncoder\n",
    "from sklearn.preprocessing import MinMaxScaler\n",
    "\n",
    "from sklearn.dummy import DummyClassifier\n",
    "from xgboost import XGBClassifier\n",
    "from lightgbm import LGBMClassifier\n",
    "from catboost import CatBoostClassifier\n",
    "from sklearn.model_selection import cross_val_score\n",
    "from sklearn.model_selection import RepeatedStratifiedKFold\n",
    "from sklearn.metrics import fbeta_score\n",
    "from sklearn.metrics import make_scorer\n",
    "\n",
    "# Set seeds for reproducibility\n",
    "seed = 123\n"
   ]
  },
  {
   "cell_type": "code",
   "execution_count": 194,
   "metadata": {},
   "outputs": [],
   "source": [
    "# load full training set\n",
    "df = pd.read_pickle(r\"train_enc.pkl\")"
   ]
  },
  {
   "cell_type": "code",
   "execution_count": 195,
   "metadata": {},
   "outputs": [],
   "source": [
    "# Separate labels and target\n",
    "X, y =  df.drop(columns=\"left\", axis = 1), df[\"left\"]\n",
    "# Create train and validation \n",
    "X_train, X_val, y_train, y_val = train_test_split(X, y, test_size=0.25, stratify=y, random_state=seed)"
   ]
  },
  {
   "cell_type": "code",
   "execution_count": 196,
   "metadata": {},
   "outputs": [],
   "source": [
    "# Get variable names\n",
    "bi_vars = [col for col in X.columns if X[col].nunique() == 2]\n",
    "num_vars = [col for col in X.columns if (X[col].dtype in [\"int8\", \"float32\"]) & (col not in bi_vars)]\n",
    "cat_vars = [col for col in X.columns if (col not in num_vars) & (col not in bi_vars)]"
   ]
  },
  {
   "cell_type": "code",
   "execution_count": 197,
   "metadata": {},
   "outputs": [],
   "source": [
    "# Preprocessing recipe\n",
    "preprocess = ColumnTransformer(\n",
    "    transformers=[\n",
    "        (\"scaler\", MinMaxScaler(), num_vars),\n",
    "        (\"ohe\", OneHotEncoder(), cat_vars)\n",
    "    ], remainder = 'passthrough'\n",
    ")"
   ]
  },
  {
   "cell_type": "code",
   "execution_count": 198,
   "metadata": {},
   "outputs": [],
   "source": [
    "# K-folds\n",
    "cv = RepeatedStratifiedKFold(n_splits=10, n_repeats=3, random_state=seed)\n",
    "\n",
    "# Define metric\n",
    "def f2_measure(y_true, y_pred):\n",
    "    return fbeta_score(y_true, y_pred, beta=2)  \n",
    "\n",
    "metric = make_scorer(f2_measure)"
   ]
  },
  {
   "cell_type": "markdown",
   "metadata": {},
   "source": [
    "## Select model"
   ]
  },
  {
   "cell_type": "code",
   "execution_count": 199,
   "metadata": {},
   "outputs": [
    {
     "name": "stdout",
     "output_type": "stream",
     "text": [
      ">DM 0.673 (0.001)\n",
      ">LGB 0.727 (0.028)\n",
      ">CB 0.728 (0.026)\n",
      ">XGB 0.724 (0.027)\n"
     ]
    },
    {
     "data": {
      "image/png": "[encoded data removed]",
      "text/plain": [
       "<Figure size 432x288 with 1 Axes>"
      ]
     },
     "metadata": {
      "needs_background": "light"
     },
     "output_type": "display_data"
    }
   ],
   "source": [
    "\n",
    "### Especify models ###\n",
    "# LightGBM\n",
    "lgbm_model = LGBMClassifier(random_seed=seed)\n",
    "# Catboost\n",
    "cb_model = CatBoostClassifier(random_seed=seed)\n",
    "# XGBoost \n",
    "xgb_model = XGBClassifier(random_state=seed)\n",
    "\n",
    "def f2_measure(y_true, y_pred):\n",
    "    return fbeta_score(y_true, y_pred, beta=2)  \n",
    "\n",
    "metric = make_scorer(f2_measure)\n",
    "# Evaluate a model\n",
    "def evaluate_model(X, y, model):\n",
    "    # Define the model evaluation metric\n",
    "    metric = make_scorer(f2_measure)\n",
    "    # Evaluate model\n",
    "    scores = cross_val_score(model, X, y, scoring=metric, cv=cv, n_jobs=-1)\n",
    "    return scores\n",
    "    \n",
    "# Define models to test\n",
    "def get_models():\n",
    "    models, names = list(), list()\n",
    "    # DUMMY\n",
    "    models.append(DummyClassifier(strategy='constant', constant=1, random_state=seed))\n",
    "    names.append('DM')\n",
    "    # LGB\n",
    "    models.append(lgbm_model)\n",
    "    names.append('LGB')\n",
    "    # CB\n",
    "    models.append(cb_model)\n",
    "    names.append('CB')\n",
    "    # XGB\n",
    "    models.append(xgb_model)\n",
    "    names.append('XGB')\n",
    "    return models, names\n",
    "\n",
    "# Define models\n",
    "models, names = get_models()\n",
    "results = list()\n",
    "# Evaluate each model\n",
    "for i in range(len(models)):\n",
    "    # Wrap the model in a pipeline\n",
    "    base_pipeline = Pipeline(steps=[\n",
    "        ('recipe', preprocess),\n",
    "        ('m',models[i])\n",
    "    ])\n",
    "    # Evaluate the model and store results\n",
    "    scores = evaluate_model(X, y, base_pipeline) # <-- using training set for CV\n",
    "    results.append(scores)\n",
    "    # Summarize and store\n",
    "    print('>%s %.3f (%.3f)' % (names[i], np.mean(scores), np.std(scores)))\n",
    "    \n",
    "# Plot the results\n",
    "plt.boxplot(results, labels=names, showmeans=True)\n",
    "plt.show()"
   ]
  },
  {
   "cell_type": "code",
   "execution_count": 1,
   "metadata": {},
   "outputs": [
    {
     "ename": "NameError",
     "evalue": "name 'LGBMClassifier' is not defined",
     "output_type": "error",
     "traceback": [
      "\u001b[1;31m---------------------------------------------------------------------------\u001b[0m",
      "\u001b[1;31mNameError\u001b[0m                                 Traceback (most recent call last)",
      "\u001b[1;32m~\\AppData\\Local\\Temp/ipykernel_7784/1289040616.py\u001b[0m in \u001b[0;36m<module>\u001b[1;34m\u001b[0m\n\u001b[0;32m      2\u001b[0m \u001b[1;31m### Especify models ###\u001b[0m\u001b[1;33m\u001b[0m\u001b[1;33m\u001b[0m\u001b[0m\n\u001b[0;32m      3\u001b[0m \u001b[1;31m# LightGBM\u001b[0m\u001b[1;33m\u001b[0m\u001b[1;33m\u001b[0m\u001b[0m\n\u001b[1;32m----> 4\u001b[1;33m \u001b[0mlgbm_model\u001b[0m \u001b[1;33m=\u001b[0m \u001b[0mLGBMClassifier\u001b[0m\u001b[1;33m(\u001b[0m\u001b[0mrandom_seed\u001b[0m\u001b[1;33m=\u001b[0m\u001b[0mseed\u001b[0m\u001b[1;33m,\u001b[0m\u001b[0mscale_pos_weight\u001b[0m\u001b[1;33m=\u001b[0m\u001b[0mweights\u001b[0m\u001b[1;33m)\u001b[0m\u001b[1;33m\u001b[0m\u001b[1;33m\u001b[0m\u001b[0m\n\u001b[0m\u001b[0;32m      5\u001b[0m \u001b[1;31m# Catboost\u001b[0m\u001b[1;33m\u001b[0m\u001b[1;33m\u001b[0m\u001b[0m\n\u001b[0;32m      6\u001b[0m \u001b[0mcb_model\u001b[0m \u001b[1;33m=\u001b[0m \u001b[0mCatBoostClassifier\u001b[0m\u001b[1;33m(\u001b[0m\u001b[0mrandom_seed\u001b[0m\u001b[1;33m=\u001b[0m\u001b[0mseed\u001b[0m\u001b[1;33m,\u001b[0m\u001b[0mscale_pos_weight\u001b[0m\u001b[1;33m=\u001b[0m\u001b[0mweights\u001b[0m\u001b[1;33m)\u001b[0m\u001b[1;33m\u001b[0m\u001b[1;33m\u001b[0m\u001b[0m\n",
      "\u001b[1;31mNameError\u001b[0m: name 'LGBMClassifier' is not defined"
     ]
    }
   ],
   "source": [
    "weights=2\n",
    "### Especify models ###\n",
    "# LightGBM\n",
    "lgbm_model = LGBMClassifier(random_seed=seed,scale_pos_weight=weights)\n",
    "# Catboost\n",
    "cb_model = CatBoostClassifier(random_seed=seed,scale_pos_weight=weights)\n",
    "# XGBoost \n",
    "xgb_model = XGBClassifier(random_state=seed,scale_pos_weight=weights)\n",
    "\n",
    "def f2_measure(y_true, y_pred):\n",
    "    return fbeta_score(y_true, y_pred, beta=2)  \n",
    "\n",
    "metric = make_scorer(f2_measure)\n",
    "# Evaluate a model\n",
    "def evaluate_model(X, y, model):\n",
    "    # Define the model evaluation metric\n",
    "    metric = make_scorer(f2_measure)\n",
    "    # Evaluate model\n",
    "    scores = cross_val_score(model, X, y, scoring=metric, cv=cv, n_jobs=-1)\n",
    "    return scores\n",
    "    \n",
    "# Define models to test\n",
    "def get_models():\n",
    "    models, names = list(), list()\n",
    "    # DUMMY\n",
    "    models.append(DummyClassifier(strategy='constant', constant=1, random_state=seed))\n",
    "    names.append('DM')\n",
    "    # LGB\n",
    "    models.append(lgbm_model)\n",
    "    names.append('LGB')\n",
    "    # CB\n",
    "    models.append(cb_model)\n",
    "    names.append('CB')\n",
    "    # XGB\n",
    "    models.append(xgb_model)\n",
    "    names.append('XGB')\n",
    "    return models, names\n",
    "\n",
    "# Define models\n",
    "models, names = get_models()\n",
    "results = list()\n",
    "# Evaluate each model\n",
    "for i in range(len(models)):\n",
    "    # Wrap the model in a pipeline\n",
    "    base_pipeline = Pipeline(steps=[\n",
    "        ('recipe',preprocess),\n",
    "        ('m',models[i])\n",
    "    ])\n",
    "    # Evaluate the model and store results\n",
    "    scores = evaluate_model(X, y, base_pipeline) # <-- using training set for CV\n",
    "    results.append(scores)\n",
    "    # Summarize and store\n",
    "    print('>%s %.3f (%.3f)' % (names[i], np.mean(scores), np.std(scores)))\n",
    "    \n",
    "# Plot the results\n",
    "plt.boxplot(results, labels=names, showmeans=True)\n",
    "plt.show()"
   ]
  },
  {
   "cell_type": "code",
   "execution_count": 222,
   "metadata": {},
   "outputs": [
    {
     "name": "stdout",
     "output_type": "stream",
     "text": [
      ">TL 0.759 (0.026)\n",
      ">ENN 0.811 (0.020)\n",
      ">RENN 0.813 (0.016)\n",
      ">SM 0.783 (0.023)\n",
      ">BSM 0.790 (0.023)\n",
      ">SVMSM 0.776 (0.027)\n",
      ">SMTL 0.790 (0.021)\n",
      ">SMTENN 0.818 (0.014)\n"
     ]
    },
    {
     "data": {
      "image/png": "[encoded data removed]",
      "text/plain": [
       "<Figure size 432x288 with 1 Axes>"
      ]
     },
     "metadata": {
      "needs_background": "light"
     },
     "output_type": "display_data"
    }
   ],
   "source": [
    "# Under\n",
    "from imblearn.under_sampling import TomekLinks\n",
    "from imblearn.under_sampling import EditedNearestNeighbours\n",
    "from imblearn.under_sampling import RepeatedEditedNearestNeighbours\n",
    "# Over\n",
    "from imblearn.over_sampling import BorderlineSMOTE\n",
    "from imblearn.over_sampling import SMOTE\n",
    "from imblearn.over_sampling import SVMSMOTE\n",
    "# Under + Over (smote)\n",
    "from imblearn.combine import SMOTETomek \n",
    "from imblearn.under_sampling import TomekLinks\n",
    "from imblearn.combine import SMOTEENN\n",
    "from imblearn.pipeline import Pipeline\n",
    "\n",
    "lgbm_model = LGBMClassifier(random_seed=seed)\n",
    "\n",
    "def get_models_und():\n",
    "    models_und, names = list(), list()\n",
    "    # TL\n",
    "    models_und.append(TomekLinks())\n",
    "    names.append('TL')\n",
    "    # ENN\n",
    "    models_und.append(EditedNearestNeighbours())\n",
    "    names.append('ENN')\n",
    "    # RENN\n",
    "    models_und.append(RepeatedEditedNearestNeighbours())\n",
    "    names.append('RENN')\n",
    "    # SM\n",
    "    models_und.append(SMOTE())\n",
    "    names.append('SM')\n",
    "    # BSM\n",
    "    models_und.append(BorderlineSMOTE())\n",
    "    names.append('BSM')\n",
    "    # SVMSM\n",
    "    models_und.append(SVMSMOTE())\n",
    "    names.append('SVMSM')\n",
    "    # SMOTETomek\n",
    "    models_und.append(SMOTETomek(tomek=TomekLinks(sampling_strategy='majority'),random_state=seed))\n",
    "    names.append('SMTL')\n",
    "    # SMOTEENN\n",
    "    models_und.append(SMOTEENN(enn=EditedNearestNeighbours(sampling_strategy='majority'),random_state=seed))\n",
    "    names.append('SMTENN')\n",
    "    return models_und, names\n",
    "\n",
    "# Define models\n",
    "u_models, u_names = get_models_und()\n",
    "under_results = list()\n",
    "# Evaluate each model\n",
    "for i in range(len(u_models)):\n",
    "    # Wrap the model in a pipeline\n",
    "    under_pipeline = Pipeline(steps=[\n",
    "        ('recipe',preprocess),\n",
    "        ('s',u_models[i]),\n",
    "        (\"m\", lgbm_model)\n",
    "    ])\n",
    "    # Evaluate the model and store results\n",
    "    under_scores = evaluate_model(X, y, under_pipeline) # <-- using training set for CV\n",
    "    under_results.append(under_scores)\n",
    "    # Summarize and store\n",
    "    print('>%s %.3f (%.3f)' % (u_names[i], np.mean(under_scores), np.std(under_scores)))\n",
    "# Plot the results\n",
    "plt.boxplot(under_results, labels=u_names, showmeans=True)\n",
    "plt.show()"
   ]
  },
  {
   "cell_type": "code",
   "execution_count": null,
   "metadata": {},
   "outputs": [],
   "source": [
    "g=sns.pairplot(vars=[col for col in X if col!='clusters'], data=X, hue='clusters')\n",
    "g.fig.set_size_inches(10,8)\n",
    "plt.show()"
   ]
  },
  {
   "cell_type": "code",
   "execution_count": 275,
   "metadata": {},
   "outputs": [
    {
     "name": "stdout",
     "output_type": "stream",
     "text": [
      "              precision    recall  f1-score   support\n",
      "\n",
      "           0       0.95      0.72      0.82      1351\n",
      "           1       0.57      0.90      0.70       557\n",
      "\n",
      "    accuracy                           0.78      1908\n",
      "   macro avg       0.76      0.81      0.76      1908\n",
      "weighted avg       0.84      0.78      0.79      1908\n",
      "\n",
      "[[978 373]\n",
      " [ 55 502]]\n"
     ]
    }
   ],
   "source": [
    "from sklearn.metrics import classification_report, confusion_matrix, roc_auc_score\n",
    "smoteen = SMOTEENN(enn=EditedNearestNeighbours(sampling_strategy='majority'),random_state=seed)\n",
    "\n",
    "renn = RepeatedEditedNearestNeighbours()\n",
    "model_lgbm_2 = LGBMClassifier(random_seed=seed,scale_pos_weight=1, num_leaves=63, learning_rate=0.170203379715839,min_child_samples=52,\n",
    "min_child_weight=0.006613995003545587, subsample=0.47484181362301797,colsample_bytree=0.9925491750965401,reg_alpha=6.458111463493501)\n",
    "\n",
    "final_pipeline = make_pipeline(preprocess,smoteen, model_lgbm_2)\n",
    "final_pipeline.fit(X_train, y_train)\n",
    "    # Obtain the predictions from our random forest model \n",
    "predicted = final_pipeline.predict(X_val)\n",
    "    # Predict probabilities\n",
    "probs = final_pipeline.predict_proba(X_val)\n",
    "    # Print the ROC curve, classification report and confusion matrix\n",
    "#print(roc_auc_score(y_val, probs[:,1]))\n",
    "print(classification_report(y_val, predicted))\n",
    "print(confusion_matrix(y_val, predicted))"
   ]
  },
  {
   "cell_type": "code",
   "execution_count": 257,
   "metadata": {},
   "outputs": [
    {
     "name": "stdout",
     "output_type": "stream",
     "text": [
      "              precision    recall  f1-score   support\n",
      "\n",
      "           0       0.96      0.73      0.83      1351\n",
      "           1       0.58      0.93      0.72       557\n",
      "\n",
      "    accuracy                           0.79      1908\n",
      "   macro avg       0.77      0.83      0.77      1908\n",
      "weighted avg       0.85      0.79      0.80      1908\n",
      "\n",
      "[[983 368]\n",
      " [ 39 518]]\n"
     ]
    }
   ],
   "source": [
    "test = pd.read_pickle(r\"test_enc.pkl\")\n",
    "X_test, y_test = test.drop(\"left\", axis = 1), test[\"left\"]\n",
    "\n",
    "final_pipeline = make_pipeline(preprocess,renn, model_lgbm_2)\n",
    "final_pipeline.fit(X, y)\n",
    "    # Obtain the predictions from our random forest model \n",
    "predicted = final_pipeline.predict(X_test)\n",
    "    # Predict probabilities\n",
    "probs = final_pipeline.predict_proba(X_test)\n",
    "    # Print the ROC curve, classification report and confusion matrix\n",
    "#print(roc_auc_score(y_val, probs[:,1]))\n",
    "print(classification_report(y_test, predicted))\n",
    "print(confusion_matrix(y_test, predicted))"
   ]
  },
  {
   "cell_type": "code",
   "execution_count": 256,
   "metadata": {},
   "outputs": [
    {
     "name": "stdout",
     "output_type": "stream",
     "text": [
      "              precision    recall  f1-score   support\n",
      "\n",
      "   Non-churn       0.98      0.61      0.75      1351\n",
      "       Churn       0.51      0.97      0.67       557\n",
      "\n",
      "    accuracy                           0.72      1908\n",
      "   macro avg       0.74      0.79      0.71      1908\n",
      "weighted avg       0.84      0.72      0.73      1908\n",
      "\n",
      "[[827 524]\n",
      " [ 18 539]]\n"
     ]
    }
   ],
   "source": [
    "preds = final_pipeline.predict_proba(X_test)\n",
    "\n",
    "# Create a dataframe for the probabilities of default\n",
    "preds_df = pd.DataFrame(preds[:,1], columns = [\"prob_churn\"])\n",
    "\n",
    "# Reassign loan status based on the threshold\n",
    "preds_df['churn_status'] = preds_df['prob_churn'].apply(lambda x: 1 if x > 0.24 else 0)\n",
    "\n",
    "preds_df['real_status'] = pd.DataFrame(y_val.values)\n",
    "# Print the row counts for each loan status\n",
    "num_churns = preds_df['churn_status'].value_counts()[1]\n",
    "\n",
    "# Print the classification report\n",
    "target_names = ['Non-churn', 'Churn']\n",
    "print(classification_report(y_test, preds_df['churn_status'], target_names=target_names))\n",
    "print(confusion_matrix(y_test, preds_df['churn_status']))"
   ]
  },
  {
   "cell_type": "code",
   "execution_count": 204,
   "metadata": {},
   "outputs": [
    {
     "data": {
      "text/plain": [
       "0    5405\n",
       "1    2227\n",
       "Name: left, dtype: int64"
      ]
     },
     "execution_count": 204,
     "metadata": {},
     "output_type": "execute_result"
    }
   ],
   "source": [
    "df[\"left\"].value_counts()"
   ]
  },
  {
   "cell_type": "code",
   "execution_count": 215,
   "metadata": {},
   "outputs": [
    {
     "data": {
      "text/plain": [
       "5405"
      ]
     },
     "execution_count": 215,
     "metadata": {},
     "output_type": "execute_result"
    }
   ],
   "source": [
    "df[\"left\"].value_counts()[0] "
   ]
  },
  {
   "cell_type": "code",
   "execution_count": 219,
   "metadata": {},
   "outputs": [
    {
     "data": {
      "text/plain": [
       "1.56"
      ]
     },
     "execution_count": 219,
     "metadata": {},
     "output_type": "execute_result"
    }
   ],
   "source": [
    "weights =round(np.sqrt(df[\"left\"].value_counts()[0] / df[\"left\"].value_counts()[1]),2)\n",
    "weights"
   ]
  },
  {
   "cell_type": "code",
   "execution_count": 286,
   "metadata": {},
   "outputs": [],
   "source": [
    "from sklearn.compose import make_column_transformer\n",
    "from imblearn.pipeline import make_pipeline, Pipeline\n",
    "\n",
    "\n",
    "model_lgbm_final = LGBMClassifier(random_seed=seed,scale_pos_weight=2, num_leaves=63, learning_rate=0.170203379715839,min_child_samples=52,\n",
    "min_child_weight=0.006613995003545587, subsample=0.47484181362301797,colsample_bytree=0.9925491750965401,reg_alpha=6.458111463493501 )\n",
    "\n",
    "final_pipeline = make_pipeline(preprocess,smoteen, model_lgbm_final)"
   ]
  },
  {
   "cell_type": "code",
   "execution_count": 287,
   "metadata": {},
   "outputs": [
    {
     "name": "stdout",
     "output_type": "stream",
     "text": [
      "              precision    recall  f1-score   support\n",
      "\n",
      "           0       0.96      0.67      0.79      1351\n",
      "           1       0.53      0.92      0.68       557\n",
      "\n",
      "    accuracy                           0.74      1908\n",
      "   macro avg       0.75      0.80      0.73      1908\n",
      "weighted avg       0.83      0.74      0.75      1908\n",
      "\n",
      "[[903 448]\n",
      " [ 42 515]]\n"
     ]
    }
   ],
   "source": [
    "from sklearn.metrics import classification_report, confusion_matrix, roc_auc_score\n",
    "\n",
    "final_pipeline.fit(X_train, y_train)\n",
    "    # Obtain the predictions from our random forest model \n",
    "predicted = final_pipeline.predict(X_val)\n",
    "    # Predict probabilities\n",
    "probs = final_pipeline.predict_proba(X_val)\n",
    "    # Print the ROC curve, classification report and confusion matrix\n",
    "#print(roc_auc_score(y_val, probs[:,1]))\n",
    "print(classification_report(y_val, predicted))\n",
    "print(confusion_matrix(y_val, predicted))"
   ]
  },
  {
   "cell_type": "code",
   "execution_count": 288,
   "metadata": {},
   "outputs": [
    {
     "data": {
      "text/plain": [
       "(448, 42)"
      ]
     },
     "execution_count": 288,
     "metadata": {},
     "output_type": "execute_result"
    }
   ],
   "source": [
    "conf_mat = confusion_matrix(y_val, predicted)\n",
    "tn, fp, fn, tp = conf_mat.ravel()\n",
    "(fp, fn)"
   ]
  },
  {
   "cell_type": "markdown",
   "metadata": {},
   "source": [
    "### Loss functions"
   ]
  },
  {
   "cell_type": "markdown",
   "metadata": {},
   "source": [
    "Remember that we are focusing on minimizing the false negatives, because the cost of false positives are much higher than for false positives. But\n",
    "how much? 2x?3x?\n",
    "\n",
    "FP: The manager informed that the company losses 2x the avarage salary for each churned employee. \n",
    "    - We will assume that fn costs 2x more than fp.\n",
    "FN: Investing in emplooyees that did not leave the company is not a loss.\n",
    "\n"
   ]
  },
  {
   "cell_type": "code",
   "execution_count": 63,
   "metadata": {},
   "outputs": [
    {
     "data": {
      "text/plain": [
       "True"
      ]
     },
     "execution_count": 63,
     "metadata": {},
     "output_type": "execute_result"
    }
   ],
   "source": [
    "# Get labels from the scores using the default threshold\n",
    "preds = [s[1] > 0.5 for s in probs]\n",
    "\n",
    "# Use the predict method to label the test data again\n",
    "preds_churn = predicted\n",
    "\n",
    "# Compare the two sets of predictions\n",
    "all(preds == preds_churn)"
   ]
  },
  {
   "cell_type": "markdown",
   "metadata": {},
   "source": [
    "Well done, you have confirmed that this classifier, too, uses 0.5 as a threshold"
   ]
  },
  {
   "cell_type": "code",
   "execution_count": 281,
   "metadata": {},
   "outputs": [
    {
     "name": "stdout",
     "output_type": "stream",
     "text": [
      "0.0 0.75\n"
     ]
    }
   ],
   "source": [
    "from sklearn.metrics import recall_score, f1_score\n",
    "\n",
    "# Create a range of equally spaced threshold values\n",
    "t_range = [0.0, 0.25, 0.5, 0.75, 1.0]\n",
    "\n",
    "# Store the predicted labels for each value of the threshold\n",
    "preds = [[s[1] > thr for s in probs] for thr in t_range]\n",
    "\n",
    "# Compute the accuracy for each threshold\n",
    "recall_scores = [recall_score(y_val, p) for p in preds]\n",
    "\n",
    "# Compute the F1 score for each threshold\n",
    "f1_scores = [f1_score(y_val, p) for p in preds]\n",
    "\n",
    "# Report the optimal threshold for accuracy, and for F1\n",
    "print(t_range[np.argmax(recall_scores)], t_range[np.argmax(f1_scores)])"
   ]
  },
  {
   "cell_type": "markdown",
   "metadata": {},
   "source": [
    "The choice of threshold will have an impact in the trade-offs of positive and negative errors. The simple way to handle class imbalance is to change the decision threshold.\n",
    "\n",
    "So how to do it?\n",
    "\n",
    "1. fit model on the training set\n",
    "2. predict probabilities on test set\n",
    "3. for each threshold:\n",
    "    Convert probabilities to Class Labels using the threshold\n",
    "    evaluate class labels\n",
    "    if score is better than best score\n",
    "        - use it\n",
    "4. Use the threshold \n",
    "\n"
   ]
  },
  {
   "cell_type": "markdown",
   "metadata": {},
   "source": [
    "### The precision-recall curve"
   ]
  },
  {
   "cell_type": "code",
   "execution_count": 289,
   "metadata": {},
   "outputs": [
    {
     "data": {
      "text/plain": [
       "<function matplotlib.pyplot.show(close=None, block=None)>"
      ]
     },
     "execution_count": 289,
     "metadata": {},
     "output_type": "execute_result"
    },
    {
     "data": {
      "image/png": "[encoded data removed]",
      "text/plain": [
       "<Figure size 432x288 with 1 Axes>"
      ]
     },
     "metadata": {
      "needs_background": "light"
     },
     "output_type": "display_data"
    }
   ],
   "source": [
    "from sklearn.metrics import precision_recall_curve\n",
    "# keep probabilities for positive class\n",
    "yhat =final_pipeline.predict_proba(X_val)[:,1]\n",
    "\n",
    "precision, recall, thresholds = precision_recall_curve(y_val, yhat)\n",
    "\n",
    "no_skill = len(y_val[y_val==1]) / len(y_val)\n",
    "plt.plot([0,1], [no_skill,no_skill], linestyle='--', label='No Skill')\n",
    "plt.plot(recall, precision, marker='.', label='LightGBM')\n",
    "plt.xlabel(\"Recall\")\n",
    "plt.ylabel(\"Precision\")\n",
    "plt.legend()\n",
    "plt.show"
   ]
  },
  {
   "cell_type": "code",
   "execution_count": 290,
   "metadata": {},
   "outputs": [
    {
     "name": "stdout",
     "output_type": "stream",
     "text": [
      "Best Threshold=0.294404, F-measure=0.812\n"
     ]
    }
   ],
   "source": [
    "# convert to f2-measure\n",
    "f2score = (5 * precision * recall) / (4 * precision + recall)\n",
    "ix = np.argmax(f2score)\n",
    "print('Best Threshold=%f, F-measure=%.3f' % (thresholds[ix], f2score[ix]))"
   ]
  },
  {
   "cell_type": "code",
   "execution_count": 291,
   "metadata": {},
   "outputs": [
    {
     "data": {
      "text/plain": [
       "<function matplotlib.pyplot.show(close=None, block=None)>"
      ]
     },
     "execution_count": 291,
     "metadata": {},
     "output_type": "execute_result"
    },
    {
     "data": {
      "image/png": "[encoded data removed]",
      "text/plain": [
       "<Figure size 432x288 with 1 Axes>"
      ]
     },
     "metadata": {
      "needs_background": "light"
     },
     "output_type": "display_data"
    }
   ],
   "source": [
    "no_skill = len(y_val[y_val==1]) / len(y_val)\n",
    "plt.plot([0,1], [no_skill,no_skill], linestyle='--', label='No Skill')\n",
    "plt.plot(recall, precision, marker='.', label='LightGBM')\n",
    "plt.scatter(recall[ix], precision[ix], marker=\"o\", color=\"black\", label=\"best\")\n",
    "plt.xlabel(\"Recall\")\n",
    "plt.ylabel(\"Precision\")\n",
    "plt.legend()\n",
    "plt.show"
   ]
  },
  {
   "cell_type": "code",
   "execution_count": 292,
   "metadata": {},
   "outputs": [
    {
     "name": "stdout",
     "output_type": "stream",
     "text": [
      "Threshold=0.350, F-measure=0.81200\n"
     ]
    }
   ],
   "source": [
    "def to_labels(pos_probs, threshold):\n",
    "    return (pos_probs >= threshold).astype('int')\n",
    "    \n",
    "# define thresholds\n",
    "thresholds = np.arange(0, 1, 0.001)\n",
    "\n",
    "scores = [fbeta_score(y_val, to_labels(yhat, t),beta=2) for t in thresholds]\n",
    "# get best threshold\n",
    "ix = np.argmax(scores)\n",
    "print('Threshold=%.3f, F-measure=%.5f' % (thresholds[ix], scores[ix]))"
   ]
  },
  {
   "cell_type": "markdown",
   "metadata": {},
   "source": [
    "## Results with other thresholds"
   ]
  },
  {
   "cell_type": "code",
   "execution_count": 295,
   "metadata": {},
   "outputs": [
    {
     "name": "stdout",
     "output_type": "stream",
     "text": [
      "              precision    recall  f1-score   support\n",
      "\n",
      "   Non-churn       0.97      0.61      0.75      1351\n",
      "       Churn       0.51      0.96      0.66       557\n",
      "\n",
      "    accuracy                           0.71      1908\n",
      "   macro avg       0.74      0.79      0.71      1908\n",
      "weighted avg       0.84      0.71      0.73      1908\n",
      "\n",
      "[[903 448]\n",
      " [ 42 515]]\n"
     ]
    }
   ],
   "source": [
    "preds = final_pipeline.predict_proba(X_val)\n",
    "\n",
    "# Create a dataframe for the probabilities of default\n",
    "preds_df = pd.DataFrame(preds[:,1], columns = [\"prob_churn\"])\n",
    "\n",
    "\n",
    "# Reassign loan status based on the threshold\n",
    "preds_df['churn_status'] = preds_df['prob_churn'].apply(lambda x: 1 if x > 0.35 else 0)\n",
    "\n",
    "preds_df['real_status'] = pd.DataFrame(y_val.values)\n",
    "# Print the row counts for each loan status\n",
    "num_churns = preds_df['churn_status'].value_counts()[1]\n",
    "\n",
    "# Print the classification report\n",
    "target_names = ['Non-churn', 'Churn']\n",
    "print(classification_report(y_val, preds_df['churn_status'], target_names=target_names))\n",
    "print(confusion_matrix(y_val, predicted))"
   ]
  },
  {
   "cell_type": "code",
   "execution_count": 249,
   "metadata": {},
   "outputs": [
    {
     "name": "stdout",
     "output_type": "stream",
     "text": [
      "525\n"
     ]
    }
   ],
   "source": [
    "# COST FUNCTION\n",
    "def my_scorer(y_test, y_est, cost_fp=1, cost_fn=2):\n",
    "    tn, fp, fn, tp = confusion_matrix(y_test, y_est).ravel()\n",
    "    return cost_fp*fp + cost_fn*fn\n",
    "\n",
    "clf = final_pipeline.fit(X_train, y_train)\n",
    "print(my_scorer(y_val, clf.predict(X_val)))"
   ]
  },
  {
   "cell_type": "code",
   "execution_count": 166,
   "metadata": {},
   "outputs": [
    {
     "data": {
      "image/png": "[encoded data removed]",
      "text/plain": [
       "<Figure size 432x288 with 1 Axes>"
      ]
     },
     "metadata": {
      "needs_background": "light"
     },
     "output_type": "display_data"
    }
   ],
   "source": [
    "# Create a dataframe for the probabilities of default\n",
    "preds_df_cal = preds[:,1]\n",
    "preds_df_cal\n",
    "plt.hist(preds_df_cal, color=\"blue\", bins=40)\n",
    "# Calculate the threshold with quantile\n",
    "threshold_q = np.quantile(preds_df_cal, 0.85) # acceptance rate of 85% using \n",
    "\n",
    "# Add a reference line to the plot for the threshold\n",
    "plt.axvline(x = threshold_q, color = 'red')\n",
    "plt.show()"
   ]
  },
  {
   "cell_type": "markdown",
   "metadata": {},
   "source": [
    "left side are accepted churns, right are churns rejected"
   ]
  },
  {
   "cell_type": "code",
   "execution_count": null,
   "metadata": {},
   "outputs": [],
   "source": [
    "target_names = ['Non-churn', 'Churn']\n",
    "print(classification_report(y_val, preds_df['churn_status'], target_names=target_names))"
   ]
  },
  {
   "cell_type": "code",
   "execution_count": 296,
   "metadata": {},
   "outputs": [
    {
     "name": "stdout",
     "output_type": "stream",
     "text": [
      "   prob_churn  churn_status  real_status\n",
      "0    0.997551             1            1\n",
      "1    0.026225             0            0\n",
      "2    0.993682             1            0\n",
      "3    0.997360             1            1\n",
      "4    0.011213             0            0\n",
      "0.02810304449648712\n"
     ]
    }
   ],
   "source": [
    "# Print the top 5 rows of the new data frame\n",
    "print(preds_df.head())\n",
    "\n",
    "# Create a subset of only accepted loans\n",
    "accepted_loans = preds_df[preds_df['churn_status'] == 0]\n",
    "\n",
    "# Calculate the bad rate\n",
    "print(np.sum(accepted_loans['real_status']) / accepted_loans['real_status'].count())"
   ]
  },
  {
   "cell_type": "code",
   "execution_count": 298,
   "metadata": {},
   "outputs": [
    {
     "data": {
      "application/vnd.plotly.v1+json": {
       "config": {
        "plotlyServerURL": "https://plot.ly"
       },
       "data": [
        {
         "alignmentgroup": "True",
         "bingroup": "x",
         "hovertemplate": "prob_churn=%{x}<br>count=%{y}<extra></extra>",
         "legendgroup": "",
         "marker": {
          "color": "#636efa",
          "pattern": {
           "shape": ""
          }
         },
         "name": "",
         "offsetgroup": "",
         "orientation": "v",
         "showlegend": false,
         "type": "histogram",
         "x": [
          0.997550655932421,
          0.026224675065392427,
          0.9936818334826577,
          0.9973601087867932,
          0.011213174790038916,
          0.9968750909826471,
          0.11854375463612607,
          0.05476366538018749,
          0.9774694424151745,
          0.9972768744294824,
          0.835149289797087,
          0.048725479312606484,
          0.8576207862231675,
          0.9897469450701514,
          0.31691705460071795,
          0.06426064127423947,
          0.015096819066213848,
          0.01102789829195614,
          0.8155986265259421,
          0.997393414926793,
          0.9973312226802421,
          0.9052421511436209,
          0.9192272186709426,
          0.8695099838741953,
          0.9924648023667418,
          0.042482244591873684,
          0.996001168192542,
          0.9446266775314466,
          0.9978585979553233,
          0.99283474108638,
          0.8237162958404626,
          0.687341483875852,
          0.8305637440186205,
          0.726431830716338,
          0.9806837388214587,
          0.8350246083625756,
          0.991091402233473,
          0.04168829049643103,
          0.6069158512269834,
          0.1249326389312512,
          0.9887115236046323,
          0.8644924964948053,
          0.011107386442370975,
          0.982541973851982,
          0.0126818209194254,
          0.023693349770603358,
          0.1220989996231271,
          0.06064046540902571,
          0.014718314105280147,
          0.41124846741935467,
          0.06555303402137101,
          0.9945779933119446,
          0.9720657077670307,
          0.9961881952419126,
          0.08491889569586748,
          0.485649035553123,
          0.4222230015067965,
          0.9978070442243298,
          0.9890370009083725,
          0.03255209353703233,
          0.019809354921400076,
          0.01607386732735483,
          0.6553385693587453,
          0.9608535796774879,
          0.9920946082641919,
          0.9796747163292405,
          0.5789594047879763,
          0.9215977507347756,
          0.09718553609336693,
          0.023764451951367952,
          0.026063011189005635,
          0.013083818644522242,
          0.995834506127555,
          0.15061381835113508,
          0.009865739053797671,
          0.9880159497417492,
          0.27122033299722087,
          0.024195709352225432,
          0.995463256719746,
          0.9950929014997474,
          0.055506941183906415,
          0.008798169445018808,
          0.05377105335404265,
          0.40679420944804917,
          0.7772152422843653,
          0.0703190822173364,
          0.9966352591791465,
          0.7070638666912864,
          0.995472581475437,
          0.01717205076261726,
          0.9938846611849818,
          0.6816872961032314,
          0.9961584960895753,
          0.04696642667684572,
          0.9972175187541422,
          0.015936586085327033,
          0.9930489043898686,
          0.012869317410178018,
          0.9864406509999876,
          0.013782117556133485,
          0.9849997836193075,
          0.22717222849910723,
          0.4149278226334658,
          0.9958292634959357,
          0.3471103903069327,
          0.7519026278367702,
          0.11515032379234547,
          0.9957840839474595,
          0.10742107848891526,
          0.7842236282882573,
          0.9962167340673992,
          0.01733251540323959,
          0.021752446456882072,
          0.09476130839004958,
          0.23024099864652825,
          0.09696244874287657,
          0.9799198293983595,
          0.5243514071160201,
          0.015284737266797537,
          0.01992942881493801,
          0.0781066298616969,
          0.5792320118987411,
          0.9964596127104659,
          0.011404418913779933,
          0.3581002717198036,
          0.4059522326025851,
          0.9906384839740595,
          0.4007634006786148,
          0.9933606190529174,
          0.8459154584775493,
          0.9962233239609767,
          0.9973029650637545,
          0.023458754628639434,
          0.02898978472932643,
          0.009781780583170443,
          0.006798283613456206,
          0.9921983038186386,
          0.8495801927617609,
          0.022822404554937534,
          0.7984836721498944,
          0.9969129027608341,
          0.22292410385483352,
          0.29930048787247127,
          0.010982444323423496,
          0.9729897210735189,
          0.5112256070640689,
          0.9709736751228367,
          0.95301260804318,
          0.8856544705777765,
          0.8502298518806877,
          0.7957119493062529,
          0.9809055889956148,
          0.019356364655487072,
          0.011380643546727404,
          0.997135061632364,
          0.4602613520407053,
          0.15017137245310633,
          0.9397523708079865,
          0.019557395025703857,
          0.07564048557382541,
          0.015514531204917694,
          0.9036595585308999,
          0.9966281306225242,
          0.9164191952239285,
          0.7739913832832379,
          0.012441784959211763,
          0.8501674236484246,
          0.8796303975969373,
          0.2096910370551437,
          0.03375611269531417,
          0.008902226691812157,
          0.06674605919881157,
          0.9949126581044498,
          0.6102916464089454,
          0.9938224586808232,
          0.9949473388773497,
          0.9488196455827895,
          0.3897857350739998,
          0.40543915260214697,
          0.4676459113228076,
          0.5835743586436468,
          0.6466876530943001,
          0.3265573458044639,
          0.008763545599234857,
          0.008809311051102229,
          0.9879227177994023,
          0.8090765868019401,
          0.9214713788140838,
          0.04971643997725183,
          0.9940869900092919,
          0.10174600686215221,
          0.02006625951692087,
          0.8032659335778105,
          0.9024891982054655,
          0.5493424597948329,
          0.7433616323220551,
          0.059237214589537054,
          0.9776588877569501,
          0.1291834252301991,
          0.8691629597774392,
          0.03170293004348984,
          0.8969959327426617,
          0.02254253116363568,
          0.9053734920272333,
          0.9843354406192826,
          0.11854375463612607,
          0.9770490397298887,
          0.1892875829487258,
          0.9957289395305202,
          0.9973021323529617,
          0.9964958303571575,
          0.5773490205531456,
          0.05285469675801833,
          0.009030688333944945,
          0.9898937110479809,
          0.11103550958946412,
          0.9968682432696635,
          0.0481428641813451,
          0.5730645896114562,
          0.9586779505496414,
          0.047679445438855717,
          0.6136699222782547,
          0.5274971179892812,
          0.9893351667783367,
          0.4232538754089945,
          0.17995694516503194,
          0.04596681402744385,
          0.7954832507193277,
          0.3275799863956088,
          0.9960527888684976,
          0.5924544165701895,
          0.18382528668371453,
          0.17853108618655572,
          0.7233064061830813,
          0.02971254265477463,
          0.9968330814195836,
          0.01447737890683811,
          0.11143314700766936,
          0.018674203203934116,
          0.6453688181269706,
          0.010060591204691981,
          0.022814822074657515,
          0.027108673495402212,
          0.023780765895852412,
          0.9955192981252153,
          0.2498524549728309,
          0.026737223205078375,
          0.04867333566822047,
          0.07527435738500496,
          0.9638036842635348,
          0.06202374033954801,
          0.017357321552266027,
          0.019166029326435102,
          0.9479689868658929,
          0.021924216720820355,
          0.025875615192022045,
          0.018114400633802565,
          0.023608039140928058,
          0.9951441615087228,
          0.022690479350916653,
          0.6772492396030066,
          0.9402171494970951,
          0.022000883544230156,
          0.00951312542256248,
          0.9960432267870013,
          0.07836912010981066,
          0.03739188233347059,
          0.06978154622979951,
          0.9792407852002483,
          0.04378584473961318,
          0.9972131563834152,
          0.9884225706654686,
          0.829134422522239,
          0.9633967428888892,
          0.8637002507052968,
          0.7286205121581605,
          0.013452957052872925,
          0.011174029827260516,
          0.9425556375786798,
          0.019955301122090326,
          0.93952632577409,
          0.743036252955153,
          0.9932497490461589,
          0.9928308029656139,
          0.019419206176610193,
          0.9958874262172777,
          0.9841992330132304,
          0.01939883576912182,
          0.6707741165713901,
          0.3894816376009255,
          0.018164723874235976,
          0.24903867780429662,
          0.8542586367597256,
          0.039719066720705035,
          0.008088284218262333,
          0.07512464503111434,
          0.9278035494882392,
          0.8845727762943233,
          0.9098683161603178,
          0.01713908726332316,
          0.027152027927021982,
          0.06457633910902112,
          0.01660503284089488,
          0.9928278813229079,
          0.6923873010773787,
          0.9924335762426094,
          0.9955036401536033,
          0.642699860186628,
          0.9926323463917796,
          0.9943073768491955,
          0.31213067891806745,
          0.19129914604237774,
          0.0142800917884457,
          0.9410231817790224,
          0.019894619861252096,
          0.018639381730178355,
          0.8174265018107283,
          0.992875344694607,
          0.011588306283802382,
          0.011349034963317673,
          0.011179922245109903,
          0.02380679175952381,
          0.015344882087569314,
          0.07867131844509305,
          0.023007342384739705,
          0.4880445241349028,
          0.09550853109657745,
          0.9974945887002573,
          0.9850288442221199,
          0.9612178214640706,
          0.027160194250564536,
          0.02265896142894482,
          0.1802388552947564,
          0.9927114379912014,
          0.20644079833276135,
          0.02149485950079546,
          0.9590601510176513,
          0.6067727920212119,
          0.9951866830706545,
          0.8584752317576654,
          0.014981993620233317,
          0.021350364353309215,
          0.9938424395594878,
          0.447877046215623,
          0.9955773652672103,
          0.6020947580947948,
          0.9660605718473855,
          0.867115169436954,
          0.7983844462182395,
          0.8552120034333324,
          0.9541101817047922,
          0.7610935528684046,
          0.9946440974863453,
          0.8546741569858317,
          0.2511115357547438,
          0.01968849680552126,
          0.011509421993612596,
          0.13216939500145813,
          0.7986355488983093,
          0.031985632386001654,
          0.8043140960083205,
          0.4325425268091239,
          0.2422099575085578,
          0.02215093852040158,
          0.016440683743229732,
          0.12949525154275587,
          0.9973144386537208,
          0.9611905894518532,
          0.9980696044166791,
          0.9777287590040483,
          0.02202156638008412,
          0.041137351477017976,
          0.9905236093392615,
          0.14248943141568465,
          0.04470082547022995,
          0.581336811334003,
          0.012356238396742958,
          0.11484972022909613,
          0.9805759481078298,
          0.01698304799087333,
          0.05982364853983608,
          0.019805534022209068,
          0.9705037948121811,
          0.01814586912930514,
          0.5802545690008919,
          0.00901491371580057,
          0.5121637306272082,
          0.17613577905787023,
          0.9952097622912363,
          0.9211121417439041,
          0.9969992701082067,
          0.9890651058834801,
          0.5029953272475757,
          0.022747146379718183,
          0.6959703570653538,
          0.6737913021189776,
          0.016326349748956713,
          0.0972986972644611,
          0.9973763968389143,
          0.9848489462958387,
          0.030432076886178706,
          0.03574609599643839,
          0.800775581720909,
          0.11589610671687804,
          0.9598824492792127,
          0.9943652125976087,
          0.012452049605980632,
          0.9912210978232892,
          0.017842223320087464,
          0.06308528227910885,
          0.9974891727785435,
          0.03463262571307738,
          0.9968644994203517,
          0.997382053071465,
          0.09112928000175428,
          0.276739269875497,
          0.026875253457837155,
          0.16454730109244278,
          0.9889920391133095,
          0.5559597216922529,
          0.9972802513435555,
          0.9720437781444469,
          0.9893919449286976,
          0.6649256715131935,
          0.9901397673390848,
          0.5581508937294377,
          0.9970006531131147,
          0.8741899074316541,
          0.016966920246284354,
          0.0295552129620015,
          0.025679547710526697,
          0.7250530468599814,
          0.9914417259389252,
          0.2958782651852695,
          0.28292648516419777,
          0.034193374630596,
          0.9134697159167464,
          0.02692458560573588,
          0.008424060191819653,
          0.02013633647174783,
          0.0764893336808924,
          0.9473177915355027,
          0.7770356840393772,
          0.014253660560344446,
          0.9033442802172224,
          0.1728711883174921,
          0.4346402879952863,
          0.3599999399158479,
          0.01778869742593656,
          0.3767380147542857,
          0.9679885434267916,
          0.1429335045330722,
          0.012878180480524765,
          0.044306900543503946,
          0.9802889581580054,
          0.9923981924441169,
          0.02268100557657049,
          0.013163223031906608,
          0.028953081678688895,
          0.8587059525049235,
          0.9921369104549034,
          0.996699559190846,
          0.6540443390903004,
          0.9479264112013497,
          0.47189741216988546,
          0.6914694276599439,
          0.9002421594122862,
          0.1300230985299609,
          0.9969129027608341,
          0.025084876656625118,
          0.015851873102306294,
          0.9950378860210247,
          0.02042929294702263,
          0.42568793922579556,
          0.47252248299417987,
          0.010134410808246782,
          0.7359794004830059,
          0.8204776070430483,
          0.9534971184048223,
          0.9946637702493242,
          0.9796320772380256,
          0.9361571008500411,
          0.05147997925389879,
          0.42591470550870675,
          0.3811287175759113,
          0.9951874756766996,
          0.02537650215842812,
          0.10404103222640644,
          0.014253660560344446,
          0.05080151078195854,
          0.8749432099466039,
          0.6486503937299605,
          0.6484906633979367,
          0.018243543352138642,
          0.9930074699576747,
          0.9247748680985107,
          0.42591470550870675,
          0.9117659962202235,
          0.5708695434717547,
          0.9726418946723094,
          0.5834660381906135,
          0.3343427306476693,
          0.9907532802236649,
          0.9974974769761376,
          0.9937149395706323,
          0.10370565158691934,
          0.28209795183439645,
          0.09695120575639778,
          0.022993527626400077,
          0.07763794739265192,
          0.952216176955351,
          0.013245826857769703,
          0.3361548127961355,
          0.6828182915706265,
          0.9929592628844883,
          0.5429363538422104,
          0.020708268778497303,
          0.7761490664821282,
          0.823265505932542,
          0.9961290051348115,
          0.3232044187623909,
          0.5650871715290252,
          0.195639573740516,
          0.050373787602197524,
          0.9363494801484074,
          0.029573641082089385,
          0.010159610901652074,
          0.9741118242704466,
          0.02361433815386183,
          0.03067164178688733,
          0.9402278889496825,
          0.8033395098707594,
          0.5586342796386666,
          0.9879523931868899,
          0.02520353931888197,
          0.2770122634897746,
          0.7560125265193002,
          0.9385752935496118,
          0.018803375003726145,
          0.02030860016823223,
          0.027220457385791312,
          0.9972100556027107,
          0.9827419588026239,
          0.01717054805084317,
          0.9962843156093045,
          0.01790036485122358,
          0.8262522105351279,
          0.9968757238869058,
          0.05948989055154089,
          0.07747704366348603,
          0.9954304726948541,
          0.07208006146818095,
          0.1768294967034235,
          0.03345608357922289,
          0.47596188760825126,
          0.11311933190072455,
          0.4783593891658345,
          0.7821240490579123,
          0.9378976586348557,
          0.9952321178907056,
          0.9412062059877112,
          0.06455328339358349,
          0.26894226427036344,
          0.9970478785158399,
          0.020208553668431772,
          0.008334971373515134,
          0.8406645878247836,
          0.9838859268170759,
          0.8793532736920573,
          0.9258275782442452,
          0.07937336652909877,
          0.04711744332103286,
          0.9963005880696478,
          0.11270851129467227,
          0.01631038059176837,
          0.568834263727005,
          0.9968978532070629,
          0.9653274949698252,
          0.24584971601693023,
          0.9521638489925857,
          0.7979889429418553,
          0.0804982303840488,
          0.6807694950768279,
          0.026322790797889614,
          0.8910087963287976,
          0.029196665390637703,
          0.08813952880961355,
          0.4803566225394996,
          0.942616839952056,
          0.021102137928152097,
          0.26361117427313435,
          0.9931241043154199,
          0.6277824728208813,
          0.9386195149656068,
          0.031746440825570266,
          0.9787496281645537,
          0.027432049199779002,
          0.10115774886272595,
          0.9693001909174667,
          0.1356865833170381,
          0.9099705947351469,
          0.6160572738510082,
          0.6256038723363394,
          0.8535867181106876,
          0.9963806943424628,
          0.9947225203519362,
          0.08850758200693769,
          0.9701696785755172,
          0.9427931298341511,
          0.996547318910238,
          0.810145654466003,
          0.2963948794489304,
          0.9572442817100592,
          0.9544409914615227,
          0.023541541477054912,
          0.3450490614840725,
          0.6357037436324565,
          0.9802821907239394,
          0.01571832281440113,
          0.811153519708697,
          0.9800320251263201,
          0.964415230868577,
          0.6042737195099006,
          0.5636486597436087,
          0.10143619545761129,
          0.033108280416238846,
          0.02006625951692087,
          0.9944369431276843,
          0.0739343002125877,
          0.008976927426002392,
          0.016939818371505346,
          0.9420219221062813,
          0.1882676881541407,
          0.018228303539465196,
          0.967623805462776,
          0.9453970939065749,
          0.017917431672221294,
          0.994429431344133,
          0.9940184203811914,
          0.013922306867198175,
          0.6695297698864261,
          0.9963789560278947,
          0.9776411635871848,
          0.992755588278725,
          0.9955520916242746,
          0.017888819004010847,
          0.02093250227127649,
          0.6732733623538776,
          0.9967400230333048,
          0.12478118600517568,
          0.6821142319185947,
          0.3979623090130729,
          0.029561795798671853,
          0.991471963847546,
          0.5768490809243417,
          0.9978982745471435,
          0.992442339550331,
          0.683543740639437,
          0.21310194755261558,
          0.2625649773553222,
          0.16222128707130337,
          0.9179586343709528,
          0.9963399216603285,
          0.015516826821490333,
          0.4962917278400919,
          0.5312566311857978,
          0.2570111190422124,
          0.9899776561534247,
          0.9972107596824219,
          0.011537265369525127,
          0.10084340379039222,
          0.9350653030362902,
          0.8079484346286525,
          0.9812438746385433,
          0.6972234914277186,
          0.997404351197149,
          0.4768795838199897,
          0.22797744470462034,
          0.01047006599759045,
          0.011978794832914854,
          0.9939112031859163,
          0.9944643371032394,
          0.7464909951360679,
          0.7584464178324888,
          0.9829866260664637,
          0.9137697128384333,
          0.02588263525467661,
          0.8958473332916081,
          0.8237607969003987,
          0.8295457597711619,
          0.9978922013578843,
          0.06196201330604789,
          0.996270467642517,
          0.012448341134392226,
          0.022104177028535704,
          0.0775297168341294,
          0.46842491709084794,
          0.3202716401815559,
          0.9062961026344691,
          0.9660649337943399,
          0.9660877537520823,
          0.015595226612322589,
          0.04278997009046835,
          0.019881490012438444,
          0.11343707879850932,
          0.9853692655431976,
          0.03242368429268119,
          0.9903715889965478,
          0.027432049199779002,
          0.5363814016827984,
          0.021884029243760972,
          0.10898676697450803,
          0.010192444714546953,
          0.019701338174048098,
          0.9364231498615412,
          0.023693349770603358,
          0.43779738794526585,
          0.009378809958620268,
          0.011162250192884313,
          0.9843441762546986,
          0.032662766107374654,
          0.9954734198166697,
          0.9964418613813663,
          0.997805735326543,
          0.9860209603304683,
          0.8388890826220656,
          0.7802877614028454,
          0.3095220680147807,
          0.7965198803188307,
          0.016967945118501606,
          0.7290403232080088,
          0.4445313540113594,
          0.9971495361176126,
          0.6364734233611965,
          0.06723509677305849,
          0.869752767478332,
          0.02273471657992754,
          0.9967746438521734,
          0.01290176356314628,
          0.9975077954869703,
          0.011970060905235079,
          0.0799188162964984,
          0.015724285323140835,
          0.82926963755444,
          0.01055543901453085,
          0.6817706564264541,
          0.7837229725073216,
          0.29052630647054173,
          0.06441914305391747,
          0.9412020144034853,
          0.023228993443202766,
          0.011612567584308267,
          0.022120808464417052,
          0.9475863203444205,
          0.3171753281248239,
          0.06675004643334814,
          0.016031515785101463,
          0.01567746829389149,
          0.9962988653021151,
          0.987400337552872,
          0.025515001184529186,
          0.9981161175023621,
          0.025036678472868137,
          0.8370045111265612,
          0.01758399628072703,
          0.9963219762223915,
          0.9963359331388918,
          0.9807025884815131,
          0.113390019204144,
          0.023991895516922077,
          0.9959183861264032,
          0.017164871731697444,
          0.06250548984583267,
          0.9968420521854242,
          0.18608586587398748,
          0.17501352375287862,
          0.02010874698554352,
          0.014288785356880326,
          0.006968769443349865,
          0.010187358143902082,
          0.024000107996478944,
          0.8363812876141076,
          0.5061059577987839,
          0.3908892227888909,
          0.7465288249803811,
          0.7318557649563681,
          0.581785183780881,
          0.8960638259928109,
          0.969211778903706,
          0.08945377751747997,
          0.18181681346112055,
          0.019769817997963932,
          0.06122434509511234,
          0.019928740502258672,
          0.04039735301327159,
          0.8164452543263481,
          0.7189289897349915,
          0.01594499843531904,
          0.9370607824396749,
          0.9970625351263468,
          0.025620985799006155,
          0.9464080729031478,
          0.009657197194061185,
          0.9901208277388839,
          0.0909834184715453,
          0.9977798414607887,
          0.9494589995267854,
          0.04512692931132264,
          0.013543656988427457,
          0.9947225203519362,
          0.9970921908130889,
          0.1424200200109869,
          0.9940568774604683,
          0.9971126308363208,
          0.9854817429448638,
          0.0069964558920590884,
          0.9940047028553044,
          0.8848287701760579,
          0.0606147903937122,
          0.013098240669771211,
          0.023799780319982106,
          0.09850850613195608,
          0.025905821543756785,
          0.955344570065331,
          0.0997963471790146,
          0.06563319274757907,
          0.8305296119932899,
          0.023999732861641795,
          0.14121029699730273,
          0.9972056891789439,
          0.9893606885190086,
          0.025964326719675596,
          0.1624955661663255,
          0.19423692972845966,
          0.049054536767376755,
          0.1261377854117446,
          0.6454447023188138,
          0.981451795463246,
          0.9935857970514506,
          0.7796350954621578,
          0.9957840839474595,
          0.5133354163258521,
          0.9967130639680154,
          0.8922640429791234,
          0.011436111670797524,
          0.7795307388652817,
          0.016601763631979675,
          0.02038367267662941,
          0.6874131867965663,
          0.09242194561453261,
          0.0443097121649701,
          0.9963113895542982,
          0.019748792860139894,
          0.996635885626434,
          0.976999321397427,
          0.013034855595546154,
          0.9965720313733613,
          0.504369324996759,
          0.08371878998374677,
          0.6278620236689716,
          0.19107865286366538,
          0.9041348850863038,
          0.6699869794275504,
          0.452834229499797,
          0.017163374864306028,
          0.19079596126795587,
          0.10019066377497536,
          0.2420001256135029,
          0.9875965420575364,
          0.6352771633005028,
          0.9921210339989788,
          0.015417959451299207,
          0.026907184821901183,
          0.9753434380630589,
          0.020081835649989062,
          0.11683911980853667,
          0.025222775405261574,
          0.014071984133608741,
          0.6474449745805373,
          0.0681515600575645,
          0.5746001605193365,
          0.9904612945956397,
          0.9944441976181222,
          0.9972817123284159,
          0.015908052821940428,
          0.8590166530042967,
          0.9969490255213723,
          0.9591643336872308,
          0.007881237576984989,
          0.008754272257652186,
          0.12210674106308793,
          0.8537014274701824,
          0.14961735339020757,
          0.6323478400611452,
          0.9963456744317734,
          0.761535959548401,
          0.017521127105262473,
          0.40565341443086395,
          0.40258400588560034,
          0.6795518750213518,
          0.9259909096136928,
          0.9685040511702706,
          0.022062330808575337,
          0.16599321334019976,
          0.08475549539553089,
          0.9780890703918165,
          0.882858104044851,
          0.020752233351992926,
          0.010193119831838305,
          0.008798169445018808,
          0.011178567364467857,
          0.04972106773451634,
          0.3025412339237962,
          0.02294076329562042,
          0.9897952976261551,
          0.6944009046700439,
          0.04341403937311735,
          0.362971090165033,
          0.9533830874132755,
          0.03338671052213487,
          0.9935972561819615,
          0.015318689623680319,
          0.6598497618651417,
          0.44128686978003445,
          0.008149187633460233,
          0.99732190722997,
          0.021440141643008576,
          0.3693502919056959,
          0.014433595460232889,
          0.6942743851900434,
          0.3491729152648653,
          0.9789336964684214,
          0.041703492735020775,
          0.9823638915919066,
          0.07003581080919546,
          0.014414674037628392,
          0.05330427026578377,
          0.9976788848747506,
          0.9894514212629877,
          0.8722071220182813,
          0.08191041912573177,
          0.00918281762459125,
          0.01566569766850147,
          0.009579612542744134,
          0.07542263843250782,
          0.9941561597728714,
          0.013564884265956924,
          0.5617936243286469,
          0.7237111938492182,
          0.01828109831689944,
          0.02843161803223236,
          0.13681230348794327,
          0.10541442047994476,
          0.028972175267731548,
          0.8465891346908835,
          0.9820033901618238,
          0.016342240126997986,
          0.033354720984598824,
          0.6082286581596735,
          0.8176758316424073,
          0.9829753984095297,
          0.4473669348307906,
          0.013273843108902826,
          0.9963166588988438,
          0.12045034068882844,
          0.5312663805674954,
          0.4812105587926186,
          0.01142722754961288,
          0.013990667581562652,
          0.04236871635962414,
          0.9790441643491884,
          0.9758168538854431,
          0.022954229940363093,
          0.02211613927363498,
          0.030516824877570715,
          0.8575005299395709,
          0.5980035378614258,
          0.9723807398284045,
          0.5995702208850682,
          0.037332736096265494,
          0.7153334262954768,
          0.9961095606897153,
          0.9504815346355993,
          0.17602392712258502,
          0.029856901466644215,
          0.02211181983612052,
          0.008495281516351975,
          0.01563713789672697,
          0.16545656254811786,
          0.9911916650158905,
          0.9701750348056741,
          0.9365756727514383,
          0.9941699175412038,
          0.9974140137425468,
          0.025010377407242365,
          0.9435477039807184,
          0.035704776339837485,
          0.027048542589926675,
          0.7254297614001093,
          0.018457788990285832,
          0.9799911848745149,
          0.03061861968861714,
          0.49729751262696814,
          0.9844007475865616,
          0.03176060426605107,
          0.01941153590068538,
          0.998036767499882,
          0.9934609083277789,
          0.9910873056520686,
          0.06570354602397001,
          0.9945110464262473,
          0.28578708855383267,
          0.9945163854778354,
          0.9967253484759208,
          0.7295277333525593,
          0.9959640239131687,
          0.10207079821701003,
          0.060412305311772246,
          0.2572885371362853,
          0.1241943556750616,
          0.030053377233477983,
          0.9959449129598008,
          0.0104641391003975,
          0.9960629267937923,
          0.9960479042781013,
          0.0097598576658561,
          0.5283704848593805,
          0.9907876175186796,
          0.027636335238387627,
          0.9974394046652905,
          0.018243543352138642,
          0.39318455010425063,
          0.03392412506788709,
          0.5953227354659621,
          0.6336953771712418,
          0.9973672949575506,
          0.9665921787672692,
          0.9894110896914796,
          0.5175457408217682,
          0.008053171671769875,
          0.7269554383306924,
          0.9157039858657098,
          0.9969006313351219,
          0.9179594864473397,
          0.641258988876326,
          0.4703948915538209,
          0.015983010029876323,
          0.5628214839237764,
          0.9895773461557785,
          0.058178969400967506,
          0.17046290120781887,
          0.10912859173079352,
          0.14468944114338075,
          0.809458932934754,
          0.9335230051272551,
          0.038038885077738546,
          0.03903979002931957,
          0.9516518447331043,
          0.01769428629455788,
          0.28638773430999714,
          0.20464505008957887,
          0.012663346252057853,
          0.2060774193667446,
          0.00844575521407768,
          0.11699142575752318,
          0.8407159495098033,
          0.08974710720639288,
          0.9946280401162304,
          0.0419852533485841,
          0.7950227796291941,
          0.031061821503995973,
          0.4099947954980157,
          0.9962942317517952,
          0.1039523999299602,
          0.07996435179565388,
          0.9944315518194456,
          0.008462606845539391,
          0.8244110429462373,
          0.009517396276276159,
          0.04835541267045023,
          0.5792179666064688,
          0.24689189389369953,
          0.5073002353119059,
          0.02713732096682561,
          0.6365830268480636,
          0.9842891982281627,
          0.25610015203669106,
          0.13353484865206086,
          0.627164441912986,
          0.019592931147043597,
          0.021183459916323456,
          0.9924452026820315,
          0.6713621705855131,
          0.23847902137281082,
          0.4153849469789988,
          0.027944453609093457,
          0.015186372744421884,
          0.9128592858536919,
          0.35680876206129664,
          0.8818473797664524,
          0.04177111096991073,
          0.15376721955898576,
          0.021870538820321393,
          0.9270933058328416,
          0.9752451752381782,
          0.9940910399505641,
          0.9954832652334255,
          0.982551101809207,
          0.9773198720515489,
          0.9973674106937596,
          0.9951108212587731,
          0.9757448004711831,
          0.010173997015762904,
          0.015495012028951401,
          0.17265476950690414,
          0.39573901997163535,
          0.14589822810370856,
          0.8099568323035733,
          0.018039239496609037,
          0.9938641266816293,
          0.10201558388327564,
          0.9821934432217259,
          0.9977040721446774,
          0.7360154226347233,
          0.9745511675507219,
          0.4448725020854306,
          0.9961171559884678,
          0.010113572805166622,
          0.029506953709009787,
          0.9980942380799979,
          0.03674317204953759,
          0.9389304376655224,
          0.6032676386652148,
          0.041501239017650716,
          0.9966353855548428,
          0.997723623269021,
          0.977813446550676,
          0.41717651884637774,
          0.9961365899061019,
          0.8685868115409576,
          0.9952266642073044,
          0.04331935931928692,
          0.9138641065576982,
          0.9907637430377997,
          0.8965486146745019,
          0.07298216511682873,
          0.008702856591438478,
          0.9915533277811113,
          0.14296079737587714,
          0.8727459364965894,
          0.037061246381079854,
          0.9880386711623294,
          0.3652206553023029,
          0.7814444948076554,
          0.7966078937853777,
          0.03605517981676306,
          0.020147700553610835,
          0.977151499899743,
          0.7610729617202118,
          0.9560149933744274,
          0.9879673640929328,
          0.7412739466342777,
          0.3541289596844204,
          0.4721930921300468,
          0.9976052676344881,
          0.6488197312616157,
          0.9971569448759343,
          0.13523760495804135,
          0.01886253996207888,
          0.9335380443271156,
          0.9976223967664769,
          0.6508538172505051,
          0.9526448469384,
          0.020069549809682355,
          0.2003384267631873,
          0.9840220430343577,
          0.011353236074534728,
          0.010347257907630702,
          0.23381843840583652,
          0.9936978120814468,
          0.03475737801258671,
          0.008334971373515134,
          0.03955039532889223,
          0.07402700800359771,
          0.967560797649444,
          0.7440704265963803,
          0.010990776238348422,
          0.24705915255485997,
          0.9967536374086227,
          0.9295004896370334,
          0.007242098869283637,
          0.9943756296699581,
          0.6275152005166846,
          0.9905004966014657,
          0.99283474108638,
          0.03213231538220946,
          0.9958841732383388,
          0.9972251846353531,
          0.9967172367204263,
          0.9787921490022474,
          0.32535356539111,
          0.9980861465808514,
          0.016854891860618393,
          0.012389666276847906,
          0.9911076798646902,
          0.30574351027904084,
          0.9867830797905126,
          0.010105089296013782,
          0.015689043470020946,
          0.2156197385026151,
          0.22360748151148138,
          0.45815566907418004,
          0.3728972741543695,
          0.18927124938340492,
          0.0207596919640397,
          0.9944141346040383,
          0.9949280345039059,
          0.9840845604211059,
          0.9804431322614098,
          0.006622859726432848,
          0.32630062121502684,
          0.9957534953159393,
          0.824265366125768,
          0.7108771209457807,
          0.9941615860595445,
          0.9400042658611427,
          0.9964871539574379,
          0.03713775050265396,
          0.922609184406595,
          0.011314205209230474,
          0.8531737754184121,
          0.07404904413788053,
          0.27452683742178663,
          0.01504455543309796,
          0.023330029527944347,
          0.02383542267437726,
          0.9408068795277474,
          0.9949406798504945,
          0.012754950635559125,
          0.9955337068796897,
          0.9003142966447271,
          0.08092286504848621,
          0.5106846229060744,
          0.9789414340804606,
          0.6531125556557298,
          0.9802619014346016,
          0.6248613349817324,
          0.07351598073507423,
          0.9868649715216558,
          0.08905642830708906,
          0.008308463499440972,
          0.9977126833766606,
          0.7980868874542271,
          0.11808782759748204,
          0.027707527897024985,
          0.9909811333670792,
          0.9732535550883958,
          0.02316746230553964,
          0.8788726407881248,
          0.9591871013266305,
          0.37495711802434134,
          0.0664175281091839,
          0.18579925453271678,
          0.13832194687033925,
          0.9805172861125107,
          0.9968221931882743,
          0.68624122807821,
          0.9239921651098507,
          0.4060799133487459,
          0.024338996599214926,
          0.9893245851152948,
          0.01724869396804443,
          0.9533402154835325,
          0.8871398215718176,
          0.015514233391529452,
          0.04986496472894934,
          0.9965386850668788,
          0.18873701366730813,
          0.9901270564722979,
          0.007086246759869919,
          0.011078228836068457,
          0.03134007895947395,
          0.020476187074454515,
          0.9713321106075036,
          0.01662628134080029,
          0.09031143875896158,
          0.9900966284493465,
          0.9390211030467496,
          0.02723749588063919,
          0.02800229916892034,
          0.9964924462937975,
          0.9953021978532507,
          0.9942535465574727,
          0.9837055947726562,
          0.9967776796798709,
          0.011303989738384384,
          0.9340146442592376,
          0.9934176929927578,
          0.9909388213072063,
          0.023087888692511247,
          0.02446566204394832,
          0.03939766345019866,
          0.007962802568842088,
          0.30918427527115433,
          0.9538843942959507,
          0.11635191409412907,
          0.020104435586277565,
          0.9438596433472924,
          0.016766690118524444,
          0.007556177458179856,
          0.3316969293866307,
          0.028586908101479874,
          0.7416120327539173,
          0.0779259501081634,
          0.8598122737177595,
          0.04188408599678967,
          0.422439332269741,
          0.9936053633943982,
          0.3349364790532342,
          0.9937064248822094,
          0.7212492333557384,
          0.9976539214525991,
          0.6703870776499782,
          0.025664398407878482,
          0.6903439009297585,
          0.016283021393296102,
          0.9866661193634652,
          0.9256055177910918,
          0.029586453997445715,
          0.029739783835087696,
          0.06627400070009917,
          0.2170248821904569,
          0.8648768172936702,
          0.9750248432340156,
          0.3110890603254735,
          0.016091478574652016,
          0.02382457776222542,
          0.7186692283178703,
          0.15077969119634252,
          0.010886931239786728,
          0.020449438162554148,
          0.845050547453041,
          0.01723013196557134,
          0.2307952304294651,
          0.46590507297526157,
          0.9914062707547165,
          0.7702047522769382,
          0.011265832885378227,
          0.026953542066672772,
          0.8851305616775027,
          0.9836292545587968,
          0.014073310541317285,
          0.9894807040691335,
          0.0178592474094485,
          0.05520770871351195,
          0.9976689280222711,
          0.9934360252151878,
          0.021344980990588774,
          0.8836887431566917,
          0.011354519660402098,
          0.9250147688407834,
          0.03565561606149123,
          0.09207790481781591,
          0.01566569766850147,
          0.024996882690168108,
          0.9957546308932762,
          0.9967099950857724,
          0.9191349193363741,
          0.9929170068326407,
          0.9957090176730665,
          0.8835377615846584,
          0.008979231606676855,
          0.9961470184626797,
          0.794105583408869,
          0.01710712891589023,
          0.38959299086026783,
          0.7714932527508754,
          0.017803061128325092,
          0.9969918594802206,
          0.9761312774541181,
          0.4643751487673326,
          0.045664830319343284,
          0.4129781264510294,
          0.04119534345227629,
          0.9967502133540024,
          0.8674786045173964,
          0.20188493212758107,
          0.2549411623359779,
          0.11189842052632423,
          0.9900281686435829,
          0.009770390336457116,
          0.0902639045098214,
          0.13176559718781936,
          0.15096743261350568,
          0.023864723916044325,
          0.3978472171870528,
          0.01976045814693917,
          0.047880051963043006,
          0.46615993294497793,
          0.00728424518520412,
          0.9813485841045759,
          0.9975579980230108,
          0.6228423005128204,
          0.713882141070983,
          0.011380643546727404,
          0.9962132884642287,
          0.971760491844601,
          0.25657059538897886,
          0.9967966416171865,
          0.013460084523296691,
          0.6776276427562826,
          0.38745421844467126,
          0.9963794381827363,
          0.013911731985286332,
          0.9777600514162349,
          0.9977271816848668,
          0.9973122322481819,
          0.016778026142673954,
          0.9970290342866388,
          0.14042205582318182,
          0.9876601705090413,
          0.018441302960005557,
          0.7431860691220421,
          0.8508075616373708,
          0.9694899456361866,
          0.9973702162064613,
          0.9981973099339517,
          0.022952577782144365,
          0.899129682196725,
          0.4113078725370559,
          0.9945263480921994,
          0.0330944570083956,
          0.016647636145832295,
          0.29032153894470175,
          0.4390131813757349,
          0.49792552244553284,
          0.9655354403905482,
          0.06322012122962976,
          0.9974911067567613,
          0.8797199187320421,
          0.9916497630033494,
          0.730976090679432,
          0.06690540725973466,
          0.09316454227450173,
          0.8578998139612907,
          0.5710884106308919,
          0.7620942669059199,
          0.42184563763679256,
          0.9560068915982809,
          0.9957664420028562,
          0.9652966819424609,
          0.9963034962649506,
          0.9948137828788597,
          0.058587846519082304,
          0.8667425534954073,
          0.07361122911448581,
          0.01748546202722448,
          0.013972640360644589,
          0.9066640336564078,
          0.9936541666774178,
          0.024305577914050264,
          0.9316678789627001,
          0.01470297811056029,
          0.01664128580060894,
          0.023676790357878095,
          0.653924946404586,
          0.8336078345597794,
          0.6167900331439005,
          0.011319591241570514,
          0.8028604915011257,
          0.9921904720145523,
          0.033587364184569674,
          0.033742385446933844,
          0.9948321191636277,
          0.26787687425578954,
          0.05396757560597722,
          0.45594265948498136,
          0.036256376304580326,
          0.07313226489174686,
          0.06677021300422922,
          0.01304079663799451,
          0.2294567778157672,
          0.036411683916047016,
          0.028339019151423242,
          0.9966947524187445,
          0.4449051337604018,
          0.009841920167686112,
          0.9972099383527037,
          0.7671525121849528,
          0.8532281692073665,
          0.9976820365783514,
          0.569801643432014,
          0.7063557580416564,
          0.9772043480235134,
          0.9869418347752009,
          0.016968145349732223,
          0.19353714057612875,
          0.035289543498962996,
          0.009993744129294957,
          0.9191554198708075,
          0.1127171228741095,
          0.7587860297052883,
          0.9931186118562164,
          0.9966117709273172,
          0.041317020615208984,
          0.15145427601421013,
          0.9765072392958286,
          0.010991483051446194,
          0.9950140078064442,
          0.021455259175053094,
          0.9790951245103401,
          0.020116802673493486,
          0.9564889062537706,
          0.9850916259640338,
          0.9932169077723991,
          0.06987645191197053,
          0.9829412055868061,
          0.974990857023827,
          0.032885635820982466,
          0.8986627367527346,
          0.9926061460811636,
          0.9924419195612653,
          0.016988631809724146,
          0.07757675748450847,
          0.8847147112615007,
          0.45103153520205297,
          0.9948750255799873,
          0.01344199182430937,
          0.04275538761201173,
          0.010886931239786728,
          0.032815532390554465,
          0.008039451216593585,
          0.9848790780828482,
          0.9950929602399566,
          0.07165328338624334,
          0.9968559297772552,
          0.9931130741666999,
          0.008382466013451845,
          0.9249580248104369,
          0.9955587728277666,
          0.7268407014694531,
          0.690451057605055,
          0.2943636384004831,
          0.9887334032373811,
          0.4627943102818625,
          0.010236317806029628,
          0.3845669598967234,
          0.9581457119193894,
          0.1967409149004623,
          0.9893930507635598,
          0.9845586210913194,
          0.3259371493839932,
          0.9954372852235415,
          0.2832599262756716,
          0.036695824095619986,
          0.32096630870201776,
          0.3390012261485499,
          0.7668926841168217,
          0.018812058648640197,
          0.9966269626284727,
          0.1719306418484177,
          0.4771192275326076,
          0.01448328484763811,
          0.9431147253851555,
          0.9938730131472413,
          0.031985632386001654,
          0.023189484380458692,
          0.010563612162053412,
          0.5830921690865933,
          0.47470678264569593,
          0.9522190142348711,
          0.01746764699446782,
          0.026190349234210486,
          0.9938877820226031,
          0.29440417894270654,
          0.9561227593452407,
          0.8712374165161028,
          0.018155407214262072,
          0.856633185012164,
          0.9926212421854494,
          0.9926127234428049,
          0.029256273132512535,
          0.9952557610213131,
          0.8157402761813587,
          0.8164236576493059,
          0.9670311805290801,
          0.02517524178574334,
          0.020488802932647224,
          0.7010959569441715,
          0.1409328438140866,
          0.883250877788701,
          0.08313177795562258,
          0.020994756876902124,
          0.9273339796280574,
          0.991330552481452,
          0.989657543093372,
          0.9884147228264324,
          0.9958206626911845,
          0.9946160614676464,
          0.9978070442243298,
          0.027018079539712483,
          0.8324357306385625,
          0.013905560415446022,
          0.9278919324058712,
          0.037904547499779624,
          0.9911749396812818,
          0.548007115092729,
          0.9907053314032525,
          0.9305362919780008,
          0.0527924199443169,
          0.9949388579440563,
          0.8739509761871606,
          0.009929711307476339,
          0.8071544779796286,
          0.22717000950369173,
          0.9978390603527393,
          0.5063010165695878,
          0.05914176943440672,
          0.11808932979337913,
          0.8771402239514248,
          0.9889503951367351,
          0.9963590183486986,
          0.9878842413292299,
          0.05123974467974741,
          0.08614716823679382,
          0.02067491421645446,
          0.4538160663000167,
          0.021389504008409534,
          0.8329663112389788,
          0.9767535888383142,
          0.06630101850126967,
          0.009874307880390816,
          0.9341426186383666,
          0.14492900615563645,
          0.9968540968805103,
          0.01114233937261437,
          0.5751085905667638,
          0.018930202094871517,
          0.9298753180130714,
          0.05416463980517766,
          0.01545308090335644,
          0.015023543913220345,
          0.9962613377956647,
          0.9958942287290193,
          0.03622139948474986,
          0.025829153695226488,
          0.994611214430108,
          0.022369805623684513,
          0.6941195049730865,
          0.5195321594802692,
          0.9976890165818879,
          0.22348302107196386,
          0.9942308035743764,
          0.9961852499957853,
          0.9953850838317694,
          0.9932530096570571,
          0.8153559105529916,
          0.986547004768933,
          0.023994237505521106,
          0.022883714179709948,
          0.9923118854834445,
          0.025138570863979817,
          0.992072255805558,
          0.011950594898102289,
          0.9966784166390917,
          0.9959828558561313,
          0.9910916989350097,
          0.9971431860247426,
          0.018599957716456426,
          0.619673152236683,
          0.02342677795241041,
          0.010890011755132312,
          0.8220857056594693,
          0.8220171342698473,
          0.8077642413690217,
          0.29592396319477615,
          0.03705606588438812,
          0.9977970751411169,
          0.033954201204662124,
          0.644602543728075,
          0.021130931046453437,
          0.24589826193815198,
          0.9933050137516061,
          0.8964425013022841,
          0.04271762099724525,
          0.8930911355018049,
          0.012754950635559125,
          0.017018642238282002,
          0.02544075661680742,
          0.9030281534885755,
          0.9237541699240469,
          0.9978079504944918,
          0.041137351477017976,
          0.013242213339216345,
          0.946983810528769,
          0.9612788846457955,
          0.06414383794576267,
          0.09335614904764905,
          0.9945744020626331,
          0.9603830688463281,
          0.01325867964681207,
          0.9972322628330034,
          0.10333326658201387,
          0.019630969235188617,
          0.9107148094312395,
          0.9135202076210096,
          0.01398431593628147,
          0.9860700713112173,
          0.5630349970216088,
          0.03825090911002139,
          0.034358431670871194,
          0.03108734018683405,
          0.870057825322528,
          0.6647169944308291,
          0.1264671588209731,
          0.09316454227450173,
          0.012744028516002582,
          0.006874608762672441,
          0.03227768045825634,
          0.8597770937915579,
          0.9921432122279416,
          0.7376600490579432,
          0.7584386179737586,
          0.01735283123012301,
          0.9963113895542982,
          0.008178071211265599,
          0.3043835265476414,
          0.9879958503296377,
          0.018152704484276635,
          0.9968458645757019,
          0.9950128432435476,
          0.013955694952759102,
          0.9965688946445641,
          0.014895243826608257,
          0.993561635747565,
          0.2060477239633789,
          0.21992794841755267,
          0.98051981404167,
          0.013679943548482006,
          0.9935196179421664,
          0.7825976726937416,
          0.4887294821860484,
          0.01690580215179864,
          0.9954889893069727,
          0.7952584114702554,
          0.4222978626783907,
          0.1280822244012421,
          0.051125466939251525,
          0.7132452430903011,
          0.989950525252101,
          0.03221164500565257,
          0.0950840451990924,
          0.22903448602858587,
          0.008976927426002392,
          0.011253849169112448,
          0.008220632967612931,
          0.9802780707664964,
          0.015047178355852833,
          0.019137591299591767,
          0.14075321889104606,
          0.00806460917572798,
          0.9567281443390561,
          0.9910926720264865,
          0.06993780110893422,
          0.9594124607743413,
          0.04214206724067817,
          0.017475060973085488,
          0.9169402453164447,
          0.8202818583113433,
          0.9949740572041237,
          0.925586710195363,
          0.12390794373285839,
          0.5946221649521968,
          0.03396573314847792,
          0.10784006627339175,
          0.025240987373446933,
          0.022123525529821806,
          0.008282901999582986,
          0.5425729417022827,
          0.14173814056560374,
          0.027278909295246956,
          0.9975103514630751,
          0.9873883174664306,
          0.012422904337200025,
          0.499517739869793,
          0.019382325336149885,
          0.947362196534544,
          0.8425181937235077,
          0.022978898943880458,
          0.8399434954570205,
          0.5637880333175911,
          0.0241484839059513,
          0.5445776886222116,
          0.9972185853164831,
          0.9910690460046392,
          0.008559223107853686,
          0.016139911236455258,
          0.024195709352225432,
          0.02342677795241041,
          0.47742996366210744,
          0.49968500251068526,
          0.5863391393913875,
          0.6150203213159441,
          0.7178977195649235,
          0.7539191168585161,
          0.993110501215039,
          0.024135135691768103,
          0.9867713687774113,
          0.9944149007406143,
          0.025753767523946362,
          0.73074639280925,
          0.009463229255168421,
          0.5290617486920498,
          0.46766029273315934,
          0.6222077371286043,
          0.9975059172336462,
          0.8377424232482453,
          0.9981006325665809,
          0.8087118279937672,
          0.01450653531918017,
          0.7986713983881679,
          0.1984497239602142,
          0.017577895744373094,
          0.8364204051993785,
          0.9778895840390432,
          0.0077334082001074625,
          0.8366338855720258,
          0.9510043004993839,
          0.017302724117541354,
          0.40623110125068773,
          0.9813778268778393,
          0.9959640239131687,
          0.02099291757657427,
          0.04213261200708695,
          0.9947783744746612,
          0.025161278493839926,
          0.012219294100741684,
          0.9598571826375493,
          0.09929041932966752,
          0.9975238471611343,
          0.08039114953538778,
          0.21090356276563044,
          0.9700451912873881,
          0.036260913380056284,
          0.9973012484777787,
          0.021582821103151965,
          0.997229312330006,
          0.025451831611748375,
          0.9972712109905327,
          0.40677022387261175,
          0.013709406250747864,
          0.8899657267187447,
          0.053978688248603,
          0.991321097184691,
          0.8519720147504508,
          0.02257800370309732,
          0.770947439911552,
          0.09160808053479087,
          0.9670357807925539,
          0.039547989213512526,
          0.9955621367923568,
          0.6116233072816535,
          0.991215638548972,
          0.9933624356692238,
          0.031118383956342293,
          0.8377837732146963,
          0.6863624751367671,
          0.4989399978705592,
          0.6890503746896441,
          0.053727605574059464,
          0.7895468242551946,
          0.8727060104905918,
          0.7158318573083046,
          0.011435398270801703,
          0.25264578471245447,
          0.9644627211645954,
          0.8150606563938535,
          0.7072840133156095,
          0.12290981778242771,
          0.9977172781319048,
          0.052967012467223566,
          0.9925295142401234,
          0.03867962986224696,
          0.3913915255721007,
          0.009964498440533445,
          0.9305709990215149,
          0.9935394513281206,
          0.0362841868914434,
          0.9962800769064517,
          0.9929137878554176,
          0.0122714455080577,
          0.1204751847954418,
          0.09442462105309994,
          0.9965921964317188,
          0.03966097235610854,
          0.9448993112165621,
          0.4683233845653894,
          0.9939736262471697,
          0.9958223811084018,
          0.9933563592324595,
          0.008725569095545758,
          0.8468251775553506,
          0.036223315033703234,
          0.012172841157603984,
          0.01557303159745953,
          0.9944175618075396,
          0.8097589412090896,
          0.06079941456259365
         ],
         "xaxis": "x",
         "yaxis": "y"
        }
       ],
       "layout": {
        "barmode": "relative",
        "legend": {
         "tracegroupgap": 0
        },
        "margin": {
         "t": 60
        },
        "template": {
         "data": {
          "bar": [
           {
            "error_x": {
             "color": "#2a3f5f"
            },
            "error_y": {
             "color": "#2a3f5f"
            },
            "marker": {
             "line": {
              "color": "#E5ECF6",
              "width": 0.5
             },
             "pattern": {
              "fillmode": "overlay",
              "size": 10,
              "solidity": 0.2
             }
            },
            "type": "bar"
           }
          ],
          "barpolar": [
           {
            "marker": {
             "line": {
              "color": "#E5ECF6",
              "width": 0.5
             },
             "pattern": {
              "fillmode": "overlay",
              "size": 10,
              "solidity": 0.2
             }
            },
            "type": "barpolar"
           }
          ],
          "carpet": [
           {
            "aaxis": {
             "endlinecolor": "#2a3f5f",
             "gridcolor": "white",
             "linecolor": "white",
             "minorgridcolor": "white",
             "startlinecolor": "#2a3f5f"
            },
            "baxis": {
             "endlinecolor": "#2a3f5f",
             "gridcolor": "white",
             "linecolor": "white",
             "minorgridcolor": "white",
             "startlinecolor": "#2a3f5f"
            },
            "type": "carpet"
           }
          ],
          "choropleth": [
           {
            "colorbar": {
             "outlinewidth": 0,
             "ticks": ""
            },
            "type": "choropleth"
           }
          ],
          "contour": [
           {
            "colorbar": {
             "outlinewidth": 0,
             "ticks": ""
            },
            "colorscale": [
             [
              0,
              "#0d0887"
             ],
             [
              0.1111111111111111,
              "#46039f"
             ],
             [
              0.2222222222222222,
              "#7201a8"
             ],
             [
              0.3333333333333333,
              "#9c179e"
             ],
             [
              0.4444444444444444,
              "#bd3786"
             ],
             [
              0.5555555555555556,
              "#d8576b"
             ],
             [
              0.6666666666666666,
              "#ed7953"
             ],
             [
              0.7777777777777778,
              "#fb9f3a"
             ],
             [
              0.8888888888888888,
              "#fdca26"
             ],
             [
              1,
              "#f0f921"
             ]
            ],
            "type": "contour"
           }
          ],
          "contourcarpet": [
           {
            "colorbar": {
             "outlinewidth": 0,
             "ticks": ""
            },
            "type": "contourcarpet"
           }
          ],
          "heatmap": [
           {
            "colorbar": {
             "outlinewidth": 0,
             "ticks": ""
            },
            "colorscale": [
             [
              0,
              "#0d0887"
             ],
             [
              0.1111111111111111,
              "#46039f"
             ],
             [
              0.2222222222222222,
              "#7201a8"
             ],
             [
              0.3333333333333333,
              "#9c179e"
             ],
             [
              0.4444444444444444,
              "#bd3786"
             ],
             [
              0.5555555555555556,
              "#d8576b"
             ],
             [
              0.6666666666666666,
              "#ed7953"
             ],
             [
              0.7777777777777778,
              "#fb9f3a"
             ],
             [
              0.8888888888888888,
              "#fdca26"
             ],
             [
              1,
              "#f0f921"
             ]
            ],
            "type": "heatmap"
           }
          ],
          "heatmapgl": [
           {
            "colorbar": {
             "outlinewidth": 0,
             "ticks": ""
            },
            "colorscale": [
             [
              0,
              "#0d0887"
             ],
             [
              0.1111111111111111,
              "#46039f"
             ],
             [
              0.2222222222222222,
              "#7201a8"
             ],
             [
              0.3333333333333333,
              "#9c179e"
             ],
             [
              0.4444444444444444,
              "#bd3786"
             ],
             [
              0.5555555555555556,
              "#d8576b"
             ],
             [
              0.6666666666666666,
              "#ed7953"
             ],
             [
              0.7777777777777778,
              "#fb9f3a"
             ],
             [
              0.8888888888888888,
              "#fdca26"
             ],
             [
              1,
              "#f0f921"
             ]
            ],
            "type": "heatmapgl"
           }
          ],
          "histogram": [
           {
            "marker": {
             "pattern": {
              "fillmode": "overlay",
              "size": 10,
              "solidity": 0.2
             }
            },
            "type": "histogram"
           }
          ],
          "histogram2d": [
           {
            "colorbar": {
             "outlinewidth": 0,
             "ticks": ""
            },
            "colorscale": [
             [
              0,
              "#0d0887"
             ],
             [
              0.1111111111111111,
              "#46039f"
             ],
             [
              0.2222222222222222,
              "#7201a8"
             ],
             [
              0.3333333333333333,
              "#9c179e"
             ],
             [
              0.4444444444444444,
              "#bd3786"
             ],
             [
              0.5555555555555556,
              "#d8576b"
             ],
             [
              0.6666666666666666,
              "#ed7953"
             ],
             [
              0.7777777777777778,
              "#fb9f3a"
             ],
             [
              0.8888888888888888,
              "#fdca26"
             ],
             [
              1,
              "#f0f921"
             ]
            ],
            "type": "histogram2d"
           }
          ],
          "histogram2dcontour": [
           {
            "colorbar": {
             "outlinewidth": 0,
             "ticks": ""
            },
            "colorscale": [
             [
              0,
              "#0d0887"
             ],
             [
              0.1111111111111111,
              "#46039f"
             ],
             [
              0.2222222222222222,
              "#7201a8"
             ],
             [
              0.3333333333333333,
              "#9c179e"
             ],
             [
              0.4444444444444444,
              "#bd3786"
             ],
             [
              0.5555555555555556,
              "#d8576b"
             ],
             [
              0.6666666666666666,
              "#ed7953"
             ],
             [
              0.7777777777777778,
              "#fb9f3a"
             ],
             [
              0.8888888888888888,
              "#fdca26"
             ],
             [
              1,
              "#f0f921"
             ]
            ],
            "type": "histogram2dcontour"
           }
          ],
          "mesh3d": [
           {
            "colorbar": {
             "outlinewidth": 0,
             "ticks": ""
            },
            "type": "mesh3d"
           }
          ],
          "parcoords": [
           {
            "line": {
             "colorbar": {
              "outlinewidth": 0,
              "ticks": ""
             }
            },
            "type": "parcoords"
           }
          ],
          "pie": [
           {
            "automargin": true,
            "type": "pie"
           }
          ],
          "scatter": [
           {
            "marker": {
             "colorbar": {
              "outlinewidth": 0,
              "ticks": ""
             }
            },
            "type": "scatter"
           }
          ],
          "scatter3d": [
           {
            "line": {
             "colorbar": {
              "outlinewidth": 0,
              "ticks": ""
             }
            },
            "marker": {
             "colorbar": {
              "outlinewidth": 0,
              "ticks": ""
             }
            },
            "type": "scatter3d"
           }
          ],
          "scattercarpet": [
           {
            "marker": {
             "colorbar": {
              "outlinewidth": 0,
              "ticks": ""
             }
            },
            "type": "scattercarpet"
           }
          ],
          "scattergeo": [
           {
            "marker": {
             "colorbar": {
              "outlinewidth": 0,
              "ticks": ""
             }
            },
            "type": "scattergeo"
           }
          ],
          "scattergl": [
           {
            "marker": {
             "colorbar": {
              "outlinewidth": 0,
              "ticks": ""
             }
            },
            "type": "scattergl"
           }
          ],
          "scattermapbox": [
           {
            "marker": {
             "colorbar": {
              "outlinewidth": 0,
              "ticks": ""
             }
            },
            "type": "scattermapbox"
           }
          ],
          "scatterpolar": [
           {
            "marker": {
             "colorbar": {
              "outlinewidth": 0,
              "ticks": ""
             }
            },
            "type": "scatterpolar"
           }
          ],
          "scatterpolargl": [
           {
            "marker": {
             "colorbar": {
              "outlinewidth": 0,
              "ticks": ""
             }
            },
            "type": "scatterpolargl"
           }
          ],
          "scatterternary": [
           {
            "marker": {
             "colorbar": {
              "outlinewidth": 0,
              "ticks": ""
             }
            },
            "type": "scatterternary"
           }
          ],
          "surface": [
           {
            "colorbar": {
             "outlinewidth": 0,
             "ticks": ""
            },
            "colorscale": [
             [
              0,
              "#0d0887"
             ],
             [
              0.1111111111111111,
              "#46039f"
             ],
             [
              0.2222222222222222,
              "#7201a8"
             ],
             [
              0.3333333333333333,
              "#9c179e"
             ],
             [
              0.4444444444444444,
              "#bd3786"
             ],
             [
              0.5555555555555556,
              "#d8576b"
             ],
             [
              0.6666666666666666,
              "#ed7953"
             ],
             [
              0.7777777777777778,
              "#fb9f3a"
             ],
             [
              0.8888888888888888,
              "#fdca26"
             ],
             [
              1,
              "#f0f921"
             ]
            ],
            "type": "surface"
           }
          ],
          "table": [
           {
            "cells": {
             "fill": {
              "color": "#EBF0F8"
             },
             "line": {
              "color": "white"
             }
            },
            "header": {
             "fill": {
              "color": "#C8D4E3"
             },
             "line": {
              "color": "white"
             }
            },
            "type": "table"
           }
          ]
         },
         "layout": {
          "annotationdefaults": {
           "arrowcolor": "#2a3f5f",
           "arrowhead": 0,
           "arrowwidth": 1
          },
          "autotypenumbers": "strict",
          "coloraxis": {
           "colorbar": {
            "outlinewidth": 0,
            "ticks": ""
           }
          },
          "colorscale": {
           "diverging": [
            [
             0,
             "#8e0152"
            ],
            [
             0.1,
             "#c51b7d"
            ],
            [
             0.2,
             "#de77ae"
            ],
            [
             0.3,
             "#f1b6da"
            ],
            [
             0.4,
             "#fde0ef"
            ],
            [
             0.5,
             "#f7f7f7"
            ],
            [
             0.6,
             "#e6f5d0"
            ],
            [
             0.7,
             "#b8e186"
            ],
            [
             0.8,
             "#7fbc41"
            ],
            [
             0.9,
             "#4d9221"
            ],
            [
             1,
             "#276419"
            ]
           ],
           "sequential": [
            [
             0,
             "#0d0887"
            ],
            [
             0.1111111111111111,
             "#46039f"
            ],
            [
             0.2222222222222222,
             "#7201a8"
            ],
            [
             0.3333333333333333,
             "#9c179e"
            ],
            [
             0.4444444444444444,
             "#bd3786"
            ],
            [
             0.5555555555555556,
             "#d8576b"
            ],
            [
             0.6666666666666666,
             "#ed7953"
            ],
            [
             0.7777777777777778,
             "#fb9f3a"
            ],
            [
             0.8888888888888888,
             "#fdca26"
            ],
            [
             1,
             "#f0f921"
            ]
           ],
           "sequentialminus": [
            [
             0,
             "#0d0887"
            ],
            [
             0.1111111111111111,
             "#46039f"
            ],
            [
             0.2222222222222222,
             "#7201a8"
            ],
            [
             0.3333333333333333,
             "#9c179e"
            ],
            [
             0.4444444444444444,
             "#bd3786"
            ],
            [
             0.5555555555555556,
             "#d8576b"
            ],
            [
             0.6666666666666666,
             "#ed7953"
            ],
            [
             0.7777777777777778,
             "#fb9f3a"
            ],
            [
             0.8888888888888888,
             "#fdca26"
            ],
            [
             1,
             "#f0f921"
            ]
           ]
          },
          "colorway": [
           "#636efa",
           "#EF553B",
           "#00cc96",
           "#ab63fa",
           "#FFA15A",
           "#19d3f3",
           "#FF6692",
           "#B6E880",
           "#FF97FF",
           "#FECB52"
          ],
          "font": {
           "color": "#2a3f5f"
          },
          "geo": {
           "bgcolor": "white",
           "lakecolor": "white",
           "landcolor": "#E5ECF6",
           "showlakes": true,
           "showland": true,
           "subunitcolor": "white"
          },
          "hoverlabel": {
           "align": "left"
          },
          "hovermode": "closest",
          "mapbox": {
           "style": "light"
          },
          "paper_bgcolor": "white",
          "plot_bgcolor": "#E5ECF6",
          "polar": {
           "angularaxis": {
            "gridcolor": "white",
            "linecolor": "white",
            "ticks": ""
           },
           "bgcolor": "#E5ECF6",
           "radialaxis": {
            "gridcolor": "white",
            "linecolor": "white",
            "ticks": ""
           }
          },
          "scene": {
           "xaxis": {
            "backgroundcolor": "#E5ECF6",
            "gridcolor": "white",
            "gridwidth": 2,
            "linecolor": "white",
            "showbackground": true,
            "ticks": "",
            "zerolinecolor": "white"
           },
           "yaxis": {
            "backgroundcolor": "#E5ECF6",
            "gridcolor": "white",
            "gridwidth": 2,
            "linecolor": "white",
            "showbackground": true,
            "ticks": "",
            "zerolinecolor": "white"
           },
           "zaxis": {
            "backgroundcolor": "#E5ECF6",
            "gridcolor": "white",
            "gridwidth": 2,
            "linecolor": "white",
            "showbackground": true,
            "ticks": "",
            "zerolinecolor": "white"
           }
          },
          "shapedefaults": {
           "line": {
            "color": "#2a3f5f"
           }
          },
          "ternary": {
           "aaxis": {
            "gridcolor": "white",
            "linecolor": "white",
            "ticks": ""
           },
           "baxis": {
            "gridcolor": "white",
            "linecolor": "white",
            "ticks": ""
           },
           "bgcolor": "#E5ECF6",
           "caxis": {
            "gridcolor": "white",
            "linecolor": "white",
            "ticks": ""
           }
          },
          "title": {
           "x": 0.05
          },
          "xaxis": {
           "automargin": true,
           "gridcolor": "white",
           "linecolor": "white",
           "ticks": "",
           "title": {
            "standoff": 15
           },
           "zerolinecolor": "white",
           "zerolinewidth": 2
          },
          "yaxis": {
           "automargin": true,
           "gridcolor": "white",
           "linecolor": "white",
           "ticks": "",
           "title": {
            "standoff": 15
           },
           "zerolinecolor": "white",
           "zerolinewidth": 2
          }
         }
        },
        "xaxis": {
         "anchor": "y",
         "domain": [
          0,
          1
         ],
         "title": {
          "text": "prob_churn"
         }
        },
        "yaxis": {
         "anchor": "x",
         "domain": [
          0,
          1
         ],
         "title": {
          "text": "count"
         }
        }
       }
      }
     },
     "metadata": {},
     "output_type": "display_data"
    }
   ],
   "source": [
    "import plotly.express as px\n",
    "fig = px.histogram(preds_df, x=\"prob_churn\")\n",
    "fig.show()"
   ]
  },
  {
   "cell_type": "code",
   "execution_count": 299,
   "metadata": {},
   "outputs": [
    {
     "data": {
      "text/plain": [
       "0.9930050596040154"
      ]
     },
     "execution_count": 299,
     "metadata": {},
     "output_type": "execute_result"
    }
   ],
   "source": [
    "threshold_q = np.quantile(preds_df.prob_churn, 0.85)\n",
    "threshold_q"
   ]
  },
  {
   "cell_type": "code",
   "execution_count": 148,
   "metadata": {},
   "outputs": [
    {
     "data": {
      "text/html": [
       "<div>\n",
       "<style scoped>\n",
       "    .dataframe tbody tr th:only-of-type {\n",
       "        vertical-align: middle;\n",
       "    }\n",
       "\n",
       "    .dataframe tbody tr th {\n",
       "        vertical-align: top;\n",
       "    }\n",
       "\n",
       "    .dataframe thead th {\n",
       "        text-align: right;\n",
       "    }\n",
       "</style>\n",
       "<table border=\"1\" class=\"dataframe\">\n",
       "  <thead>\n",
       "    <tr style=\"text-align: right;\">\n",
       "      <th></th>\n",
       "      <th>prob_churn</th>\n",
       "      <th>churn_status</th>\n",
       "    </tr>\n",
       "  </thead>\n",
       "  <tbody>\n",
       "    <tr>\n",
       "      <th>0</th>\n",
       "      <td>0.975084</td>\n",
       "      <td>1</td>\n",
       "    </tr>\n",
       "    <tr>\n",
       "      <th>1</th>\n",
       "      <td>0.007028</td>\n",
       "      <td>0</td>\n",
       "    </tr>\n",
       "    <tr>\n",
       "      <th>2</th>\n",
       "      <td>0.954381</td>\n",
       "      <td>1</td>\n",
       "    </tr>\n",
       "    <tr>\n",
       "      <th>3</th>\n",
       "      <td>0.984179</td>\n",
       "      <td>1</td>\n",
       "    </tr>\n",
       "    <tr>\n",
       "      <th>4</th>\n",
       "      <td>0.006276</td>\n",
       "      <td>0</td>\n",
       "    </tr>\n",
       "    <tr>\n",
       "      <th>...</th>\n",
       "      <td>...</td>\n",
       "      <td>...</td>\n",
       "    </tr>\n",
       "    <tr>\n",
       "      <th>1903</th>\n",
       "      <td>0.007506</td>\n",
       "      <td>0</td>\n",
       "    </tr>\n",
       "    <tr>\n",
       "      <th>1904</th>\n",
       "      <td>0.016795</td>\n",
       "      <td>0</td>\n",
       "    </tr>\n",
       "    <tr>\n",
       "      <th>1905</th>\n",
       "      <td>0.619813</td>\n",
       "      <td>1</td>\n",
       "    </tr>\n",
       "    <tr>\n",
       "      <th>1906</th>\n",
       "      <td>0.128582</td>\n",
       "      <td>0</td>\n",
       "    </tr>\n",
       "    <tr>\n",
       "      <th>1907</th>\n",
       "      <td>0.024606</td>\n",
       "      <td>0</td>\n",
       "    </tr>\n",
       "  </tbody>\n",
       "</table>\n",
       "<p>1908 rows × 2 columns</p>\n",
       "</div>"
      ],
      "text/plain": [
       "      prob_churn  churn_status\n",
       "0       0.975084             1\n",
       "1       0.007028             0\n",
       "2       0.954381             1\n",
       "3       0.984179             1\n",
       "4       0.006276             0\n",
       "...          ...           ...\n",
       "1903    0.007506             0\n",
       "1904    0.016795             0\n",
       "1905    0.619813             1\n",
       "1906    0.128582             0\n",
       "1907    0.024606             0\n",
       "\n",
       "[1908 rows x 2 columns]"
      ]
     },
     "execution_count": 148,
     "metadata": {},
     "output_type": "execute_result"
    }
   ],
   "source": [
    "preds_df"
   ]
  },
  {
   "cell_type": "code",
   "execution_count": null,
   "metadata": {},
   "outputs": [],
   "source": [
    "# Store the default recall from the classification report\n",
    "default_recall = precision_recall_fscore_support(y_test,preds_df['loan_status'])[1][1]\n",
    "\n",
    "# Calculate the estimated impact of the new default recall rate\n",
    "print(num_churns * avg_loan_amnt * (1 - default_recall))"
   ]
  },
  {
   "cell_type": "code",
   "execution_count": 129,
   "metadata": {},
   "outputs": [
    {
     "data": {
      "text/plain": [
       "array([1, 0, 1, ..., 1, 0, 0])"
      ]
     },
     "execution_count": 129,
     "metadata": {},
     "output_type": "execute_result"
    }
   ],
   "source": [
    "probs1 = (final_pipeline.predict_proba(X_val)[:,1]>=0.24).astype(int)\n",
    "probs1"
   ]
  },
  {
   "cell_type": "code",
   "execution_count": 276,
   "metadata": {},
   "outputs": [
    {
     "name": "stdout",
     "output_type": "stream",
     "text": [
      "483\n"
     ]
    }
   ],
   "source": [
    "# Create a scorer assigning more cost to false positives\n",
    "def my_scorer(y_test, y_est, cost_fp=1, cost_fn=2):\n",
    "    tn, fp, fn, tp = confusion_matrix(y_test, y_est).ravel()\n",
    "    return cost_fp*fp + cost_fn*fn\n",
    "\n",
    "clf = final_pipeline.fit(X_train, y_train)\n",
    "print(my_scorer(y_val, clf.predict(X_val)))"
   ]
  }
 ],
 "metadata": {
  "interpreter": {
   "hash": "3e49c3c660bb3da03bb80538bab8d3b7446076cf250c2919d2328cdd966089b9"
  },
  "kernelspec": {
   "display_name": "Python 3.9.7 ('env_full')",
   "language": "python",
   "name": "python3"
  },
  "language_info": {
   "codemirror_mode": {
    "name": "ipython",
    "version": 3
   },
   "file_extension": ".py",
   "mimetype": "text/x-python",
   "name": "python",
   "nbconvert_exporter": "python",
   "pygments_lexer": "ipython3",
   "version": "3.9.7"
  },
  "orig_nbformat": 4
 },
 "nbformat": 4,
 "nbformat_minor": 2
}
